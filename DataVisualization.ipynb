{
 "cells": [
  {
   "cell_type": "markdown",
   "metadata": {},
   "source": [
    "# Data Visualizations"
   ]
  },
  {
   "cell_type": "markdown",
   "metadata": {},
   "source": [
    "## Data Prep "
   ]
  },
  {
   "cell_type": "code",
   "execution_count": 43,
   "metadata": {},
   "outputs": [],
   "source": [
    "import pandas as pd\n",
    "from scipy import stats\n",
    "import numpy as np\n",
    "import matplotlib.pyplot as plt\n",
    "import seaborn as sns\n",
    "\n",
    "from IPython.display import Image\n",
    "from ipywidgets import interact, fixed"
   ]
  },
  {
   "cell_type": "code",
   "execution_count": 44,
   "metadata": {},
   "outputs": [],
   "source": [
    "%matplotlib inline\n",
    "\n",
    "import matplotlib as mpl\n",
    "mpl.rcParams[\"figure.figsize\"] = (6, 6)"
   ]
  },
  {
   "cell_type": "code",
   "execution_count": 45,
   "metadata": {},
   "outputs": [
    {
     "data": {
      "text/html": [
       "<div>\n",
       "<style scoped>\n",
       "    .dataframe tbody tr th:only-of-type {\n",
       "        vertical-align: middle;\n",
       "    }\n",
       "\n",
       "    .dataframe tbody tr th {\n",
       "        vertical-align: top;\n",
       "    }\n",
       "\n",
       "    .dataframe thead th {\n",
       "        text-align: right;\n",
       "    }\n",
       "</style>\n",
       "<table border=\"1\" class=\"dataframe\">\n",
       "  <thead>\n",
       "    <tr style=\"text-align: right;\">\n",
       "      <th></th>\n",
       "      <th>ID Único</th>\n",
       "      <th>Data</th>\n",
       "      <th>Unidade</th>\n",
       "      <th>Grupo EFR</th>\n",
       "      <th>Grupo Rúbrica</th>\n",
       "      <th>Tipo Rúbrica</th>\n",
       "      <th>Sexo</th>\n",
       "      <th>Data de Nascimento</th>\n",
       "      <th>Unnamed: 8</th>\n",
       "      <th>Unnamed: 9</th>\n",
       "    </tr>\n",
       "  </thead>\n",
       "  <tbody>\n",
       "    <tr>\n",
       "      <th>0</th>\n",
       "      <td>1</td>\n",
       "      <td>20-02-2017</td>\n",
       "      <td>HCIS</td>\n",
       "      <td>PARTICULARES</td>\n",
       "      <td>RX CONVENCIONAL</td>\n",
       "      <td>CONSULTA EXTERNA</td>\n",
       "      <td>F</td>\n",
       "      <td>1961</td>\n",
       "      <td>NaN</td>\n",
       "      <td>NaN</td>\n",
       "    </tr>\n",
       "    <tr>\n",
       "      <th>1</th>\n",
       "      <td>1</td>\n",
       "      <td>26-07-2017</td>\n",
       "      <td>CCA</td>\n",
       "      <td>PARTICULARES</td>\n",
       "      <td>URGÊNCIA GERAL</td>\n",
       "      <td>URGÊNCIAS</td>\n",
       "      <td>F</td>\n",
       "      <td>1961</td>\n",
       "      <td>NaN</td>\n",
       "      <td>This is just some randomly generated data. It ...</td>\n",
       "    </tr>\n",
       "    <tr>\n",
       "      <th>2</th>\n",
       "      <td>1</td>\n",
       "      <td>04-08-2017</td>\n",
       "      <td>HCS</td>\n",
       "      <td>ADSE</td>\n",
       "      <td>GASTROENTEROLOGIA</td>\n",
       "      <td>IMAGIOLOGIA</td>\n",
       "      <td>F</td>\n",
       "      <td>1961</td>\n",
       "      <td>NaN</td>\n",
       "      <td>NaN</td>\n",
       "    </tr>\n",
       "    <tr>\n",
       "      <th>3</th>\n",
       "      <td>1</td>\n",
       "      <td>15-09-2017</td>\n",
       "      <td>HCIS</td>\n",
       "      <td>ADSE</td>\n",
       "      <td>RECOBRO</td>\n",
       "      <td>NaN</td>\n",
       "      <td>F</td>\n",
       "      <td>1961</td>\n",
       "      <td>NaN</td>\n",
       "      <td>NaN</td>\n",
       "    </tr>\n",
       "    <tr>\n",
       "      <th>4</th>\n",
       "      <td>2</td>\n",
       "      <td>12-01-2017</td>\n",
       "      <td>HCS</td>\n",
       "      <td>ADSE</td>\n",
       "      <td>NEURO-CIRURGIA</td>\n",
       "      <td>URGÊNCIAS</td>\n",
       "      <td>F</td>\n",
       "      <td>1971</td>\n",
       "      <td>NaN</td>\n",
       "      <td>NaN</td>\n",
       "    </tr>\n",
       "  </tbody>\n",
       "</table>\n",
       "</div>"
      ],
      "text/plain": [
       "   ID Único        Data Unidade     Grupo EFR      Grupo Rúbrica  \\\n",
       "0         1  20-02-2017    HCIS  PARTICULARES    RX CONVENCIONAL   \n",
       "1         1  26-07-2017     CCA  PARTICULARES     URGÊNCIA GERAL   \n",
       "2         1  04-08-2017     HCS          ADSE  GASTROENTEROLOGIA   \n",
       "3         1  15-09-2017    HCIS          ADSE            RECOBRO   \n",
       "4         2  12-01-2017     HCS          ADSE     NEURO-CIRURGIA   \n",
       "\n",
       "       Tipo Rúbrica Sexo  Data de Nascimento  Unnamed: 8  \\\n",
       "0  CONSULTA EXTERNA    F                1961         NaN   \n",
       "1         URGÊNCIAS    F                1961         NaN   \n",
       "2       IMAGIOLOGIA    F                1961         NaN   \n",
       "3               NaN    F                1961         NaN   \n",
       "4         URGÊNCIAS    F                1971         NaN   \n",
       "\n",
       "                                          Unnamed: 9  \n",
       "0                                                NaN  \n",
       "1  This is just some randomly generated data. It ...  \n",
       "2                                                NaN  \n",
       "3                                                NaN  \n",
       "4                                                NaN  "
      ]
     },
     "execution_count": 45,
     "metadata": {},
     "output_type": "execute_result"
    }
   ],
   "source": [
    "data = pd.read_csv(\"SampleData.csv\")\n",
    "data.head()"
   ]
  },
  {
   "cell_type": "code",
   "execution_count": 46,
   "metadata": {},
   "outputs": [
    {
     "data": {
      "text/html": [
       "<div>\n",
       "<style scoped>\n",
       "    .dataframe tbody tr th:only-of-type {\n",
       "        vertical-align: middle;\n",
       "    }\n",
       "\n",
       "    .dataframe tbody tr th {\n",
       "        vertical-align: top;\n",
       "    }\n",
       "\n",
       "    .dataframe thead th {\n",
       "        text-align: right;\n",
       "    }\n",
       "</style>\n",
       "<table border=\"1\" class=\"dataframe\">\n",
       "  <thead>\n",
       "    <tr style=\"text-align: right;\">\n",
       "      <th></th>\n",
       "      <th>UniqueID</th>\n",
       "      <th>Date</th>\n",
       "      <th>Facility</th>\n",
       "      <th>Payer</th>\n",
       "      <th>SpecificService</th>\n",
       "      <th>CategoryofService</th>\n",
       "      <th>Sex</th>\n",
       "      <th>BirthYear</th>\n",
       "      <th>Unnamed: 8</th>\n",
       "      <th>Unnamed: 9</th>\n",
       "    </tr>\n",
       "  </thead>\n",
       "  <tbody>\n",
       "    <tr>\n",
       "      <th>0</th>\n",
       "      <td>1</td>\n",
       "      <td>20-02-2017</td>\n",
       "      <td>HCIS</td>\n",
       "      <td>PARTICULARES</td>\n",
       "      <td>RX CONVENCIONAL</td>\n",
       "      <td>CONSULTA EXTERNA</td>\n",
       "      <td>F</td>\n",
       "      <td>1961</td>\n",
       "      <td>NaN</td>\n",
       "      <td>NaN</td>\n",
       "    </tr>\n",
       "    <tr>\n",
       "      <th>1</th>\n",
       "      <td>1</td>\n",
       "      <td>26-07-2017</td>\n",
       "      <td>CCA</td>\n",
       "      <td>PARTICULARES</td>\n",
       "      <td>URGÊNCIA GERAL</td>\n",
       "      <td>URGÊNCIAS</td>\n",
       "      <td>F</td>\n",
       "      <td>1961</td>\n",
       "      <td>NaN</td>\n",
       "      <td>This is just some randomly generated data. It ...</td>\n",
       "    </tr>\n",
       "  </tbody>\n",
       "</table>\n",
       "</div>"
      ],
      "text/plain": [
       "   UniqueID        Date Facility         Payer  SpecificService  \\\n",
       "0         1  20-02-2017     HCIS  PARTICULARES  RX CONVENCIONAL   \n",
       "1         1  26-07-2017      CCA  PARTICULARES   URGÊNCIA GERAL   \n",
       "\n",
       "  CategoryofService Sex  BirthYear  Unnamed: 8  \\\n",
       "0  CONSULTA EXTERNA   F       1961         NaN   \n",
       "1         URGÊNCIAS   F       1961         NaN   \n",
       "\n",
       "                                          Unnamed: 9  \n",
       "0                                                NaN  \n",
       "1  This is just some randomly generated data. It ...  "
      ]
     },
     "execution_count": 46,
     "metadata": {},
     "output_type": "execute_result"
    }
   ],
   "source": [
    "data = df.rename(columns={\n",
    "    \"ID Único\":\"UniqueID\",\n",
    "    \"Data\":\"Date\", \n",
    "    \"Unidade\":\"Facility\",\n",
    "    \"Grupo EFR\":\"Payer\",\n",
    "    \"Grupo Rúbrica\":\"SpecificService\", \n",
    "    \"Tipo Rúbrica\":\"CategoryofService\",\n",
    "    \"Sexo\":\"Sex\",\n",
    "    \"Data de Nascimento\":\"BirthYear\",\n",
    "})\n",
    "\n",
    "data.head(2)"
   ]
  },
  {
   "cell_type": "code",
   "execution_count": 47,
   "metadata": {},
   "outputs": [],
   "source": [
    "data[\"Age\"]= 2019 - data[\"BirthYear\"]"
   ]
  },
  {
   "cell_type": "code",
   "execution_count": 48,
   "metadata": {},
   "outputs": [],
   "source": [
    "del data[\"BirthYear\"]"
   ]
  },
  {
   "cell_type": "markdown",
   "metadata": {},
   "source": [
    "## Boxplot with Age and Categorical Variables"
   ]
  },
  {
   "cell_type": "code",
   "execution_count": 38,
   "metadata": {},
   "outputs": [
    {
     "data": {
      "image/png": "[encoded data removed]",
      "text/plain": [
       "<Figure size 360x360 with 1 Axes>"
      ]
     },
     "metadata": {
      "needs_background": "light"
     },
     "output_type": "display_data"
    }
   ],
   "source": [
    "sns.catplot(x=\"Facility\", y=\"Age\", kind=\"box\", data=data);"
   ]
  },
  {
   "cell_type": "code",
   "execution_count": 40,
   "metadata": {},
   "outputs": [
    {
     "data": {
      "text/plain": [
       "(array([ 0,  1,  2,  3,  4,  5,  6,  7,  8,  9, 10]),\n",
       " <a list of 11 Text xticklabel objects>)"
      ]
     },
     "execution_count": 40,
     "metadata": {},
     "output_type": "execute_result"
    },
    {
     "data": {
      "image/png": "[encoded data removed]",
      "text/plain": [
       "<Figure size 360x360 with 1 Axes>"
      ]
     },
     "metadata": {
      "needs_background": "light"
     },
     "output_type": "display_data"
    }
   ],
   "source": [
    "sns.catplot(x=\"CategoryofService\", y=\"Age\", kind=\"box\", data=data);\n",
    "plt.xticks(rotation=90)"
   ]
  },
  {
   "cell_type": "code",
   "execution_count": 41,
   "metadata": {},
   "outputs": [
    {
     "data": {
      "text/plain": [
       "(array([0, 1]), <a list of 2 Text xticklabel objects>)"
      ]
     },
     "execution_count": 41,
     "metadata": {},
     "output_type": "execute_result"
    },
    {
     "data": {
      "image/png": "[encoded data removed]",
      "text/plain": [
       "<Figure size 360x360 with 1 Axes>"
      ]
     },
     "metadata": {
      "needs_background": "light"
     },
     "output_type": "display_data"
    }
   ],
   "source": [
    "sns.catplot(x=\"Sex\", y=\"Age\", kind=\"box\", data=data);\n",
    "plt.xticks(rotation=90)"
   ]
  },
  {
   "cell_type": "code",
   "execution_count": null,
   "metadata": {},
   "outputs": [],
   "source": []
  },
  {
   "cell_type": "markdown",
   "metadata": {},
   "source": [
    "## Violin Plots"
   ]
  },
  {
   "cell_type": "code",
   "execution_count": 52,
   "metadata": {},
   "outputs": [
    {
     "data": {
      "text/plain": [
       "(array([ 0,  1,  2,  3,  4,  5,  6,  7,  8,  9, 10]),\n",
       " <a list of 11 Text xticklabel objects>)"
      ]
     },
     "execution_count": 52,
     "metadata": {},
     "output_type": "execute_result"
    },
    {
     "data": {
      "image/png": "[encoded data removed]",
      "text/plain": [
       "<Figure size 404.625x360 with 1 Axes>"
      ]
     },
     "metadata": {
      "needs_background": "light"
     },
     "output_type": "display_data"
    }
   ],
   "source": [
    "sns.catplot(x=\"CategoryofService\", y=\"Age\", hue=\"Sex\",\n",
    "            kind=\"violin\", inner=\"stick\", split=True,\n",
    "            palette=\"pastel\", data=data);\n",
    "plt.xticks(rotation=90)"
   ]
  },
  {
   "cell_type": "code",
   "execution_count": null,
   "metadata": {},
   "outputs": [],
   "source": []
  },
  {
   "cell_type": "code",
   "execution_count": null,
   "metadata": {},
   "outputs": [],
   "source": []
  },
  {
   "cell_type": "code",
   "execution_count": null,
   "metadata": {},
   "outputs": [],
   "source": [
    "value_by_city = df.groupby(\"TOWN\")[\"MEDV\"].mean()\n",
    "value_by_city.head()"
   ]
  }
 ],
 "metadata": {
  "kernelspec": {
   "display_name": "Python 3",
   "language": "python",
   "name": "python3"
  },
  "language_info": {
   "codemirror_mode": {
    "name": "ipython",
    "version": 3
   },
   "file_extension": ".py",
   "mimetype": "text/x-python",
   "name": "python",
   "nbconvert_exporter": "python",
   "pygments_lexer": "ipython3",
   "version": "3.7.3"
  }
 },
 "nbformat": 4,
 "nbformat_minor": 2
}
