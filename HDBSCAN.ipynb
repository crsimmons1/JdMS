{
 "cells": [
  {
   "cell_type": "markdown",
   "metadata": {},
   "source": [
    "## Reloading data and pca data"
   ]
  },
  {
   "cell_type": "code",
   "execution_count": 1,
   "metadata": {},
   "outputs": [],
   "source": [
    "from sklearn.datasets import fetch_mldata\n",
    "from sklearn.decomposition import PCA\n",
    "import numpy as np\n",
    "import pandas as pd\n",
    "import dask.dataframe as dd\n",
    "\n",
    "\n",
    "import matplotlib.pyplot as plt\n",
    "import seaborn as sns\n",
    "%matplotlib inline\n",
    "\n",
    "# Dimension reduction and clustering libraries\n",
    "import umap\n",
    "import hdbscan\n",
    "import sklearn.cluster as cluster\n",
    "from sklearn.metrics import adjusted_rand_score, adjusted_mutual_info_score"
   ]
  },
  {
   "cell_type": "code",
   "execution_count": 2,
   "metadata": {},
   "outputs": [],
   "source": [
    "import warnings\n",
    "warnings.simplefilter(\"ignore\")"
   ]
  },
  {
   "cell_type": "code",
   "execution_count": null,
   "metadata": {},
   "outputs": [],
   "source": [
    "#data = pd.read_csv('Data/customer_data.csv')"
   ]
  },
  {
   "cell_type": "code",
   "execution_count": null,
   "metadata": {},
   "outputs": [],
   "source": [
    "#data_pca = pd.read_csv('Data/pca_customer_data.csv')"
   ]
  },
  {
   "cell_type": "code",
   "execution_count": 187,
   "metadata": {},
   "outputs": [],
   "source": [
    "data = dd.read_csv('Data/customer_data.csv')"
   ]
  },
  {
   "cell_type": "code",
   "execution_count": 188,
   "metadata": {},
   "outputs": [],
   "source": [
    "data_pca = dd.read_csv('Data/pca_customer_data.csv')"
   ]
  },
  {
   "cell_type": "code",
   "execution_count": 189,
   "metadata": {},
   "outputs": [],
   "source": [
    "del data_pca['Unnamed: 0']\n",
    "del data_pca['UniqueID']\n",
    "del data['Unnamed: 0']"
   ]
  },
  {
   "cell_type": "code",
   "execution_count": 138,
   "metadata": {},
   "outputs": [
    {
     "data": {
      "text/html": [
       "<div>\n",
       "<style scoped>\n",
       "    .dataframe tbody tr th:only-of-type {\n",
       "        vertical-align: middle;\n",
       "    }\n",
       "\n",
       "    .dataframe tbody tr th {\n",
       "        vertical-align: top;\n",
       "    }\n",
       "\n",
       "    .dataframe thead th {\n",
       "        text-align: right;\n",
       "    }\n",
       "</style>\n",
       "<table border=\"1\" class=\"dataframe\">\n",
       "  <thead>\n",
       "    <tr style=\"text-align: right;\">\n",
       "      <th></th>\n",
       "      <th>PC1</th>\n",
       "      <th>PC2</th>\n",
       "      <th>PC3</th>\n",
       "      <th>PC4</th>\n",
       "      <th>PC5</th>\n",
       "      <th>PC6</th>\n",
       "      <th>PC7</th>\n",
       "      <th>PC8</th>\n",
       "      <th>PC9</th>\n",
       "      <th>PC10</th>\n",
       "      <th>PC11</th>\n",
       "      <th>PC12</th>\n",
       "      <th>PC13</th>\n",
       "      <th>PC14</th>\n",
       "    </tr>\n",
       "  </thead>\n",
       "  <tbody>\n",
       "    <tr>\n",
       "      <th>0</th>\n",
       "      <td>-0.363684</td>\n",
       "      <td>-0.071254</td>\n",
       "      <td>0.020346</td>\n",
       "      <td>-0.039878</td>\n",
       "      <td>0.269947</td>\n",
       "      <td>-0.140284</td>\n",
       "      <td>0.768594</td>\n",
       "      <td>0.415667</td>\n",
       "      <td>-0.246301</td>\n",
       "      <td>-0.001240</td>\n",
       "      <td>0.221670</td>\n",
       "      <td>-0.386232</td>\n",
       "      <td>-0.350949</td>\n",
       "      <td>0.762481</td>\n",
       "    </tr>\n",
       "    <tr>\n",
       "      <th>1</th>\n",
       "      <td>-0.364945</td>\n",
       "      <td>-0.194907</td>\n",
       "      <td>0.028743</td>\n",
       "      <td>-0.203430</td>\n",
       "      <td>0.119507</td>\n",
       "      <td>0.632649</td>\n",
       "      <td>1.103069</td>\n",
       "      <td>0.025847</td>\n",
       "      <td>-0.007877</td>\n",
       "      <td>-0.107257</td>\n",
       "      <td>-0.131542</td>\n",
       "      <td>-0.144859</td>\n",
       "      <td>-0.015719</td>\n",
       "      <td>-0.018377</td>\n",
       "    </tr>\n",
       "    <tr>\n",
       "      <th>2</th>\n",
       "      <td>-0.360729</td>\n",
       "      <td>-0.138560</td>\n",
       "      <td>0.000326</td>\n",
       "      <td>-0.077302</td>\n",
       "      <td>0.066957</td>\n",
       "      <td>-0.059903</td>\n",
       "      <td>0.013442</td>\n",
       "      <td>0.140903</td>\n",
       "      <td>-0.160615</td>\n",
       "      <td>0.094486</td>\n",
       "      <td>0.451730</td>\n",
       "      <td>0.007629</td>\n",
       "      <td>-0.334301</td>\n",
       "      <td>0.782349</td>\n",
       "    </tr>\n",
       "    <tr>\n",
       "      <th>3</th>\n",
       "      <td>-0.371532</td>\n",
       "      <td>0.093126</td>\n",
       "      <td>0.702033</td>\n",
       "      <td>-0.209900</td>\n",
       "      <td>-0.375004</td>\n",
       "      <td>0.014823</td>\n",
       "      <td>-0.194265</td>\n",
       "      <td>0.183428</td>\n",
       "      <td>-0.244426</td>\n",
       "      <td>0.095214</td>\n",
       "      <td>0.503775</td>\n",
       "      <td>-0.396859</td>\n",
       "      <td>0.687686</td>\n",
       "      <td>-0.165639</td>\n",
       "    </tr>\n",
       "    <tr>\n",
       "      <th>4</th>\n",
       "      <td>-0.356321</td>\n",
       "      <td>-0.147192</td>\n",
       "      <td>0.035836</td>\n",
       "      <td>-0.277386</td>\n",
       "      <td>0.765923</td>\n",
       "      <td>0.116238</td>\n",
       "      <td>-0.367736</td>\n",
       "      <td>-0.052919</td>\n",
       "      <td>0.008150</td>\n",
       "      <td>0.197611</td>\n",
       "      <td>0.270320</td>\n",
       "      <td>-0.330237</td>\n",
       "      <td>-0.316658</td>\n",
       "      <td>0.796324</td>\n",
       "    </tr>\n",
       "  </tbody>\n",
       "</table>\n",
       "</div>"
      ],
      "text/plain": [
       "        PC1       PC2       PC3       PC4       PC5       PC6       PC7  \\\n",
       "0 -0.363684 -0.071254  0.020346 -0.039878  0.269947 -0.140284  0.768594   \n",
       "1 -0.364945 -0.194907  0.028743 -0.203430  0.119507  0.632649  1.103069   \n",
       "2 -0.360729 -0.138560  0.000326 -0.077302  0.066957 -0.059903  0.013442   \n",
       "3 -0.371532  0.093126  0.702033 -0.209900 -0.375004  0.014823 -0.194265   \n",
       "4 -0.356321 -0.147192  0.035836 -0.277386  0.765923  0.116238 -0.367736   \n",
       "\n",
       "        PC8       PC9      PC10      PC11      PC12      PC13      PC14  \n",
       "0  0.415667 -0.246301 -0.001240  0.221670 -0.386232 -0.350949  0.762481  \n",
       "1  0.025847 -0.007877 -0.107257 -0.131542 -0.144859 -0.015719 -0.018377  \n",
       "2  0.140903 -0.160615  0.094486  0.451730  0.007629 -0.334301  0.782349  \n",
       "3  0.183428 -0.244426  0.095214  0.503775 -0.396859  0.687686 -0.165639  \n",
       "4 -0.052919  0.008150  0.197611  0.270320 -0.330237 -0.316658  0.796324  "
      ]
     },
     "execution_count": 138,
     "metadata": {},
     "output_type": "execute_result"
    }
   ],
   "source": [
    "data_pca.head()"
   ]
  },
  {
   "cell_type": "code",
   "execution_count": 139,
   "metadata": {},
   "outputs": [
    {
     "data": {
      "text/html": [
       "<div>\n",
       "<style scoped>\n",
       "    .dataframe tbody tr th:only-of-type {\n",
       "        vertical-align: middle;\n",
       "    }\n",
       "\n",
       "    .dataframe tbody tr th {\n",
       "        vertical-align: top;\n",
       "    }\n",
       "\n",
       "    .dataframe thead th {\n",
       "        text-align: right;\n",
       "    }\n",
       "</style>\n",
       "<table border=\"1\" class=\"dataframe\">\n",
       "  <thead>\n",
       "    <tr style=\"text-align: right;\">\n",
       "      <th></th>\n",
       "      <th>UniqueID</th>\n",
       "      <th>FrequencyofVisits</th>\n",
       "      <th>Age</th>\n",
       "      <th>Sex</th>\n",
       "      <th>Payer</th>\n",
       "      <th>Facility</th>\n",
       "    </tr>\n",
       "  </thead>\n",
       "  <tbody>\n",
       "    <tr>\n",
       "      <th>0</th>\n",
       "      <td>5962ec84553dcb84e508e2fc45789278</td>\n",
       "      <td>12</td>\n",
       "      <td>37.0</td>\n",
       "      <td>Feminino</td>\n",
       "      <td>ADVANCECARE</td>\n",
       "      <td>CCB</td>\n",
       "    </tr>\n",
       "    <tr>\n",
       "      <th>1</th>\n",
       "      <td>547c0d52bbfe1b93b9411d7b55f3bd82</td>\n",
       "      <td>3</td>\n",
       "      <td>37.0</td>\n",
       "      <td>Feminino</td>\n",
       "      <td>ADVANCECARE</td>\n",
       "      <td>HCP</td>\n",
       "    </tr>\n",
       "    <tr>\n",
       "      <th>2</th>\n",
       "      <td>1770ad573874abe83cd04bfaf89c8eb6</td>\n",
       "      <td>2</td>\n",
       "      <td>37.0</td>\n",
       "      <td>Feminino</td>\n",
       "      <td>ENTIDADES COM DESCONTO</td>\n",
       "      <td>CCB</td>\n",
       "    </tr>\n",
       "    <tr>\n",
       "      <th>3</th>\n",
       "      <td>11b9573f2fc9dd49594cd1f301cb7be6</td>\n",
       "      <td>16</td>\n",
       "      <td>37.0</td>\n",
       "      <td>Feminino</td>\n",
       "      <td>MÉDIS</td>\n",
       "      <td>HCS</td>\n",
       "    </tr>\n",
       "    <tr>\n",
       "      <th>4</th>\n",
       "      <td>84fdd6d40ab2a9b95f3c957237225d33</td>\n",
       "      <td>1</td>\n",
       "      <td>37.0</td>\n",
       "      <td>Feminino</td>\n",
       "      <td>PARTICULARES</td>\n",
       "      <td>CCB</td>\n",
       "    </tr>\n",
       "  </tbody>\n",
       "</table>\n",
       "</div>"
      ],
      "text/plain": [
       "                           UniqueID  FrequencyofVisits   Age       Sex  \\\n",
       "0  5962ec84553dcb84e508e2fc45789278                 12  37.0  Feminino   \n",
       "1  547c0d52bbfe1b93b9411d7b55f3bd82                  3  37.0  Feminino   \n",
       "2  1770ad573874abe83cd04bfaf89c8eb6                  2  37.0  Feminino   \n",
       "3  11b9573f2fc9dd49594cd1f301cb7be6                 16  37.0  Feminino   \n",
       "4  84fdd6d40ab2a9b95f3c957237225d33                  1  37.0  Feminino   \n",
       "\n",
       "                    Payer Facility  \n",
       "0             ADVANCECARE      CCB  \n",
       "1             ADVANCECARE      HCP  \n",
       "2  ENTIDADES COM DESCONTO      CCB  \n",
       "3                   MÉDIS      HCS  \n",
       "4            PARTICULARES      CCB  "
      ]
     },
     "execution_count": 139,
     "metadata": {},
     "output_type": "execute_result"
    }
   ],
   "source": [
    "data.head()"
   ]
  },
  {
   "cell_type": "markdown",
   "metadata": {},
   "source": [
    "## HDBSCAN"
   ]
  },
  {
   "cell_type": "code",
   "execution_count": 8,
   "metadata": {},
   "outputs": [],
   "source": [
    "from hdbscan import HDBSCAN"
   ]
  },
  {
   "cell_type": "code",
   "execution_count": 174,
   "metadata": {},
   "outputs": [],
   "source": [
    "#data = data.head(100000)"
   ]
  },
  {
   "cell_type": "code",
   "execution_count": 175,
   "metadata": {},
   "outputs": [],
   "source": [
    "#data_pca=data_pca.head(100000)"
   ]
  },
  {
   "cell_type": "code",
   "execution_count": 190,
   "metadata": {},
   "outputs": [
    {
     "data": {
      "text/plain": [
       "810341"
      ]
     },
     "execution_count": 190,
     "metadata": {},
     "output_type": "execute_result"
    }
   ],
   "source": [
    "len(data['Age']) # check that the loc worked "
   ]
  },
  {
   "cell_type": "code",
   "execution_count": 191,
   "metadata": {},
   "outputs": [
    {
     "data": {
      "text/plain": [
       "810341"
      ]
     },
     "execution_count": 191,
     "metadata": {},
     "output_type": "execute_result"
    }
   ],
   "source": [
    "len(data_pca['PC1']) # check that the loc worked "
   ]
  },
  {
   "cell_type": "code",
   "execution_count": 192,
   "metadata": {},
   "outputs": [],
   "source": [
    "clusterer_hdbscan = HDBSCAN(min_cluster_size=24000)"
   ]
  },
  {
   "cell_type": "code",
   "execution_count": null,
   "metadata": {},
   "outputs": [],
   "source": [
    "hdbscan_labels = clusterer_hdbscan.fit_predict(data_pca)"
   ]
  },
  {
   "cell_type": "code",
   "execution_count": 180,
   "metadata": {},
   "outputs": [
    {
     "data": {
      "text/plain": [
       "array([-1,  0,  1,  2,  3,  4])"
      ]
     },
     "execution_count": 180,
     "metadata": {},
     "output_type": "execute_result"
    }
   ],
   "source": [
    "np.unique(hdbscan_labels)"
   ]
  },
  {
   "cell_type": "code",
   "execution_count": 181,
   "metadata": {},
   "outputs": [],
   "source": [
    "cluster_id = hdbscan_labels"
   ]
  },
  {
   "cell_type": "code",
   "execution_count": 182,
   "metadata": {},
   "outputs": [],
   "source": [
    "data['cluster_id'] = cluster_id"
   ]
  },
  {
   "cell_type": "code",
   "execution_count": 183,
   "metadata": {},
   "outputs": [],
   "source": [
    "data['cluster_id']= data['cluster_id'].replace(-1,(len(np.unique(hdbscan_labels))-1)) #figure out how to replace the -1 with the length of clusters "
   ]
  },
  {
   "cell_type": "code",
   "execution_count": 184,
   "metadata": {},
   "outputs": [
    {
     "data": {
      "text/plain": [
       "array([5, 3, 0, 2, 4, 1])"
      ]
     },
     "execution_count": 184,
     "metadata": {},
     "output_type": "execute_result"
    }
   ],
   "source": [
    "data.cluster_id.unique()"
   ]
  },
  {
   "cell_type": "code",
   "execution_count": 185,
   "metadata": {},
   "outputs": [],
   "source": [
    "del data['UniqueID']"
   ]
  },
  {
   "cell_type": "code",
   "execution_count": 169,
   "metadata": {},
   "outputs": [],
   "source": [
    "categorical_data = data.select_dtypes([object, \"category\"])"
   ]
  },
  {
   "cell_type": "code",
   "execution_count": 111,
   "metadata": {},
   "outputs": [],
   "source": [
    "def cluster_summary(cluster_id):\n",
    "    cluster = data[data.cluster_id==cluster_id]\n",
    "    cluster_summary = cluster[categorical_data.columns].mode().to_dict(orient=\"records\")[0]\n",
    "    cluster_summary.update(cluster.median().to_dict())\n",
    "    return cluster_summary"
   ]
  },
  {
   "cell_type": "code",
   "execution_count": 112,
   "metadata": {},
   "outputs": [],
   "source": [
    "def cluster_comparison(*cluster_ids):\n",
    "    summaries = []\n",
    "    for cluster_id in cluster_ids:\n",
    "        summaries.append(cluster_summary(cluster_id))\n",
    "    return pd.DataFrame(summaries).set_index(\"cluster_id\").T"
   ]
  },
  {
   "cell_type": "code",
   "execution_count": 186,
   "metadata": {},
   "outputs": [
    {
     "data": {
      "text/html": [
       "<div>\n",
       "<style scoped>\n",
       "    .dataframe tbody tr th:only-of-type {\n",
       "        vertical-align: middle;\n",
       "    }\n",
       "\n",
       "    .dataframe tbody tr th {\n",
       "        vertical-align: top;\n",
       "    }\n",
       "\n",
       "    .dataframe thead th {\n",
       "        text-align: right;\n",
       "    }\n",
       "</style>\n",
       "<table border=\"1\" class=\"dataframe\">\n",
       "  <thead>\n",
       "    <tr style=\"text-align: right;\">\n",
       "      <th>cluster_id</th>\n",
       "      <th>0.0</th>\n",
       "      <th>1.0</th>\n",
       "      <th>2.0</th>\n",
       "      <th>3.0</th>\n",
       "      <th>4.0</th>\n",
       "      <th>5.0</th>\n",
       "    </tr>\n",
       "  </thead>\n",
       "  <tbody>\n",
       "    <tr>\n",
       "      <th>Age</th>\n",
       "      <td>55</td>\n",
       "      <td>56</td>\n",
       "      <td>54</td>\n",
       "      <td>53</td>\n",
       "      <td>54</td>\n",
       "      <td>55</td>\n",
       "    </tr>\n",
       "    <tr>\n",
       "      <th>Facility</th>\n",
       "      <td>HCD</td>\n",
       "      <td>HCD</td>\n",
       "      <td>HCD</td>\n",
       "      <td>CCA</td>\n",
       "      <td>HCV</td>\n",
       "      <td>HCP</td>\n",
       "    </tr>\n",
       "    <tr>\n",
       "      <th>FrequencyofVisits</th>\n",
       "      <td>6</td>\n",
       "      <td>4</td>\n",
       "      <td>5</td>\n",
       "      <td>4</td>\n",
       "      <td>4</td>\n",
       "      <td>4</td>\n",
       "    </tr>\n",
       "    <tr>\n",
       "      <th>Payer</th>\n",
       "      <td>MÉDIS</td>\n",
       "      <td>MULTICARE</td>\n",
       "      <td>MULTICARE</td>\n",
       "      <td>MULTICARE</td>\n",
       "      <td>ADSE</td>\n",
       "      <td>ADSE</td>\n",
       "    </tr>\n",
       "    <tr>\n",
       "      <th>Sex</th>\n",
       "      <td>Feminino</td>\n",
       "      <td>Masculino</td>\n",
       "      <td>Feminino</td>\n",
       "      <td>Feminino</td>\n",
       "      <td>Feminino</td>\n",
       "      <td>Feminino</td>\n",
       "    </tr>\n",
       "  </tbody>\n",
       "</table>\n",
       "</div>"
      ],
      "text/plain": [
       "cluster_id              0.0        1.0        2.0        3.0       4.0  \\\n",
       "Age                      55         56         54         53        54   \n",
       "Facility                HCD        HCD        HCD        CCA       HCV   \n",
       "FrequencyofVisits         6          4          5          4         4   \n",
       "Payer                 MÉDIS  MULTICARE  MULTICARE  MULTICARE      ADSE   \n",
       "Sex                Feminino  Masculino   Feminino   Feminino  Feminino   \n",
       "\n",
       "cluster_id              5.0  \n",
       "Age                      55  \n",
       "Facility                HCP  \n",
       "FrequencyofVisits         4  \n",
       "Payer                  ADSE  \n",
       "Sex                Feminino  "
      ]
     },
     "execution_count": 186,
     "metadata": {},
     "output_type": "execute_result"
    }
   ],
   "source": [
    "cluster_comparison(0,1,2,3,4,5)"
   ]
  },
  {
   "cell_type": "code",
   "execution_count": 114,
   "metadata": {},
   "outputs": [],
   "source": [
    "'''from hdbscan import approximate_predict\n",
    "\n",
    "clusterer_hdbscan2 = HDBSCAN(prediction_data=True)\n",
    "hdbscan_labels2 = clusterer_hdbscan.fit_predict(data_pca)'''"
   ]
  },
  {
   "cell_type": "markdown",
   "metadata": {},
   "source": [
    "## UMAPS "
   ]
  },
  {
   "cell_type": "code",
   "execution_count": null,
   "metadata": {},
   "outputs": [],
   "source": [
    "clusterable_embedding = umap.UMAP(\n",
    "    n_neighbors=30,\n",
    "    min_dist=0.0,\n",
    "    n_components=2,\n",
    "    random_state=42,\n",
    ").fit_transform(data_pca)"
   ]
  },
  {
   "cell_type": "code",
   "execution_count": null,
   "metadata": {},
   "outputs": [],
   "source": []
  },
  {
   "cell_type": "code",
   "execution_count": null,
   "metadata": {},
   "outputs": [],
   "source": []
  },
  {
   "cell_type": "code",
   "execution_count": null,
   "metadata": {},
   "outputs": [],
   "source": []
  }
 ],
 "metadata": {
  "kernelspec": {
   "display_name": "Python 3",
   "language": "python",
   "name": "python3"
  },
  "language_info": {
   "codemirror_mode": {
    "name": "ipython",
    "version": 3
   },
   "file_extension": ".py",
   "mimetype": "text/x-python",
   "name": "python",
   "nbconvert_exporter": "python",
   "pygments_lexer": "ipython3",
   "version": "3.7.3"
  }
 },
 "nbformat": 4,
 "nbformat_minor": 2
}
