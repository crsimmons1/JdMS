{
 "cells": [
  {
   "cell_type": "markdown",
   "metadata": {},
   "source": [
    "# DBSCAN Model"
   ]
  },
  {
   "cell_type": "markdown",
   "metadata": {},
   "source": [
    "### Import packages and data"
   ]
  },
  {
   "cell_type": "code",
   "execution_count": 25,
   "metadata": {},
   "outputs": [],
   "source": [
    "import pandas as pd\n",
    "import numpy as np\n",
    "from sklearn.neighbors import DistanceMetric\n",
    "import warnings\n",
    "warnings.simplefilter(\"ignore\")\n",
    "import scipy.cluster.hierarchy as shc\n",
    "%matplotlib inline\n",
    "\n",
    "from sklearn.cluster import DBSCAN\n",
    "from sklearn.metrics import silhouette_score, homogeneity_completeness_v_measure\n",
    "\n",
    "import matplotlib.pyplot as plt\n",
    "from scipy.cluster import hierarchy\n",
    "from scipy.spatial import distance\n",
    "\n",
    "from sklearn import manifold\n",
    "from sklearn.decomposition import PCA\n",
    "\n",
    "data = pd.read_pickle(\"cleaned_data.pkl\")"
   ]
  },
  {
   "cell_type": "markdown",
   "metadata": {},
   "source": [
    "### Gower Distance"
   ]
  },
  {
   "cell_type": "code",
   "execution_count": 2,
   "metadata": {},
   "outputs": [],
   "source": [
    "def gower_distance(X):\n",
    "    \n",
    "    #Nominal variables: Dice distance (https://en.wikipedia.org/wiki/S%C3%B8rensen%E2%80%93Dice_coefficient)\n",
    "    #Numeric variables: Manhattan distance normalized by the range of the variable (https://en.wikipedia.org/wiki/Taxicab_geometry)\n",
    "    \n",
    "    individual_variable_distances = []\n",
    "\n",
    "    for i in range(X.shape[1]):\n",
    "        feature = X.iloc[:,[i]]\n",
    "        if feature.dtypes[0] == np.object:\n",
    "            feature_dist = DistanceMetric.get_metric('dice').pairwise(pd.get_dummies(feature))\n",
    "        else:\n",
    "            feature_dist = DistanceMetric.get_metric('manhattan').pairwise(feature) / np.ptp(feature.values)\n",
    "\n",
    "        individual_variable_distances.append(feature_dist)\n",
    "\n",
    "    return np.array(individual_variable_distances).mean(0)"
   ]
  },
  {
   "cell_type": "code",
   "execution_count": 6,
   "metadata": {},
   "outputs": [],
   "source": [
    "# Rename data to X\n",
    "X=data"
   ]
  },
  {
   "cell_type": "code",
   "execution_count": 8,
   "metadata": {},
   "outputs": [],
   "source": [
    "# Store the output of function gower_distance for X as dist \n",
    "dist=gower_distance(X)"
   ]
  },
  {
   "cell_type": "code",
   "execution_count": 9,
   "metadata": {},
   "outputs": [
    {
     "data": {
      "text/plain": [
       "(44, 44)"
      ]
     },
     "execution_count": 9,
     "metadata": {},
     "output_type": "execute_result"
    }
   ],
   "source": [
    "dist.shape"
   ]
  },
  {
   "cell_type": "code",
   "execution_count": 10,
   "metadata": {},
   "outputs": [
    {
     "data": {
      "text/plain": [
       "(44, 8)"
      ]
     },
     "execution_count": 10,
     "metadata": {},
     "output_type": "execute_result"
    }
   ],
   "source": [
    "data.shape"
   ]
  },
  {
   "cell_type": "code",
   "execution_count": 11,
   "metadata": {},
   "outputs": [],
   "source": [
    "dist1=pd.DataFrame(dist)"
   ]
  },
  {
   "cell_type": "code",
   "execution_count": 12,
   "metadata": {},
   "outputs": [
    {
     "data": {
      "text/html": [
       "<div>\n",
       "<style scoped>\n",
       "    .dataframe tbody tr th:only-of-type {\n",
       "        vertical-align: middle;\n",
       "    }\n",
       "\n",
       "    .dataframe tbody tr th {\n",
       "        vertical-align: top;\n",
       "    }\n",
       "\n",
       "    .dataframe thead th {\n",
       "        text-align: right;\n",
       "    }\n",
       "</style>\n",
       "<table border=\"1\" class=\"dataframe\">\n",
       "  <thead>\n",
       "    <tr style=\"text-align: right;\">\n",
       "      <th></th>\n",
       "      <th>0</th>\n",
       "      <th>1</th>\n",
       "      <th>2</th>\n",
       "      <th>3</th>\n",
       "      <th>4</th>\n",
       "      <th>5</th>\n",
       "      <th>6</th>\n",
       "      <th>7</th>\n",
       "      <th>8</th>\n",
       "      <th>9</th>\n",
       "      <th>...</th>\n",
       "      <th>34</th>\n",
       "      <th>35</th>\n",
       "      <th>36</th>\n",
       "      <th>37</th>\n",
       "      <th>38</th>\n",
       "      <th>39</th>\n",
       "      <th>40</th>\n",
       "      <th>41</th>\n",
       "      <th>42</th>\n",
       "      <th>43</th>\n",
       "    </tr>\n",
       "  </thead>\n",
       "  <tbody>\n",
       "    <tr>\n",
       "      <th>0</th>\n",
       "      <td>0.000000</td>\n",
       "      <td>0.375000</td>\n",
       "      <td>0.500000</td>\n",
       "      <td>0.375000</td>\n",
       "      <td>0.522204</td>\n",
       "      <td>0.397204</td>\n",
       "      <td>0.539720</td>\n",
       "      <td>0.530674</td>\n",
       "      <td>0.424753</td>\n",
       "      <td>0.549753</td>\n",
       "      <td>...</td>\n",
       "      <td>0.880263</td>\n",
       "      <td>0.755263</td>\n",
       "      <td>0.755263</td>\n",
       "      <td>0.505263</td>\n",
       "      <td>0.630263</td>\n",
       "      <td>0.880263</td>\n",
       "      <td>0.761842</td>\n",
       "      <td>0.810609</td>\n",
       "      <td>0.560609</td>\n",
       "      <td>0.787500</td>\n",
       "    </tr>\n",
       "    <tr>\n",
       "      <th>1</th>\n",
       "      <td>0.375000</td>\n",
       "      <td>0.000000</td>\n",
       "      <td>0.500000</td>\n",
       "      <td>0.500000</td>\n",
       "      <td>0.397204</td>\n",
       "      <td>0.397204</td>\n",
       "      <td>0.664720</td>\n",
       "      <td>0.655674</td>\n",
       "      <td>0.549753</td>\n",
       "      <td>0.549753</td>\n",
       "      <td>...</td>\n",
       "      <td>0.880263</td>\n",
       "      <td>0.630263</td>\n",
       "      <td>0.880263</td>\n",
       "      <td>0.755263</td>\n",
       "      <td>0.880263</td>\n",
       "      <td>0.880263</td>\n",
       "      <td>0.761842</td>\n",
       "      <td>0.810609</td>\n",
       "      <td>0.685609</td>\n",
       "      <td>0.787500</td>\n",
       "    </tr>\n",
       "    <tr>\n",
       "      <th>2</th>\n",
       "      <td>0.500000</td>\n",
       "      <td>0.500000</td>\n",
       "      <td>0.000000</td>\n",
       "      <td>0.375000</td>\n",
       "      <td>0.272204</td>\n",
       "      <td>0.522204</td>\n",
       "      <td>0.664720</td>\n",
       "      <td>0.530674</td>\n",
       "      <td>0.674753</td>\n",
       "      <td>0.424753</td>\n",
       "      <td>...</td>\n",
       "      <td>0.630263</td>\n",
       "      <td>0.755263</td>\n",
       "      <td>0.755263</td>\n",
       "      <td>0.880263</td>\n",
       "      <td>0.755263</td>\n",
       "      <td>0.755263</td>\n",
       "      <td>0.886842</td>\n",
       "      <td>0.685609</td>\n",
       "      <td>0.810609</td>\n",
       "      <td>0.537500</td>\n",
       "    </tr>\n",
       "    <tr>\n",
       "      <th>3</th>\n",
       "      <td>0.375000</td>\n",
       "      <td>0.500000</td>\n",
       "      <td>0.375000</td>\n",
       "      <td>NaN</td>\n",
       "      <td>0.397204</td>\n",
       "      <td>0.522204</td>\n",
       "      <td>0.539720</td>\n",
       "      <td>0.655674</td>\n",
       "      <td>0.549753</td>\n",
       "      <td>0.674753</td>\n",
       "      <td>...</td>\n",
       "      <td>0.755263</td>\n",
       "      <td>0.880263</td>\n",
       "      <td>0.630263</td>\n",
       "      <td>0.755263</td>\n",
       "      <td>0.630263</td>\n",
       "      <td>0.880263</td>\n",
       "      <td>0.761842</td>\n",
       "      <td>0.810609</td>\n",
       "      <td>0.810609</td>\n",
       "      <td>0.787500</td>\n",
       "    </tr>\n",
       "    <tr>\n",
       "      <th>4</th>\n",
       "      <td>0.522204</td>\n",
       "      <td>0.397204</td>\n",
       "      <td>0.272204</td>\n",
       "      <td>0.397204</td>\n",
       "      <td>0.000000</td>\n",
       "      <td>0.500000</td>\n",
       "      <td>0.642516</td>\n",
       "      <td>0.517845</td>\n",
       "      <td>0.683799</td>\n",
       "      <td>0.558799</td>\n",
       "      <td>...</td>\n",
       "      <td>0.608059</td>\n",
       "      <td>0.733059</td>\n",
       "      <td>0.733059</td>\n",
       "      <td>0.858059</td>\n",
       "      <td>0.733059</td>\n",
       "      <td>0.733059</td>\n",
       "      <td>0.739638</td>\n",
       "      <td>0.663405</td>\n",
       "      <td>0.788405</td>\n",
       "      <td>0.671546</td>\n",
       "    </tr>\n",
       "  </tbody>\n",
       "</table>\n",
       "<p>5 rows × 44 columns</p>\n",
       "</div>"
      ],
      "text/plain": [
       "         0         1         2         3         4         5         6   \\\n",
       "0  0.000000  0.375000  0.500000  0.375000  0.522204  0.397204  0.539720   \n",
       "1  0.375000  0.000000  0.500000  0.500000  0.397204  0.397204  0.664720   \n",
       "2  0.500000  0.500000  0.000000  0.375000  0.272204  0.522204  0.664720   \n",
       "3  0.375000  0.500000  0.375000       NaN  0.397204  0.522204  0.539720   \n",
       "4  0.522204  0.397204  0.272204  0.397204  0.000000  0.500000  0.642516   \n",
       "\n",
       "         7         8         9   ...        34        35        36        37  \\\n",
       "0  0.530674  0.424753  0.549753  ...  0.880263  0.755263  0.755263  0.505263   \n",
       "1  0.655674  0.549753  0.549753  ...  0.880263  0.630263  0.880263  0.755263   \n",
       "2  0.530674  0.674753  0.424753  ...  0.630263  0.755263  0.755263  0.880263   \n",
       "3  0.655674  0.549753  0.674753  ...  0.755263  0.880263  0.630263  0.755263   \n",
       "4  0.517845  0.683799  0.558799  ...  0.608059  0.733059  0.733059  0.858059   \n",
       "\n",
       "         38        39        40        41        42        43  \n",
       "0  0.630263  0.880263  0.761842  0.810609  0.560609  0.787500  \n",
       "1  0.880263  0.880263  0.761842  0.810609  0.685609  0.787500  \n",
       "2  0.755263  0.755263  0.886842  0.685609  0.810609  0.537500  \n",
       "3  0.630263  0.880263  0.761842  0.810609  0.810609  0.787500  \n",
       "4  0.733059  0.733059  0.739638  0.663405  0.788405  0.671546  \n",
       "\n",
       "[5 rows x 44 columns]"
      ]
     },
     "execution_count": 12,
     "metadata": {},
     "output_type": "execute_result"
    }
   ],
   "source": [
    "dist1.head(5)"
   ]
  },
  {
   "cell_type": "code",
   "execution_count": 14,
   "metadata": {},
   "outputs": [
    {
     "data": {
      "text/plain": [
       "array([False, False, False,  True,  True, False, False, False])"
      ]
     },
     "execution_count": 14,
     "metadata": {},
     "output_type": "execute_result"
    }
   ],
   "source": [
    "data.isnull().values.any(axis=0)"
   ]
  },
  {
   "cell_type": "code",
   "execution_count": 15,
   "metadata": {},
   "outputs": [],
   "source": [
    "dist1=dist1.fillna(0)"
   ]
  },
  {
   "cell_type": "code",
   "execution_count": 16,
   "metadata": {},
   "outputs": [
    {
     "data": {
      "text/html": [
       "<div>\n",
       "<style scoped>\n",
       "    .dataframe tbody tr th:only-of-type {\n",
       "        vertical-align: middle;\n",
       "    }\n",
       "\n",
       "    .dataframe tbody tr th {\n",
       "        vertical-align: top;\n",
       "    }\n",
       "\n",
       "    .dataframe thead th {\n",
       "        text-align: right;\n",
       "    }\n",
       "</style>\n",
       "<table border=\"1\" class=\"dataframe\">\n",
       "  <thead>\n",
       "    <tr style=\"text-align: right;\">\n",
       "      <th></th>\n",
       "      <th>0</th>\n",
       "      <th>1</th>\n",
       "      <th>2</th>\n",
       "      <th>3</th>\n",
       "      <th>4</th>\n",
       "      <th>5</th>\n",
       "      <th>6</th>\n",
       "      <th>7</th>\n",
       "      <th>8</th>\n",
       "      <th>9</th>\n",
       "      <th>...</th>\n",
       "      <th>34</th>\n",
       "      <th>35</th>\n",
       "      <th>36</th>\n",
       "      <th>37</th>\n",
       "      <th>38</th>\n",
       "      <th>39</th>\n",
       "      <th>40</th>\n",
       "      <th>41</th>\n",
       "      <th>42</th>\n",
       "      <th>43</th>\n",
       "    </tr>\n",
       "  </thead>\n",
       "  <tbody>\n",
       "    <tr>\n",
       "      <th>0</th>\n",
       "      <td>0.000000</td>\n",
       "      <td>0.375000</td>\n",
       "      <td>0.500000</td>\n",
       "      <td>0.375000</td>\n",
       "      <td>0.522204</td>\n",
       "      <td>0.397204</td>\n",
       "      <td>0.539720</td>\n",
       "      <td>0.530674</td>\n",
       "      <td>0.424753</td>\n",
       "      <td>0.549753</td>\n",
       "      <td>...</td>\n",
       "      <td>0.880263</td>\n",
       "      <td>0.755263</td>\n",
       "      <td>0.755263</td>\n",
       "      <td>0.505263</td>\n",
       "      <td>0.630263</td>\n",
       "      <td>0.880263</td>\n",
       "      <td>0.761842</td>\n",
       "      <td>0.810609</td>\n",
       "      <td>0.560609</td>\n",
       "      <td>0.787500</td>\n",
       "    </tr>\n",
       "    <tr>\n",
       "      <th>1</th>\n",
       "      <td>0.375000</td>\n",
       "      <td>0.000000</td>\n",
       "      <td>0.500000</td>\n",
       "      <td>0.500000</td>\n",
       "      <td>0.397204</td>\n",
       "      <td>0.397204</td>\n",
       "      <td>0.664720</td>\n",
       "      <td>0.655674</td>\n",
       "      <td>0.549753</td>\n",
       "      <td>0.549753</td>\n",
       "      <td>...</td>\n",
       "      <td>0.880263</td>\n",
       "      <td>0.630263</td>\n",
       "      <td>0.880263</td>\n",
       "      <td>0.755263</td>\n",
       "      <td>0.880263</td>\n",
       "      <td>0.880263</td>\n",
       "      <td>0.761842</td>\n",
       "      <td>0.810609</td>\n",
       "      <td>0.685609</td>\n",
       "      <td>0.787500</td>\n",
       "    </tr>\n",
       "    <tr>\n",
       "      <th>2</th>\n",
       "      <td>0.500000</td>\n",
       "      <td>0.500000</td>\n",
       "      <td>0.000000</td>\n",
       "      <td>0.375000</td>\n",
       "      <td>0.272204</td>\n",
       "      <td>0.522204</td>\n",
       "      <td>0.664720</td>\n",
       "      <td>0.530674</td>\n",
       "      <td>0.674753</td>\n",
       "      <td>0.424753</td>\n",
       "      <td>...</td>\n",
       "      <td>0.630263</td>\n",
       "      <td>0.755263</td>\n",
       "      <td>0.755263</td>\n",
       "      <td>0.880263</td>\n",
       "      <td>0.755263</td>\n",
       "      <td>0.755263</td>\n",
       "      <td>0.886842</td>\n",
       "      <td>0.685609</td>\n",
       "      <td>0.810609</td>\n",
       "      <td>0.537500</td>\n",
       "    </tr>\n",
       "    <tr>\n",
       "      <th>3</th>\n",
       "      <td>0.375000</td>\n",
       "      <td>0.500000</td>\n",
       "      <td>0.375000</td>\n",
       "      <td>0.000000</td>\n",
       "      <td>0.397204</td>\n",
       "      <td>0.522204</td>\n",
       "      <td>0.539720</td>\n",
       "      <td>0.655674</td>\n",
       "      <td>0.549753</td>\n",
       "      <td>0.674753</td>\n",
       "      <td>...</td>\n",
       "      <td>0.755263</td>\n",
       "      <td>0.880263</td>\n",
       "      <td>0.630263</td>\n",
       "      <td>0.755263</td>\n",
       "      <td>0.630263</td>\n",
       "      <td>0.880263</td>\n",
       "      <td>0.761842</td>\n",
       "      <td>0.810609</td>\n",
       "      <td>0.810609</td>\n",
       "      <td>0.787500</td>\n",
       "    </tr>\n",
       "    <tr>\n",
       "      <th>4</th>\n",
       "      <td>0.522204</td>\n",
       "      <td>0.397204</td>\n",
       "      <td>0.272204</td>\n",
       "      <td>0.397204</td>\n",
       "      <td>0.000000</td>\n",
       "      <td>0.500000</td>\n",
       "      <td>0.642516</td>\n",
       "      <td>0.517845</td>\n",
       "      <td>0.683799</td>\n",
       "      <td>0.558799</td>\n",
       "      <td>...</td>\n",
       "      <td>0.608059</td>\n",
       "      <td>0.733059</td>\n",
       "      <td>0.733059</td>\n",
       "      <td>0.858059</td>\n",
       "      <td>0.733059</td>\n",
       "      <td>0.733059</td>\n",
       "      <td>0.739638</td>\n",
       "      <td>0.663405</td>\n",
       "      <td>0.788405</td>\n",
       "      <td>0.671546</td>\n",
       "    </tr>\n",
       "  </tbody>\n",
       "</table>\n",
       "<p>5 rows × 44 columns</p>\n",
       "</div>"
      ],
      "text/plain": [
       "         0         1         2         3         4         5         6   \\\n",
       "0  0.000000  0.375000  0.500000  0.375000  0.522204  0.397204  0.539720   \n",
       "1  0.375000  0.000000  0.500000  0.500000  0.397204  0.397204  0.664720   \n",
       "2  0.500000  0.500000  0.000000  0.375000  0.272204  0.522204  0.664720   \n",
       "3  0.375000  0.500000  0.375000  0.000000  0.397204  0.522204  0.539720   \n",
       "4  0.522204  0.397204  0.272204  0.397204  0.000000  0.500000  0.642516   \n",
       "\n",
       "         7         8         9   ...        34        35        36        37  \\\n",
       "0  0.530674  0.424753  0.549753  ...  0.880263  0.755263  0.755263  0.505263   \n",
       "1  0.655674  0.549753  0.549753  ...  0.880263  0.630263  0.880263  0.755263   \n",
       "2  0.530674  0.674753  0.424753  ...  0.630263  0.755263  0.755263  0.880263   \n",
       "3  0.655674  0.549753  0.674753  ...  0.755263  0.880263  0.630263  0.755263   \n",
       "4  0.517845  0.683799  0.558799  ...  0.608059  0.733059  0.733059  0.858059   \n",
       "\n",
       "         38        39        40        41        42        43  \n",
       "0  0.630263  0.880263  0.761842  0.810609  0.560609  0.787500  \n",
       "1  0.880263  0.880263  0.761842  0.810609  0.685609  0.787500  \n",
       "2  0.755263  0.755263  0.886842  0.685609  0.810609  0.537500  \n",
       "3  0.630263  0.880263  0.761842  0.810609  0.810609  0.787500  \n",
       "4  0.733059  0.733059  0.739638  0.663405  0.788405  0.671546  \n",
       "\n",
       "[5 rows x 44 columns]"
      ]
     },
     "execution_count": 16,
     "metadata": {},
     "output_type": "execute_result"
    }
   ],
   "source": [
    "dist1.head(5)"
   ]
  },
  {
   "cell_type": "code",
   "execution_count": 19,
   "metadata": {},
   "outputs": [],
   "source": [
    "dbscan = DBSCAN(eps=0.4, min_samples=1, metric=\"precomputed\", n_jobs=-1)"
   ]
  },
  {
   "cell_type": "code",
   "execution_count": 20,
   "metadata": {},
   "outputs": [],
   "source": [
    "db=dbscan.fit(dist1.values)"
   ]
  },
  {
   "cell_type": "code",
   "execution_count": 21,
   "metadata": {},
   "outputs": [
    {
     "data": {
      "text/plain": [
       "array([0, 0, 0, 0, 0, 0, 0, 0, 1, 1, 0, 0, 0, 0, 0, 0, 1, 0, 2, 3, 0, 0,\n",
       "       0, 0, 1, 0, 4, 5, 6, 0, 0, 0, 0, 0, 0, 0, 0, 0, 0, 0, 0, 7, 0, 8])"
      ]
     },
     "execution_count": 21,
     "metadata": {},
     "output_type": "execute_result"
    }
   ],
   "source": [
    "db.labels_"
   ]
  },
  {
   "cell_type": "code",
   "execution_count": 32,
   "metadata": {},
   "outputs": [
    {
     "data": {
      "image/png": "[encoded data removed]",
      "text/plain": [
       "<Figure size 432x288 with 1 Axes>"
      ]
     },
     "metadata": {
      "needs_background": "light"
     },
     "output_type": "display_data"
    },
    {
     "data": {
      "text/plain": [
       "<Figure size 72x72 with 0 Axes>"
      ]
     },
     "metadata": {},
     "output_type": "display_data"
    }
   ],
   "source": [
    "dissimilarity = distance.squareform(dist1.values)\n",
    "linkage = hierarchy.linkage(dissimilarity, method=\"complete\")\n",
    "clusters = hierarchy.fcluster(linkage, 0.8, criterion=\"distance\") # change to decide where the colors begin to differentiate(must do both)\n",
    "plt.subplot(122)\n",
    "hierarchy.dendrogram(linkage, color_threshold=0.8) # change to decide where the colors begin to differentiate(must do both)\n",
    "plt.xlabel(\"Row\")\n",
    "plt.ylabel(\"Dissimilarity\")\n",
    "plt.figure(figsize=(1,1))\n",
    "plt.show()"
   ]
  },
  {
   "cell_type": "code",
   "execution_count": 33,
   "metadata": {},
   "outputs": [
    {
     "data": {
      "image/png": "[encoded data removed]",
      "text/plain": [
       "<Figure size 432x288 with 1 Axes>"
      ]
     },
     "metadata": {
      "needs_background": "light"
     },
     "output_type": "display_data"
    }
   ],
   "source": [
    "dend = shc.dendrogram(linkage)"
   ]
  },
  {
   "cell_type": "code",
   "execution_count": null,
   "metadata": {},
   "outputs": [],
   "source": []
  }
 ],
 "metadata": {
  "kernelspec": {
   "display_name": "Python 3",
   "language": "python",
   "name": "python3"
  },
  "language_info": {
   "codemirror_mode": {
    "name": "ipython",
    "version": 3
   },
   "file_extension": ".py",
   "mimetype": "text/x-python",
   "name": "python",
   "nbconvert_exporter": "python",
   "pygments_lexer": "ipython3",
   "version": "3.7.3"
  }
 },
 "nbformat": 4,
 "nbformat_minor": 2
}
