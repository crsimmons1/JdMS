{
 "cells": [
  {
   "cell_type": "markdown",
   "metadata": {},
   "source": [
    "## My rough draft of UMAPS"
   ]
  },
  {
   "cell_type": "code",
   "execution_count": 5,
   "metadata": {},
   "outputs": [],
   "source": [
    "from sklearn.datasets import fetch_mldata\n",
    "from sklearn.decomposition import PCA\n",
    "import numpy as np\n",
    "import pandas as pd\n",
    "import matplotlib.pyplot as plt\n",
    "import seaborn as sns\n",
    "%matplotlib inline\n",
    "\n",
    "# Dimension reduction and clustering libraries\n",
    "import umap\n",
    "import hdbscan\n",
    "import sklearn.cluster as cluster\n",
    "from sklearn.metrics import adjusted_rand_score, adjusted_mutual_info_score"
   ]
  },
  {
   "cell_type": "code",
   "execution_count": 20,
   "metadata": {},
   "outputs": [],
   "source": [
    "import warnings\n",
    "warnings.simplefilter(\"ignore\")"
   ]
  },
  {
   "cell_type": "code",
   "execution_count": 6,
   "metadata": {},
   "outputs": [],
   "source": [
    "data = pd.read_csv('Data/customer_data.csv')"
   ]
  },
  {
   "cell_type": "code",
   "execution_count": 13,
   "metadata": {},
   "outputs": [
    {
     "data": {
      "text/html": [
       "<div>\n",
       "<style scoped>\n",
       "    .dataframe tbody tr th:only-of-type {\n",
       "        vertical-align: middle;\n",
       "    }\n",
       "\n",
       "    .dataframe tbody tr th {\n",
       "        vertical-align: top;\n",
       "    }\n",
       "\n",
       "    .dataframe thead th {\n",
       "        text-align: right;\n",
       "    }\n",
       "</style>\n",
       "<table border=\"1\" class=\"dataframe\">\n",
       "  <thead>\n",
       "    <tr style=\"text-align: right;\">\n",
       "      <th></th>\n",
       "      <th>Unnamed: 0</th>\n",
       "      <th>PC1</th>\n",
       "      <th>PC2</th>\n",
       "      <th>PC3</th>\n",
       "      <th>PC4</th>\n",
       "      <th>PC5</th>\n",
       "      <th>PC6</th>\n",
       "      <th>PC7</th>\n",
       "      <th>PC8</th>\n",
       "      <th>PC9</th>\n",
       "      <th>PC10</th>\n",
       "      <th>PC11</th>\n",
       "      <th>PC12</th>\n",
       "      <th>PC13</th>\n",
       "      <th>PC14</th>\n",
       "      <th>UniqueID</th>\n",
       "    </tr>\n",
       "  </thead>\n",
       "  <tbody>\n",
       "    <tr>\n",
       "      <th>0</th>\n",
       "      <td>0</td>\n",
       "      <td>-0.363684</td>\n",
       "      <td>-0.071254</td>\n",
       "      <td>0.020346</td>\n",
       "      <td>-0.039878</td>\n",
       "      <td>0.269947</td>\n",
       "      <td>-0.140284</td>\n",
       "      <td>0.768594</td>\n",
       "      <td>0.415667</td>\n",
       "      <td>-0.246301</td>\n",
       "      <td>-0.001240</td>\n",
       "      <td>0.221670</td>\n",
       "      <td>-0.386232</td>\n",
       "      <td>-0.350949</td>\n",
       "      <td>0.762481</td>\n",
       "      <td>5962ec84553dcb84e508e2fc45789278</td>\n",
       "    </tr>\n",
       "    <tr>\n",
       "      <th>1</th>\n",
       "      <td>1</td>\n",
       "      <td>-0.364945</td>\n",
       "      <td>-0.194907</td>\n",
       "      <td>0.028743</td>\n",
       "      <td>-0.203430</td>\n",
       "      <td>0.119507</td>\n",
       "      <td>0.632649</td>\n",
       "      <td>1.103069</td>\n",
       "      <td>0.025847</td>\n",
       "      <td>-0.007877</td>\n",
       "      <td>-0.107257</td>\n",
       "      <td>-0.131542</td>\n",
       "      <td>-0.144859</td>\n",
       "      <td>-0.015719</td>\n",
       "      <td>-0.018377</td>\n",
       "      <td>547c0d52bbfe1b93b9411d7b55f3bd82</td>\n",
       "    </tr>\n",
       "    <tr>\n",
       "      <th>2</th>\n",
       "      <td>2</td>\n",
       "      <td>-0.360729</td>\n",
       "      <td>-0.138560</td>\n",
       "      <td>0.000326</td>\n",
       "      <td>-0.077302</td>\n",
       "      <td>0.066957</td>\n",
       "      <td>-0.059903</td>\n",
       "      <td>0.013442</td>\n",
       "      <td>0.140903</td>\n",
       "      <td>-0.160615</td>\n",
       "      <td>0.094486</td>\n",
       "      <td>0.451730</td>\n",
       "      <td>0.007629</td>\n",
       "      <td>-0.334301</td>\n",
       "      <td>0.782349</td>\n",
       "      <td>1770ad573874abe83cd04bfaf89c8eb6</td>\n",
       "    </tr>\n",
       "    <tr>\n",
       "      <th>3</th>\n",
       "      <td>3</td>\n",
       "      <td>-0.371532</td>\n",
       "      <td>0.093126</td>\n",
       "      <td>0.702033</td>\n",
       "      <td>-0.209900</td>\n",
       "      <td>-0.375004</td>\n",
       "      <td>0.014823</td>\n",
       "      <td>-0.194265</td>\n",
       "      <td>0.183428</td>\n",
       "      <td>-0.244426</td>\n",
       "      <td>0.095214</td>\n",
       "      <td>0.503775</td>\n",
       "      <td>-0.396859</td>\n",
       "      <td>0.687686</td>\n",
       "      <td>-0.165639</td>\n",
       "      <td>11b9573f2fc9dd49594cd1f301cb7be6</td>\n",
       "    </tr>\n",
       "    <tr>\n",
       "      <th>4</th>\n",
       "      <td>4</td>\n",
       "      <td>-0.356321</td>\n",
       "      <td>-0.147192</td>\n",
       "      <td>0.035836</td>\n",
       "      <td>-0.277386</td>\n",
       "      <td>0.765923</td>\n",
       "      <td>0.116238</td>\n",
       "      <td>-0.367736</td>\n",
       "      <td>-0.052919</td>\n",
       "      <td>0.008150</td>\n",
       "      <td>0.197611</td>\n",
       "      <td>0.270320</td>\n",
       "      <td>-0.330237</td>\n",
       "      <td>-0.316658</td>\n",
       "      <td>0.796324</td>\n",
       "      <td>84fdd6d40ab2a9b95f3c957237225d33</td>\n",
       "    </tr>\n",
       "  </tbody>\n",
       "</table>\n",
       "</div>"
      ],
      "text/plain": [
       "   Unnamed: 0       PC1       PC2       PC3       PC4       PC5       PC6  \\\n",
       "0           0 -0.363684 -0.071254  0.020346 -0.039878  0.269947 -0.140284   \n",
       "1           1 -0.364945 -0.194907  0.028743 -0.203430  0.119507  0.632649   \n",
       "2           2 -0.360729 -0.138560  0.000326 -0.077302  0.066957 -0.059903   \n",
       "3           3 -0.371532  0.093126  0.702033 -0.209900 -0.375004  0.014823   \n",
       "4           4 -0.356321 -0.147192  0.035836 -0.277386  0.765923  0.116238   \n",
       "\n",
       "        PC7       PC8       PC9      PC10      PC11      PC12      PC13  \\\n",
       "0  0.768594  0.415667 -0.246301 -0.001240  0.221670 -0.386232 -0.350949   \n",
       "1  1.103069  0.025847 -0.007877 -0.107257 -0.131542 -0.144859 -0.015719   \n",
       "2  0.013442  0.140903 -0.160615  0.094486  0.451730  0.007629 -0.334301   \n",
       "3 -0.194265  0.183428 -0.244426  0.095214  0.503775 -0.396859  0.687686   \n",
       "4 -0.367736 -0.052919  0.008150  0.197611  0.270320 -0.330237 -0.316658   \n",
       "\n",
       "       PC14                          UniqueID  \n",
       "0  0.762481  5962ec84553dcb84e508e2fc45789278  \n",
       "1 -0.018377  547c0d52bbfe1b93b9411d7b55f3bd82  \n",
       "2  0.782349  1770ad573874abe83cd04bfaf89c8eb6  \n",
       "3 -0.165639  11b9573f2fc9dd49594cd1f301cb7be6  \n",
       "4  0.796324  84fdd6d40ab2a9b95f3c957237225d33  "
      ]
     },
     "execution_count": 13,
     "metadata": {},
     "output_type": "execute_result"
    }
   ],
   "source": [
    "data_pca = pd.read_csv('Data/pca_customer_data.csv')"
   ]
  },
  {
   "cell_type": "code",
   "execution_count": 15,
   "metadata": {},
   "outputs": [],
   "source": [
    "del data_pca['Unnamed: 0']\n",
    "del data_pca['UniqueID']\n",
    "del data['Unnamed: 0']"
   ]
  },
  {
   "cell_type": "code",
   "execution_count": 18,
   "metadata": {},
   "outputs": [
    {
     "data": {
      "text/html": [
       "<div>\n",
       "<style scoped>\n",
       "    .dataframe tbody tr th:only-of-type {\n",
       "        vertical-align: middle;\n",
       "    }\n",
       "\n",
       "    .dataframe tbody tr th {\n",
       "        vertical-align: top;\n",
       "    }\n",
       "\n",
       "    .dataframe thead th {\n",
       "        text-align: right;\n",
       "    }\n",
       "</style>\n",
       "<table border=\"1\" class=\"dataframe\">\n",
       "  <thead>\n",
       "    <tr style=\"text-align: right;\">\n",
       "      <th></th>\n",
       "      <th>PC1</th>\n",
       "      <th>PC2</th>\n",
       "      <th>PC3</th>\n",
       "      <th>PC4</th>\n",
       "      <th>PC5</th>\n",
       "      <th>PC6</th>\n",
       "      <th>PC7</th>\n",
       "      <th>PC8</th>\n",
       "      <th>PC9</th>\n",
       "      <th>PC10</th>\n",
       "      <th>PC11</th>\n",
       "      <th>PC12</th>\n",
       "      <th>PC13</th>\n",
       "      <th>PC14</th>\n",
       "    </tr>\n",
       "  </thead>\n",
       "  <tbody>\n",
       "    <tr>\n",
       "      <th>0</th>\n",
       "      <td>-0.363684</td>\n",
       "      <td>-0.071254</td>\n",
       "      <td>0.020346</td>\n",
       "      <td>-0.039878</td>\n",
       "      <td>0.269947</td>\n",
       "      <td>-0.140284</td>\n",
       "      <td>0.768594</td>\n",
       "      <td>0.415667</td>\n",
       "      <td>-0.246301</td>\n",
       "      <td>-0.001240</td>\n",
       "      <td>0.221670</td>\n",
       "      <td>-0.386232</td>\n",
       "      <td>-0.350949</td>\n",
       "      <td>0.762481</td>\n",
       "    </tr>\n",
       "    <tr>\n",
       "      <th>1</th>\n",
       "      <td>-0.364945</td>\n",
       "      <td>-0.194907</td>\n",
       "      <td>0.028743</td>\n",
       "      <td>-0.203430</td>\n",
       "      <td>0.119507</td>\n",
       "      <td>0.632649</td>\n",
       "      <td>1.103069</td>\n",
       "      <td>0.025847</td>\n",
       "      <td>-0.007877</td>\n",
       "      <td>-0.107257</td>\n",
       "      <td>-0.131542</td>\n",
       "      <td>-0.144859</td>\n",
       "      <td>-0.015719</td>\n",
       "      <td>-0.018377</td>\n",
       "    </tr>\n",
       "    <tr>\n",
       "      <th>2</th>\n",
       "      <td>-0.360729</td>\n",
       "      <td>-0.138560</td>\n",
       "      <td>0.000326</td>\n",
       "      <td>-0.077302</td>\n",
       "      <td>0.066957</td>\n",
       "      <td>-0.059903</td>\n",
       "      <td>0.013442</td>\n",
       "      <td>0.140903</td>\n",
       "      <td>-0.160615</td>\n",
       "      <td>0.094486</td>\n",
       "      <td>0.451730</td>\n",
       "      <td>0.007629</td>\n",
       "      <td>-0.334301</td>\n",
       "      <td>0.782349</td>\n",
       "    </tr>\n",
       "    <tr>\n",
       "      <th>3</th>\n",
       "      <td>-0.371532</td>\n",
       "      <td>0.093126</td>\n",
       "      <td>0.702033</td>\n",
       "      <td>-0.209900</td>\n",
       "      <td>-0.375004</td>\n",
       "      <td>0.014823</td>\n",
       "      <td>-0.194265</td>\n",
       "      <td>0.183428</td>\n",
       "      <td>-0.244426</td>\n",
       "      <td>0.095214</td>\n",
       "      <td>0.503775</td>\n",
       "      <td>-0.396859</td>\n",
       "      <td>0.687686</td>\n",
       "      <td>-0.165639</td>\n",
       "    </tr>\n",
       "    <tr>\n",
       "      <th>4</th>\n",
       "      <td>-0.356321</td>\n",
       "      <td>-0.147192</td>\n",
       "      <td>0.035836</td>\n",
       "      <td>-0.277386</td>\n",
       "      <td>0.765923</td>\n",
       "      <td>0.116238</td>\n",
       "      <td>-0.367736</td>\n",
       "      <td>-0.052919</td>\n",
       "      <td>0.008150</td>\n",
       "      <td>0.197611</td>\n",
       "      <td>0.270320</td>\n",
       "      <td>-0.330237</td>\n",
       "      <td>-0.316658</td>\n",
       "      <td>0.796324</td>\n",
       "    </tr>\n",
       "  </tbody>\n",
       "</table>\n",
       "</div>"
      ],
      "text/plain": [
       "        PC1       PC2       PC3       PC4       PC5       PC6       PC7  \\\n",
       "0 -0.363684 -0.071254  0.020346 -0.039878  0.269947 -0.140284  0.768594   \n",
       "1 -0.364945 -0.194907  0.028743 -0.203430  0.119507  0.632649  1.103069   \n",
       "2 -0.360729 -0.138560  0.000326 -0.077302  0.066957 -0.059903  0.013442   \n",
       "3 -0.371532  0.093126  0.702033 -0.209900 -0.375004  0.014823 -0.194265   \n",
       "4 -0.356321 -0.147192  0.035836 -0.277386  0.765923  0.116238 -0.367736   \n",
       "\n",
       "        PC8       PC9      PC10      PC11      PC12      PC13      PC14  \n",
       "0  0.415667 -0.246301 -0.001240  0.221670 -0.386232 -0.350949  0.762481  \n",
       "1  0.025847 -0.007877 -0.107257 -0.131542 -0.144859 -0.015719 -0.018377  \n",
       "2  0.140903 -0.160615  0.094486  0.451730  0.007629 -0.334301  0.782349  \n",
       "3  0.183428 -0.244426  0.095214  0.503775 -0.396859  0.687686 -0.165639  \n",
       "4 -0.052919  0.008150  0.197611  0.270320 -0.330237 -0.316658  0.796324  "
      ]
     },
     "execution_count": 18,
     "metadata": {},
     "output_type": "execute_result"
    }
   ],
   "source": [
    "data_pca.head()"
   ]
  },
  {
   "cell_type": "markdown",
   "metadata": {},
   "source": [
    "## HDBSCAN"
   ]
  },
  {
   "cell_type": "code",
   "execution_count": 26,
   "metadata": {},
   "outputs": [],
   "source": [
    "from hdbscan import HDBSCAN\n",
    "clusterer_hdbscan = HDBSCAN()\n",
    "hdbscan_labels = clusterer_hdbscan.fit_predict(data_pca)"
   ]
  },
  {
   "cell_type": "code",
   "execution_count": 28,
   "metadata": {},
   "outputs": [],
   "source": [
    "cluster_id = hdbscan_labels"
   ]
  },
  {
   "cell_type": "code",
   "execution_count": 33,
   "metadata": {},
   "outputs": [],
   "source": [
    "data['cluster_id'] = cluster_id"
   ]
  },
  {
   "cell_type": "code",
   "execution_count": 36,
   "metadata": {},
   "outputs": [
    {
     "data": {
      "text/plain": [
       "810341"
      ]
     },
     "execution_count": 36,
     "metadata": {},
     "output_type": "execute_result"
    }
   ],
   "source": [
    "data.cluster_id.count()"
   ]
  },
  {
   "cell_type": "code",
   "execution_count": null,
   "metadata": {},
   "outputs": [],
   "source": [
    "def cluster_summary(cluster_id):\n",
    "    cluster = data[data.cluster_id==cluster_id]\n",
    "    cluster_summary = cluster[categorical_data.columns].mode().to_dict(orient=\"records\")[0]\n",
    "    cluster_summary.update(cluster.median().to_dict())\n",
    "    return cluster_summary"
   ]
  },
  {
   "cell_type": "code",
   "execution_count": null,
   "metadata": {},
   "outputs": [],
   "source": [
    "def cluster_comparison(*cluster_ids):\n",
    "    summaries = []\n",
    "    for cluster_id in cluster_ids:\n",
    "        summaries.append(cluster_summary(cluster_id))\n",
    "    return pd.DataFrame(summaries).set_index(\"cluster_id\").T"
   ]
  },
  {
   "cell_type": "code",
   "execution_count": 27,
   "metadata": {},
   "outputs": [
    {
     "ename": "KeyboardInterrupt",
     "evalue": "",
     "output_type": "error",
     "traceback": [
      "\u001b[0;31m---------------------------------------------------------------------------\u001b[0m",
      "\u001b[0;31mKeyboardInterrupt\u001b[0m                         Traceback (most recent call last)",
      "\u001b[0;32m<ipython-input-27-162e0759f6a0>\u001b[0m in \u001b[0;36m<module>\u001b[0;34m\u001b[0m\n\u001b[1;32m      2\u001b[0m \u001b[0;34m\u001b[0m\u001b[0m\n\u001b[1;32m      3\u001b[0m \u001b[0mclusterer_hdbscan2\u001b[0m \u001b[0;34m=\u001b[0m \u001b[0mHDBSCAN\u001b[0m\u001b[0;34m(\u001b[0m\u001b[0mprediction_data\u001b[0m\u001b[0;34m=\u001b[0m\u001b[0;32mTrue\u001b[0m\u001b[0;34m)\u001b[0m\u001b[0;34m\u001b[0m\u001b[0;34m\u001b[0m\u001b[0m\n\u001b[0;32m----> 4\u001b[0;31m \u001b[0mhdbscan_labels2\u001b[0m \u001b[0;34m=\u001b[0m \u001b[0mclusterer_hdbscan\u001b[0m\u001b[0;34m.\u001b[0m\u001b[0mfit_predict\u001b[0m\u001b[0;34m(\u001b[0m\u001b[0mdata_pca\u001b[0m\u001b[0;34m)\u001b[0m\u001b[0;34m\u001b[0m\u001b[0;34m\u001b[0m\u001b[0m\n\u001b[0m",
      "\u001b[0;32m~/anaconda3/lib/python3.7/site-packages/hdbscan/hdbscan_.py\u001b[0m in \u001b[0;36mfit_predict\u001b[0;34m(self, X, y)\u001b[0m\n\u001b[1;32m    913\u001b[0m             \u001b[0mcluster\u001b[0m \u001b[0mlabels\u001b[0m\u001b[0;34m\u001b[0m\u001b[0;34m\u001b[0m\u001b[0m\n\u001b[1;32m    914\u001b[0m         \"\"\"\n\u001b[0;32m--> 915\u001b[0;31m         \u001b[0mself\u001b[0m\u001b[0;34m.\u001b[0m\u001b[0mfit\u001b[0m\u001b[0;34m(\u001b[0m\u001b[0mX\u001b[0m\u001b[0;34m)\u001b[0m\u001b[0;34m\u001b[0m\u001b[0;34m\u001b[0m\u001b[0m\n\u001b[0m\u001b[1;32m    916\u001b[0m         \u001b[0;32mreturn\u001b[0m \u001b[0mself\u001b[0m\u001b[0;34m.\u001b[0m\u001b[0mlabels_\u001b[0m\u001b[0;34m\u001b[0m\u001b[0;34m\u001b[0m\u001b[0m\n\u001b[1;32m    917\u001b[0m \u001b[0;34m\u001b[0m\u001b[0m\n",
      "\u001b[0;32m~/anaconda3/lib/python3.7/site-packages/hdbscan/hdbscan_.py\u001b[0m in \u001b[0;36mfit\u001b[0;34m(self, X, y)\u001b[0m\n\u001b[1;32m    891\u001b[0m          \u001b[0mself\u001b[0m\u001b[0;34m.\u001b[0m\u001b[0m_condensed_tree\u001b[0m\u001b[0;34m,\u001b[0m\u001b[0;34m\u001b[0m\u001b[0;34m\u001b[0m\u001b[0m\n\u001b[1;32m    892\u001b[0m          \u001b[0mself\u001b[0m\u001b[0;34m.\u001b[0m\u001b[0m_single_linkage_tree\u001b[0m\u001b[0;34m,\u001b[0m\u001b[0;34m\u001b[0m\u001b[0;34m\u001b[0m\u001b[0m\n\u001b[0;32m--> 893\u001b[0;31m          self._min_spanning_tree) = hdbscan(X, **kwargs)\n\u001b[0m\u001b[1;32m    894\u001b[0m \u001b[0;34m\u001b[0m\u001b[0m\n\u001b[1;32m    895\u001b[0m         \u001b[0;32mif\u001b[0m \u001b[0mself\u001b[0m\u001b[0;34m.\u001b[0m\u001b[0mprediction_data\u001b[0m\u001b[0;34m:\u001b[0m\u001b[0;34m\u001b[0m\u001b[0;34m\u001b[0m\u001b[0m\n",
      "\u001b[0;32m~/anaconda3/lib/python3.7/site-packages/hdbscan/hdbscan_.py\u001b[0m in \u001b[0;36mhdbscan\u001b[0;34m(X, min_cluster_size, min_samples, alpha, metric, p, leaf_size, algorithm, memory, approx_min_span_tree, gen_min_span_tree, core_dist_n_jobs, cluster_selection_method, allow_single_cluster, match_reference_implementation, **kwargs)\u001b[0m\n\u001b[1;32m    595\u001b[0m                                              \u001b[0mapprox_min_span_tree\u001b[0m\u001b[0;34m,\u001b[0m\u001b[0;34m\u001b[0m\u001b[0;34m\u001b[0m\u001b[0m\n\u001b[1;32m    596\u001b[0m                                              \u001b[0mgen_min_span_tree\u001b[0m\u001b[0;34m,\u001b[0m\u001b[0;34m\u001b[0m\u001b[0;34m\u001b[0m\u001b[0m\n\u001b[0;32m--> 597\u001b[0;31m                                              core_dist_n_jobs, **kwargs)\n\u001b[0m\u001b[1;32m    598\u001b[0m         \u001b[0;32melse\u001b[0m\u001b[0;34m:\u001b[0m  \u001b[0;31m# Metric is a valid BallTree metric\u001b[0m\u001b[0;34m\u001b[0m\u001b[0;34m\u001b[0m\u001b[0m\n\u001b[1;32m    599\u001b[0m             \u001b[0;31m# TO DO: Need heuristic to decide when to go to boruvka;\u001b[0m\u001b[0;34m\u001b[0m\u001b[0;34m\u001b[0m\u001b[0;34m\u001b[0m\u001b[0m\n",
      "\u001b[0;32m~/anaconda3/lib/python3.7/site-packages/joblib/memory.py\u001b[0m in \u001b[0;36m__call__\u001b[0;34m(self, *args, **kwargs)\u001b[0m\n\u001b[1;32m    353\u001b[0m \u001b[0;34m\u001b[0m\u001b[0m\n\u001b[1;32m    354\u001b[0m     \u001b[0;32mdef\u001b[0m \u001b[0m__call__\u001b[0m\u001b[0;34m(\u001b[0m\u001b[0mself\u001b[0m\u001b[0;34m,\u001b[0m \u001b[0;34m*\u001b[0m\u001b[0margs\u001b[0m\u001b[0;34m,\u001b[0m \u001b[0;34m**\u001b[0m\u001b[0mkwargs\u001b[0m\u001b[0;34m)\u001b[0m\u001b[0;34m:\u001b[0m\u001b[0;34m\u001b[0m\u001b[0;34m\u001b[0m\u001b[0m\n\u001b[0;32m--> 355\u001b[0;31m         \u001b[0;32mreturn\u001b[0m \u001b[0mself\u001b[0m\u001b[0;34m.\u001b[0m\u001b[0mfunc\u001b[0m\u001b[0;34m(\u001b[0m\u001b[0;34m*\u001b[0m\u001b[0margs\u001b[0m\u001b[0;34m,\u001b[0m \u001b[0;34m**\u001b[0m\u001b[0mkwargs\u001b[0m\u001b[0;34m)\u001b[0m\u001b[0;34m\u001b[0m\u001b[0;34m\u001b[0m\u001b[0m\n\u001b[0m\u001b[1;32m    356\u001b[0m \u001b[0;34m\u001b[0m\u001b[0m\n\u001b[1;32m    357\u001b[0m     \u001b[0;32mdef\u001b[0m \u001b[0mcall_and_shelve\u001b[0m\u001b[0;34m(\u001b[0m\u001b[0mself\u001b[0m\u001b[0;34m,\u001b[0m \u001b[0;34m*\u001b[0m\u001b[0margs\u001b[0m\u001b[0;34m,\u001b[0m \u001b[0;34m**\u001b[0m\u001b[0mkwargs\u001b[0m\u001b[0;34m)\u001b[0m\u001b[0;34m:\u001b[0m\u001b[0;34m\u001b[0m\u001b[0;34m\u001b[0m\u001b[0m\n",
      "\u001b[0;32m~/anaconda3/lib/python3.7/site-packages/hdbscan/hdbscan_.py\u001b[0m in \u001b[0;36m_hdbscan_boruvka_kdtree\u001b[0;34m(X, min_samples, alpha, metric, p, leaf_size, approx_min_span_tree, gen_min_span_tree, core_dist_n_jobs, **kwargs)\u001b[0m\n\u001b[1;32m    275\u001b[0m                                  \u001b[0mapprox_min_span_tree\u001b[0m\u001b[0;34m=\u001b[0m\u001b[0mapprox_min_span_tree\u001b[0m\u001b[0;34m,\u001b[0m\u001b[0;34m\u001b[0m\u001b[0;34m\u001b[0m\u001b[0m\n\u001b[1;32m    276\u001b[0m                                  n_jobs=core_dist_n_jobs, **kwargs)\n\u001b[0;32m--> 277\u001b[0;31m     \u001b[0mmin_spanning_tree\u001b[0m \u001b[0;34m=\u001b[0m \u001b[0malg\u001b[0m\u001b[0;34m.\u001b[0m\u001b[0mspanning_tree\u001b[0m\u001b[0;34m(\u001b[0m\u001b[0;34m)\u001b[0m\u001b[0;34m\u001b[0m\u001b[0;34m\u001b[0m\u001b[0m\n\u001b[0m\u001b[1;32m    278\u001b[0m     \u001b[0;31m# Sort edges of the min_spanning_tree by weight\u001b[0m\u001b[0;34m\u001b[0m\u001b[0;34m\u001b[0m\u001b[0;34m\u001b[0m\u001b[0m\n\u001b[1;32m    279\u001b[0m     \u001b[0mrow_order\u001b[0m \u001b[0;34m=\u001b[0m \u001b[0mnp\u001b[0m\u001b[0;34m.\u001b[0m\u001b[0margsort\u001b[0m\u001b[0;34m(\u001b[0m\u001b[0mmin_spanning_tree\u001b[0m\u001b[0;34m.\u001b[0m\u001b[0mT\u001b[0m\u001b[0;34m[\u001b[0m\u001b[0;36m2\u001b[0m\u001b[0;34m]\u001b[0m\u001b[0;34m)\u001b[0m\u001b[0;34m\u001b[0m\u001b[0;34m\u001b[0m\u001b[0m\n",
      "\u001b[0;31mKeyboardInterrupt\u001b[0m: "
     ]
    }
   ],
   "source": [
    "from hdbscan import approximate_predict\n",
    "\n",
    "clusterer_hdbscan2 = HDBSCAN(prediction_data=True)\n",
    "hdbscan_labels2 = clusterer_hdbscan.fit_predict(data_pca)"
   ]
  },
  {
   "cell_type": "markdown",
   "metadata": {},
   "source": [
    "## UMAPS "
   ]
  },
  {
   "cell_type": "code",
   "execution_count": 37,
   "metadata": {},
   "outputs": [
    {
     "ename": "AttributeError",
     "evalue": "module 'umap' has no attribute 'UMAP'",
     "output_type": "error",
     "traceback": [
      "\u001b[0;31m---------------------------------------------------------------------------\u001b[0m",
      "\u001b[0;31mAttributeError\u001b[0m                            Traceback (most recent call last)",
      "\u001b[0;32m<ipython-input-37-697707ffee8a>\u001b[0m in \u001b[0;36m<module>\u001b[0;34m\u001b[0m\n\u001b[0;32m----> 1\u001b[0;31m clusterable_embedding = umap.UMAP(\n\u001b[0m\u001b[1;32m      2\u001b[0m     \u001b[0mn_neighbors\u001b[0m\u001b[0;34m=\u001b[0m\u001b[0;36m30\u001b[0m\u001b[0;34m,\u001b[0m\u001b[0;34m\u001b[0m\u001b[0;34m\u001b[0m\u001b[0m\n\u001b[1;32m      3\u001b[0m     \u001b[0mmin_dist\u001b[0m\u001b[0;34m=\u001b[0m\u001b[0;36m0.0\u001b[0m\u001b[0;34m,\u001b[0m\u001b[0;34m\u001b[0m\u001b[0;34m\u001b[0m\u001b[0m\n\u001b[1;32m      4\u001b[0m     \u001b[0mn_components\u001b[0m\u001b[0;34m=\u001b[0m\u001b[0;36m2\u001b[0m\u001b[0;34m,\u001b[0m\u001b[0;34m\u001b[0m\u001b[0;34m\u001b[0m\u001b[0m\n\u001b[1;32m      5\u001b[0m     \u001b[0mrandom_state\u001b[0m\u001b[0;34m=\u001b[0m\u001b[0;36m42\u001b[0m\u001b[0;34m,\u001b[0m\u001b[0;34m\u001b[0m\u001b[0;34m\u001b[0m\u001b[0m\n",
      "\u001b[0;31mAttributeError\u001b[0m: module 'umap' has no attribute 'UMAP'"
     ]
    }
   ],
   "source": [
    "clusterable_embedding = umap.UMAP(\n",
    "    n_neighbors=30,\n",
    "    min_dist=0.0,\n",
    "    n_components=2,\n",
    "    random_state=42,\n",
    ").fit_transform(data_pca)"
   ]
  },
  {
   "cell_type": "code",
   "execution_count": null,
   "metadata": {},
   "outputs": [],
   "source": []
  },
  {
   "cell_type": "code",
   "execution_count": null,
   "metadata": {},
   "outputs": [],
   "source": []
  },
  {
   "cell_type": "code",
   "execution_count": null,
   "metadata": {},
   "outputs": [],
   "source": []
  }
 ],
 "metadata": {
  "kernelspec": {
   "display_name": "Python 3",
   "language": "python",
   "name": "python3"
  },
  "language_info": {
   "codemirror_mode": {
    "name": "ipython",
    "version": 3
   },
   "file_extension": ".py",
   "mimetype": "text/x-python",
   "name": "python",
   "nbconvert_exporter": "python",
   "pygments_lexer": "ipython3",
   "version": "3.7.3"
  }
 },
 "nbformat": 4,
 "nbformat_minor": 2
}
