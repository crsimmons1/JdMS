{
 "cells": [
  {
   "cell_type": "markdown",
   "metadata": {},
   "source": [
    "# Cleaning the Data"
   ]
  },
  {
   "cell_type": "markdown",
   "metadata": {},
   "source": [
    "## Data Prep "
   ]
  },
  {
   "cell_type": "markdown",
   "metadata": {},
   "source": [
    "### Load Packages"
   ]
  },
  {
   "cell_type": "code",
   "execution_count": 1,
   "metadata": {},
   "outputs": [],
   "source": [
    "import pandas as pd\n",
    "from scipy import stats\n",
    "import numpy as np\n",
    "import matplotlib.pyplot as plt\n",
    "import seaborn as sns\n",
    "import warnings\n",
    "warnings.simplefilter(\"ignore\")\n",
    "from IPython.display import Image\n",
    "from ipywidgets import interact, fixed"
   ]
  },
  {
   "cell_type": "code",
   "execution_count": 2,
   "metadata": {},
   "outputs": [],
   "source": [
    "df = pd.read_csv('Data/2017.csv')\n",
    "#df.to_parquet('2017.parquet')"
   ]
  },
  {
   "cell_type": "code",
   "execution_count": null,
   "metadata": {},
   "outputs": [],
   "source": [
    "#import pyarrow.parquet as pq\n",
    "#table = pq.read_table(\"2017.parquet\")\n",
    "# Optionally convert to Pandas DataFrame\n",
    "#df = table.to_pandas()"
   ]
  },
  {
   "cell_type": "markdown",
   "metadata": {},
   "source": [
    "### Manipulate Columns"
   ]
  },
  {
   "cell_type": "code",
   "execution_count": 3,
   "metadata": {},
   "outputs": [],
   "source": [
    "#Translate column names into english\n",
    "data = df.rename(columns={\n",
    "    \"hashed_ID_Único\":\"UniqueID\",\n",
    "    \"Data\":\"Date\", \n",
    "    \"Unidade\":\"Facility\",\n",
    "    \"Grupo EFR\":\"Payer\",\n",
    "    \"Grupo Rúbrica\":\"SpecificService\", \n",
    "    \"Tipo Rúbrica\":\"CategoryofService\",\n",
    "    \"Sexo\":\"Sex\",\n",
    "    \"Data Nascimento\":\"BirthYear\",\n",
    "})"
   ]
  },
  {
   "cell_type": "code",
   "execution_count": 4,
   "metadata": {},
   "outputs": [
    {
     "data": {
      "text/html": [
       "<div>\n",
       "<style scoped>\n",
       "    .dataframe tbody tr th:only-of-type {\n",
       "        vertical-align: middle;\n",
       "    }\n",
       "\n",
       "    .dataframe tbody tr th {\n",
       "        vertical-align: top;\n",
       "    }\n",
       "\n",
       "    .dataframe thead th {\n",
       "        text-align: right;\n",
       "    }\n",
       "</style>\n",
       "<table border=\"1\" class=\"dataframe\">\n",
       "  <thead>\n",
       "    <tr style=\"text-align: right;\">\n",
       "      <th></th>\n",
       "      <th>Date</th>\n",
       "      <th>Facility</th>\n",
       "      <th>Payer</th>\n",
       "      <th>SpecificService</th>\n",
       "      <th>CategoryofService</th>\n",
       "      <th>BirthYear</th>\n",
       "      <th>Sex</th>\n",
       "      <th>UniqueID</th>\n",
       "    </tr>\n",
       "  </thead>\n",
       "  <tbody>\n",
       "    <tr>\n",
       "      <th>0</th>\n",
       "      <td>14/09/2017</td>\n",
       "      <td>HCIS</td>\n",
       "      <td>ADSE</td>\n",
       "      <td>SERVIÇOS ESPECIAIS CARDIOLOGIA</td>\n",
       "      <td>EXAMES ESPECIAIS</td>\n",
       "      <td>1980.0</td>\n",
       "      <td>Feminino</td>\n",
       "      <td>91e9d2627cd4cc24958988333c4220a3</td>\n",
       "    </tr>\n",
       "    <tr>\n",
       "      <th>1</th>\n",
       "      <td>21/08/2017</td>\n",
       "      <td>CCSJM</td>\n",
       "      <td>PARTICULARES</td>\n",
       "      <td>SERVIÇOS E TÉCNICAS GERAIS</td>\n",
       "      <td>EXAMES ESPECIAIS</td>\n",
       "      <td>1980.0</td>\n",
       "      <td>Feminino</td>\n",
       "      <td>91e9d2627cd4cc24958988333c4220a3</td>\n",
       "    </tr>\n",
       "    <tr>\n",
       "      <th>2</th>\n",
       "      <td>21/08/2017</td>\n",
       "      <td>CCSJM</td>\n",
       "      <td>PARTICULARES</td>\n",
       "      <td>SERVIÇOS E TÉCNICAS GERAIS</td>\n",
       "      <td>SERVIÇOS E TÉCNICAS GERAIS</td>\n",
       "      <td>1980.0</td>\n",
       "      <td>Feminino</td>\n",
       "      <td>91e9d2627cd4cc24958988333c4220a3</td>\n",
       "    </tr>\n",
       "    <tr>\n",
       "      <th>3</th>\n",
       "      <td>18/12/2017</td>\n",
       "      <td>CCTV</td>\n",
       "      <td>ADSE</td>\n",
       "      <td>SERVIÇOS ESPECIAIS UROLOGIA</td>\n",
       "      <td>EXAMES ESPECIAIS</td>\n",
       "      <td>1980.0</td>\n",
       "      <td>Feminino</td>\n",
       "      <td>91e9d2627cd4cc24958988333c4220a3</td>\n",
       "    </tr>\n",
       "    <tr>\n",
       "      <th>4</th>\n",
       "      <td>24/04/2017</td>\n",
       "      <td>CCSJM</td>\n",
       "      <td>PARTICULARES</td>\n",
       "      <td>SERVIÇOS ESPECIAIS CARDIOLOGIA</td>\n",
       "      <td>EXAMES ESPECIAIS</td>\n",
       "      <td>1980.0</td>\n",
       "      <td>Feminino</td>\n",
       "      <td>91e9d2627cd4cc24958988333c4220a3</td>\n",
       "    </tr>\n",
       "  </tbody>\n",
       "</table>\n",
       "</div>"
      ],
      "text/plain": [
       "         Date Facility         Payer                 SpecificService  \\\n",
       "0  14/09/2017     HCIS          ADSE  SERVIÇOS ESPECIAIS CARDIOLOGIA   \n",
       "1  21/08/2017    CCSJM  PARTICULARES      SERVIÇOS E TÉCNICAS GERAIS   \n",
       "2  21/08/2017    CCSJM  PARTICULARES      SERVIÇOS E TÉCNICAS GERAIS   \n",
       "3  18/12/2017     CCTV          ADSE     SERVIÇOS ESPECIAIS UROLOGIA   \n",
       "4  24/04/2017    CCSJM  PARTICULARES  SERVIÇOS ESPECIAIS CARDIOLOGIA   \n",
       "\n",
       "            CategoryofService  BirthYear       Sex  \\\n",
       "0            EXAMES ESPECIAIS     1980.0  Feminino   \n",
       "1            EXAMES ESPECIAIS     1980.0  Feminino   \n",
       "2  SERVIÇOS E TÉCNICAS GERAIS     1980.0  Feminino   \n",
       "3            EXAMES ESPECIAIS     1980.0  Feminino   \n",
       "4            EXAMES ESPECIAIS     1980.0  Feminino   \n",
       "\n",
       "                           UniqueID  \n",
       "0  91e9d2627cd4cc24958988333c4220a3  \n",
       "1  91e9d2627cd4cc24958988333c4220a3  \n",
       "2  91e9d2627cd4cc24958988333c4220a3  \n",
       "3  91e9d2627cd4cc24958988333c4220a3  \n",
       "4  91e9d2627cd4cc24958988333c4220a3  "
      ]
     },
     "execution_count": 4,
     "metadata": {},
     "output_type": "execute_result"
    }
   ],
   "source": [
    "data.head()"
   ]
  },
  {
   "cell_type": "code",
   "execution_count": 5,
   "metadata": {},
   "outputs": [],
   "source": [
    "import datetime\n",
    "data[\"Date\"] = pd.to_datetime(data.Date, errors=\"coerce\") #converting to date time \n",
    "data[\"Age\"] = data[\"Date\"].dt.year - data[\"BirthYear\"] # Calculate Approximate Age"
   ]
  },
  {
   "cell_type": "code",
   "execution_count": null,
   "metadata": {},
   "outputs": [],
   "source": [
    "data[\"Date\"]= data[\"Date\"].dt.year"
   ]
  },
  {
   "cell_type": "code",
   "execution_count": null,
   "metadata": {},
   "outputs": [],
   "source": [
    "data.head()"
   ]
  },
  {
   "cell_type": "markdown",
   "metadata": {},
   "source": [
    "## Delete Uneeded Columns"
   ]
  },
  {
   "cell_type": "code",
   "execution_count": null,
   "metadata": {},
   "outputs": [],
   "source": [
    "del data[\"BirthYear\"]\n",
    "data.head(2)"
   ]
  },
  {
   "cell_type": "markdown",
   "metadata": {},
   "source": [
    "## Data Cleaning"
   ]
  },
  {
   "cell_type": "code",
   "execution_count": 6,
   "metadata": {},
   "outputs": [],
   "source": [
    "data = data[data.Age>=0] #eliminate negative errors "
   ]
  },
  {
   "cell_type": "code",
   "execution_count": 7,
   "metadata": {},
   "outputs": [
    {
     "data": {
      "text/plain": [
       "45.92886010773716"
      ]
     },
     "execution_count": 7,
     "metadata": {},
     "output_type": "execute_result"
    }
   ],
   "source": [
    "data.Age.median() #old median\n",
    "data.Age.mean()"
   ]
  },
  {
   "cell_type": "code",
   "execution_count": 8,
   "metadata": {},
   "outputs": [
    {
     "data": {
      "text/plain": [
       "46.0"
      ]
     },
     "execution_count": 8,
     "metadata": {},
     "output_type": "execute_result"
    }
   ],
   "source": [
    "age_median = data.loc[data['Age']<110, 'Age'].median()\n",
    "age_median #median without zero and outliers of 117"
   ]
  },
  {
   "cell_type": "code",
   "execution_count": 9,
   "metadata": {},
   "outputs": [],
   "source": [
    "data.loc[data.Age > 110, 'Age'] = np.nan #fill the outliers with nan and replace with median later"
   ]
  },
  {
   "cell_type": "markdown",
   "metadata": {},
   "source": [
    "### Check for missing values "
   ]
  },
  {
   "cell_type": "code",
   "execution_count": 10,
   "metadata": {},
   "outputs": [
    {
     "name": "stdout",
     "output_type": "stream",
     "text": [
      "Date | 0.0 | datetime64[ns]\n",
      "Facility | 0.0 | object\n",
      "Payer | 8.735618746766296e-05 | object\n",
      "SpecificService | 0.005830222607331689 | object\n",
      "CategoryofService | 0.005830222607331689 | object\n",
      "BirthYear | 0.0 | float64\n",
      "Sex | 0.002305946419183162 | object\n",
      "UniqueID | 0.0 | object\n",
      "Age | 8.751676869462556e-05 | float64\n"
     ]
    }
   ],
   "source": [
    "n_records = len(data)\n",
    "def missing_values_df(df):\n",
    "    for column in df:\n",
    "        print(\"{} | {} | {}\".format(\n",
    "            column, len(df[df[column].isnull()]) / (1.0*n_records), df[column].dtype\n",
    "        ))\n",
    "\n",
    "missing_values_df(data)"
   ]
  },
  {
   "cell_type": "code",
   "execution_count": 11,
   "metadata": {},
   "outputs": [
    {
     "data": {
      "text/html": [
       "<div>\n",
       "<style scoped>\n",
       "    .dataframe tbody tr th:only-of-type {\n",
       "        vertical-align: middle;\n",
       "    }\n",
       "\n",
       "    .dataframe tbody tr th {\n",
       "        vertical-align: top;\n",
       "    }\n",
       "\n",
       "    .dataframe thead th {\n",
       "        text-align: right;\n",
       "    }\n",
       "</style>\n",
       "<table border=\"1\" class=\"dataframe\">\n",
       "  <thead>\n",
       "    <tr style=\"text-align: right;\">\n",
       "      <th></th>\n",
       "      <th>Date</th>\n",
       "      <th>Facility</th>\n",
       "      <th>Payer</th>\n",
       "      <th>SpecificService</th>\n",
       "      <th>CategoryofService</th>\n",
       "      <th>BirthYear</th>\n",
       "      <th>Sex</th>\n",
       "      <th>UniqueID</th>\n",
       "      <th>Age</th>\n",
       "    </tr>\n",
       "  </thead>\n",
       "  <tbody>\n",
       "    <tr>\n",
       "      <th>19</th>\n",
       "      <td>2017-04-07</td>\n",
       "      <td>HCP</td>\n",
       "      <td>NaN</td>\n",
       "      <td>BLOCO CIRURGIA AMBULATÓRIO</td>\n",
       "      <td>BLOCOS</td>\n",
       "      <td>1980.0</td>\n",
       "      <td>Feminino</td>\n",
       "      <td>91e9d2627cd4cc24958988333c4220a3</td>\n",
       "      <td>37.0</td>\n",
       "    </tr>\n",
       "    <tr>\n",
       "      <th>20</th>\n",
       "      <td>2017-04-07</td>\n",
       "      <td>HCP</td>\n",
       "      <td>NaN</td>\n",
       "      <td>BLOCO DE PARTOS</td>\n",
       "      <td>BLOCOS</td>\n",
       "      <td>1980.0</td>\n",
       "      <td>Feminino</td>\n",
       "      <td>91e9d2627cd4cc24958988333c4220a3</td>\n",
       "      <td>37.0</td>\n",
       "    </tr>\n",
       "  </tbody>\n",
       "</table>\n",
       "</div>"
      ],
      "text/plain": [
       "         Date Facility Payer             SpecificService CategoryofService  \\\n",
       "19 2017-04-07      HCP   NaN  BLOCO CIRURGIA AMBULATÓRIO            BLOCOS   \n",
       "20 2017-04-07      HCP   NaN             BLOCO DE PARTOS            BLOCOS   \n",
       "\n",
       "    BirthYear       Sex                          UniqueID   Age  \n",
       "19     1980.0  Feminino  91e9d2627cd4cc24958988333c4220a3  37.0  \n",
       "20     1980.0  Feminino  91e9d2627cd4cc24958988333c4220a3  37.0  "
      ]
     },
     "execution_count": 11,
     "metadata": {},
     "output_type": "execute_result"
    }
   ],
   "source": [
    "null_data = data[data.isnull().any(axis=1)] #looking to see if the missing values where consistently missing for a single cutsomer\n",
    "null_data.head(2)"
   ]
  },
  {
   "cell_type": "code",
   "execution_count": 12,
   "metadata": {},
   "outputs": [],
   "source": [
    "data.Payer = data.Payer.fillna(\"Missing\")\n",
    "data.SpecificService = data.SpecificService.fillna(\"Missing\")\n",
    "data.CategoryofService = data.CategoryofService.fillna(\"Missing\")\n",
    "data.Sex = data.Sex.fillna(\"Missing\")\n",
    "data.Age = data.Age.fillna(age_median)\n",
    "\n",
    "#replace missing strings with the string \"Missing\" \n",
    "#missing age/anything above 110 was replaced with the median of values under 110"
   ]
  },
  {
   "cell_type": "code",
   "execution_count": 13,
   "metadata": {},
   "outputs": [
    {
     "name": "stdout",
     "output_type": "stream",
     "text": [
      "Date | 0.0 | datetime64[ns]\n",
      "Facility | 0.0 | object\n",
      "Payer | 0.0 | object\n",
      "SpecificService | 0.0 | object\n",
      "CategoryofService | 0.0 | object\n",
      "BirthYear | 0.0 | float64\n",
      "Sex | 0.0 | object\n",
      "UniqueID | 0.0 | object\n",
      "Age | 0.0 | float64\n"
     ]
    }
   ],
   "source": [
    "missing_values_df(data) #no more missing values"
   ]
  },
  {
   "cell_type": "code",
   "execution_count": 14,
   "metadata": {},
   "outputs": [],
   "source": [
    "data = data[data.UniqueID != '6bb61e3b7bce0931da574d19d1d82c88'] \n",
    "#deleting a virtual customer from the dataset"
   ]
  },
  {
   "cell_type": "code",
   "execution_count": 15,
   "metadata": {},
   "outputs": [
    {
     "data": {
      "text/plain": [
       "<matplotlib.axes._subplots.AxesSubplot at 0x1063cc128>"
      ]
     },
     "execution_count": 15,
     "metadata": {},
     "output_type": "execute_result"
    },
    {
     "data": {
      "image/png": "[encoded data removed]",
      "text/plain": [
       "<Figure size 432x288 with 1 Axes>"
      ]
     },
     "metadata": {
      "needs_background": "light"
     },
     "output_type": "display_data"
    }
   ],
   "source": [
    "data.boxplot(column='Age')"
   ]
  },
  {
   "cell_type": "code",
   "execution_count": 16,
   "metadata": {},
   "outputs": [
    {
     "data": {
      "text/plain": [
       "count    6.227378e+06\n",
       "mean     4.592265e+01\n",
       "std      2.212655e+01\n",
       "min      0.000000e+00\n",
       "25%      3.200000e+01\n",
       "50%      4.600000e+01\n",
       "75%      6.300000e+01\n",
       "max      1.070000e+02\n",
       "Name: Age, dtype: float64"
      ]
     },
     "execution_count": 16,
     "metadata": {},
     "output_type": "execute_result"
    }
   ],
   "source": [
    "data.Age.describe()"
   ]
  },
  {
   "cell_type": "markdown",
   "metadata": {},
   "source": [
    "### Variable Grouping by Age"
   ]
  },
  {
   "cell_type": "code",
   "execution_count": 22,
   "metadata": {},
   "outputs": [],
   "source": [
    "data['Age_Group']= 'hi'"
   ]
  },
  {
   "cell_type": "code",
   "execution_count": 23,
   "metadata": {},
   "outputs": [
    {
     "data": {
      "text/plain": [
       "Date                 datetime64[ns]\n",
       "Facility                     object\n",
       "Payer                        object\n",
       "SpecificService              object\n",
       "CategoryofService            object\n",
       "BirthYear                   float64\n",
       "Sex                          object\n",
       "UniqueID                     object\n",
       "Age                         float64\n",
       "Age_Group                    object\n",
       "dtype: object"
      ]
     },
     "execution_count": 23,
     "metadata": {},
     "output_type": "execute_result"
    }
   ],
   "source": [
    "data.dtypes"
   ]
  },
  {
   "cell_type": "code",
   "execution_count": 24,
   "metadata": {},
   "outputs": [],
   "source": [
    "data['Age_Group'][(data[\"Age\"]<18) & (data[\"Age\"]>=5)] = \"Child\"\n",
    "data['Age_Group'][(data[\"Age\"]>=18) & (data[\"Age\"]<44)] = \"YoungAdult\"\n",
    "data['Age_Group'][(data[\"Age\"]>=44) & (data[\"Age\"]<64)] = \"Adult\"\n",
    "data['Age_Group'][(data[\"Age\"]>=64) & (data[\"Age\"]<81)] = \"Senior\"\n",
    "data['Age_Group'][data[\"Age\"]>=81] = \"Elderly\""
   ]
  },
  {
   "cell_type": "code",
   "execution_count": null,
   "metadata": {},
   "outputs": [],
   "source": [
    "data['Age_Group'] = data['Age_Group'].astype('category')"
   ]
  },
  {
   "cell_type": "code",
   "execution_count": 25,
   "metadata": {},
   "outputs": [
    {
     "data": {
      "text/plain": [
       "Date                 datetime64[ns]\n",
       "Facility                     object\n",
       "Payer                        object\n",
       "SpecificService              object\n",
       "CategoryofService            object\n",
       "BirthYear                   float64\n",
       "Sex                          object\n",
       "UniqueID                     object\n",
       "Age                         float64\n",
       "Age_Group                    object\n",
       "dtype: object"
      ]
     },
     "execution_count": 25,
     "metadata": {},
     "output_type": "execute_result"
    }
   ],
   "source": [
    "data.dtypes"
   ]
  },
  {
   "cell_type": "code",
   "execution_count": 26,
   "metadata": {},
   "outputs": [
    {
     "data": {
      "text/html": [
       "<div>\n",
       "<style scoped>\n",
       "    .dataframe tbody tr th:only-of-type {\n",
       "        vertical-align: middle;\n",
       "    }\n",
       "\n",
       "    .dataframe tbody tr th {\n",
       "        vertical-align: top;\n",
       "    }\n",
       "\n",
       "    .dataframe thead th {\n",
       "        text-align: right;\n",
       "    }\n",
       "</style>\n",
       "<table border=\"1\" class=\"dataframe\">\n",
       "  <thead>\n",
       "    <tr style=\"text-align: right;\">\n",
       "      <th></th>\n",
       "      <th>Date</th>\n",
       "      <th>Facility</th>\n",
       "      <th>Payer</th>\n",
       "      <th>SpecificService</th>\n",
       "      <th>CategoryofService</th>\n",
       "      <th>BirthYear</th>\n",
       "      <th>Sex</th>\n",
       "      <th>UniqueID</th>\n",
       "      <th>Age</th>\n",
       "      <th>Age_Group</th>\n",
       "    </tr>\n",
       "  </thead>\n",
       "  <tbody>\n",
       "    <tr>\n",
       "      <th>0</th>\n",
       "      <td>2017-09-14</td>\n",
       "      <td>HCIS</td>\n",
       "      <td>ADSE</td>\n",
       "      <td>SERVIÇOS ESPECIAIS CARDIOLOGIA</td>\n",
       "      <td>EXAMES ESPECIAIS</td>\n",
       "      <td>1980.0</td>\n",
       "      <td>Feminino</td>\n",
       "      <td>91e9d2627cd4cc24958988333c4220a3</td>\n",
       "      <td>37.0</td>\n",
       "      <td>YoungAdult</td>\n",
       "    </tr>\n",
       "    <tr>\n",
       "      <th>1</th>\n",
       "      <td>2017-08-21</td>\n",
       "      <td>CCSJM</td>\n",
       "      <td>PARTICULARES</td>\n",
       "      <td>SERVIÇOS E TÉCNICAS GERAIS</td>\n",
       "      <td>EXAMES ESPECIAIS</td>\n",
       "      <td>1980.0</td>\n",
       "      <td>Feminino</td>\n",
       "      <td>91e9d2627cd4cc24958988333c4220a3</td>\n",
       "      <td>37.0</td>\n",
       "      <td>YoungAdult</td>\n",
       "    </tr>\n",
       "    <tr>\n",
       "      <th>2</th>\n",
       "      <td>2017-08-21</td>\n",
       "      <td>CCSJM</td>\n",
       "      <td>PARTICULARES</td>\n",
       "      <td>SERVIÇOS E TÉCNICAS GERAIS</td>\n",
       "      <td>SERVIÇOS E TÉCNICAS GERAIS</td>\n",
       "      <td>1980.0</td>\n",
       "      <td>Feminino</td>\n",
       "      <td>91e9d2627cd4cc24958988333c4220a3</td>\n",
       "      <td>37.0</td>\n",
       "      <td>YoungAdult</td>\n",
       "    </tr>\n",
       "    <tr>\n",
       "      <th>3</th>\n",
       "      <td>2017-12-18</td>\n",
       "      <td>CCTV</td>\n",
       "      <td>ADSE</td>\n",
       "      <td>SERVIÇOS ESPECIAIS UROLOGIA</td>\n",
       "      <td>EXAMES ESPECIAIS</td>\n",
       "      <td>1980.0</td>\n",
       "      <td>Feminino</td>\n",
       "      <td>91e9d2627cd4cc24958988333c4220a3</td>\n",
       "      <td>37.0</td>\n",
       "      <td>YoungAdult</td>\n",
       "    </tr>\n",
       "    <tr>\n",
       "      <th>4</th>\n",
       "      <td>2017-04-24</td>\n",
       "      <td>CCSJM</td>\n",
       "      <td>PARTICULARES</td>\n",
       "      <td>SERVIÇOS ESPECIAIS CARDIOLOGIA</td>\n",
       "      <td>EXAMES ESPECIAIS</td>\n",
       "      <td>1980.0</td>\n",
       "      <td>Feminino</td>\n",
       "      <td>91e9d2627cd4cc24958988333c4220a3</td>\n",
       "      <td>37.0</td>\n",
       "      <td>YoungAdult</td>\n",
       "    </tr>\n",
       "  </tbody>\n",
       "</table>\n",
       "</div>"
      ],
      "text/plain": [
       "        Date Facility         Payer                 SpecificService  \\\n",
       "0 2017-09-14     HCIS          ADSE  SERVIÇOS ESPECIAIS CARDIOLOGIA   \n",
       "1 2017-08-21    CCSJM  PARTICULARES      SERVIÇOS E TÉCNICAS GERAIS   \n",
       "2 2017-08-21    CCSJM  PARTICULARES      SERVIÇOS E TÉCNICAS GERAIS   \n",
       "3 2017-12-18     CCTV          ADSE     SERVIÇOS ESPECIAIS UROLOGIA   \n",
       "4 2017-04-24    CCSJM  PARTICULARES  SERVIÇOS ESPECIAIS CARDIOLOGIA   \n",
       "\n",
       "            CategoryofService  BirthYear       Sex  \\\n",
       "0            EXAMES ESPECIAIS     1980.0  Feminino   \n",
       "1            EXAMES ESPECIAIS     1980.0  Feminino   \n",
       "2  SERVIÇOS E TÉCNICAS GERAIS     1980.0  Feminino   \n",
       "3            EXAMES ESPECIAIS     1980.0  Feminino   \n",
       "4            EXAMES ESPECIAIS     1980.0  Feminino   \n",
       "\n",
       "                           UniqueID   Age   Age_Group  \n",
       "0  91e9d2627cd4cc24958988333c4220a3  37.0  YoungAdult  \n",
       "1  91e9d2627cd4cc24958988333c4220a3  37.0  YoungAdult  \n",
       "2  91e9d2627cd4cc24958988333c4220a3  37.0  YoungAdult  \n",
       "3  91e9d2627cd4cc24958988333c4220a3  37.0  YoungAdult  \n",
       "4  91e9d2627cd4cc24958988333c4220a3  37.0  YoungAdult  "
      ]
     },
     "execution_count": 26,
     "metadata": {},
     "output_type": "execute_result"
    }
   ],
   "source": [
    "data.head()"
   ]
  },
  {
   "cell_type": "markdown",
   "metadata": {},
   "source": [
    "### Create a customer dataframe "
   ]
  },
  {
   "cell_type": "code",
   "execution_count": 28,
   "metadata": {},
   "outputs": [],
   "source": [
    "patient_visits = data.UniqueID.value_counts(sort=False)"
   ]
  },
  {
   "cell_type": "code",
   "execution_count": 29,
   "metadata": {},
   "outputs": [
    {
     "data": {
      "text/html": [
       "<div>\n",
       "<style scoped>\n",
       "    .dataframe tbody tr th:only-of-type {\n",
       "        vertical-align: middle;\n",
       "    }\n",
       "\n",
       "    .dataframe tbody tr th {\n",
       "        vertical-align: top;\n",
       "    }\n",
       "\n",
       "    .dataframe thead th {\n",
       "        text-align: right;\n",
       "    }\n",
       "</style>\n",
       "<table border=\"1\" class=\"dataframe\">\n",
       "  <thead>\n",
       "    <tr style=\"text-align: right;\">\n",
       "      <th></th>\n",
       "      <th>UniqueID</th>\n",
       "      <th>FrequencyofVisits</th>\n",
       "    </tr>\n",
       "  </thead>\n",
       "  <tbody>\n",
       "    <tr>\n",
       "      <th>0</th>\n",
       "      <td>60c3d0695fc4b9eb81f91c879bed85d2</td>\n",
       "      <td>1</td>\n",
       "    </tr>\n",
       "    <tr>\n",
       "      <th>1</th>\n",
       "      <td>5c991cdbb0cf298796fb627b2b711729</td>\n",
       "      <td>3</td>\n",
       "    </tr>\n",
       "    <tr>\n",
       "      <th>2</th>\n",
       "      <td>7bee9d628e9fc2450c2540dd09fff602</td>\n",
       "      <td>4</td>\n",
       "    </tr>\n",
       "    <tr>\n",
       "      <th>3</th>\n",
       "      <td>c0c54c219d7900711bc8a4aad25a3f34</td>\n",
       "      <td>2</td>\n",
       "    </tr>\n",
       "    <tr>\n",
       "      <th>4</th>\n",
       "      <td>053ece419f55be617febdbf590bc7419</td>\n",
       "      <td>3</td>\n",
       "    </tr>\n",
       "  </tbody>\n",
       "</table>\n",
       "</div>"
      ],
      "text/plain": [
       "                           UniqueID  FrequencyofVisits\n",
       "0  60c3d0695fc4b9eb81f91c879bed85d2                  1\n",
       "1  5c991cdbb0cf298796fb627b2b711729                  3\n",
       "2  7bee9d628e9fc2450c2540dd09fff602                  4\n",
       "3  c0c54c219d7900711bc8a4aad25a3f34                  2\n",
       "4  053ece419f55be617febdbf590bc7419                  3"
      ]
     },
     "execution_count": 29,
     "metadata": {},
     "output_type": "execute_result"
    }
   ],
   "source": [
    "customers = patient_visits.rename_axis('UniqueID').reset_index(name='FrequencyofVisits')\n",
    "customers.head()"
   ]
  },
  {
   "cell_type": "code",
   "execution_count": 30,
   "metadata": {},
   "outputs": [
    {
     "data": {
      "text/html": [
       "<div>\n",
       "<style scoped>\n",
       "    .dataframe tbody tr th:only-of-type {\n",
       "        vertical-align: middle;\n",
       "    }\n",
       "\n",
       "    .dataframe tbody tr th {\n",
       "        vertical-align: top;\n",
       "    }\n",
       "\n",
       "    .dataframe thead th {\n",
       "        text-align: right;\n",
       "    }\n",
       "</style>\n",
       "<table border=\"1\" class=\"dataframe\">\n",
       "  <thead>\n",
       "    <tr style=\"text-align: right;\">\n",
       "      <th></th>\n",
       "      <th>UniqueID</th>\n",
       "      <th>FrequencyofVisits</th>\n",
       "      <th>Age</th>\n",
       "      <th>Sex</th>\n",
       "    </tr>\n",
       "  </thead>\n",
       "  <tbody>\n",
       "    <tr>\n",
       "      <th>0</th>\n",
       "      <td>60c3d0695fc4b9eb81f91c879bed85d2</td>\n",
       "      <td>1</td>\n",
       "      <td>37.0</td>\n",
       "      <td>Feminino</td>\n",
       "    </tr>\n",
       "    <tr>\n",
       "      <th>1</th>\n",
       "      <td>5c991cdbb0cf298796fb627b2b711729</td>\n",
       "      <td>3</td>\n",
       "      <td>37.0</td>\n",
       "      <td>Feminino</td>\n",
       "    </tr>\n",
       "    <tr>\n",
       "      <th>2</th>\n",
       "      <td>7bee9d628e9fc2450c2540dd09fff602</td>\n",
       "      <td>4</td>\n",
       "      <td>37.0</td>\n",
       "      <td>Feminino</td>\n",
       "    </tr>\n",
       "    <tr>\n",
       "      <th>3</th>\n",
       "      <td>c0c54c219d7900711bc8a4aad25a3f34</td>\n",
       "      <td>2</td>\n",
       "      <td>37.0</td>\n",
       "      <td>Feminino</td>\n",
       "    </tr>\n",
       "    <tr>\n",
       "      <th>4</th>\n",
       "      <td>053ece419f55be617febdbf590bc7419</td>\n",
       "      <td>3</td>\n",
       "      <td>37.0</td>\n",
       "      <td>Feminino</td>\n",
       "    </tr>\n",
       "  </tbody>\n",
       "</table>\n",
       "</div>"
      ],
      "text/plain": [
       "                           UniqueID  FrequencyofVisits   Age       Sex\n",
       "0  60c3d0695fc4b9eb81f91c879bed85d2                  1  37.0  Feminino\n",
       "1  5c991cdbb0cf298796fb627b2b711729                  3  37.0  Feminino\n",
       "2  7bee9d628e9fc2450c2540dd09fff602                  4  37.0  Feminino\n",
       "3  c0c54c219d7900711bc8a4aad25a3f34                  2  37.0  Feminino\n",
       "4  053ece419f55be617febdbf590bc7419                  3  37.0  Feminino"
      ]
     },
     "execution_count": 30,
     "metadata": {},
     "output_type": "execute_result"
    }
   ],
   "source": [
    "customers[[\"Age\",\"Sex\"]]= data[[\"Age\",\"Sex\"]]\n",
    "customers.head()"
   ]
  },
  {
   "cell_type": "markdown",
   "metadata": {},
   "source": [
    "### Export Dataset\n",
    "Use pickle format so that df reads into notebook faster "
   ]
  },
  {
   "cell_type": "code",
   "execution_count": 32,
   "metadata": {},
   "outputs": [],
   "source": [
    "# This is the long format, the transaction table \n",
    "data.to_parquet('Data/cleaned_data.parquet')"
   ]
  },
  {
   "cell_type": "code",
   "execution_count": 33,
   "metadata": {},
   "outputs": [],
   "source": [
    "# This is the wide format, the customer table \n",
    "customers.to_parquet(\"Data/customer_data.parquet\")"
   ]
  }
 ],
 "metadata": {
  "kernelspec": {
   "display_name": "Python 3",
   "language": "python",
   "name": "python3"
  },
  "language_info": {
   "codemirror_mode": {
    "name": "ipython",
    "version": 3
   },
   "file_extension": ".py",
   "mimetype": "text/x-python",
   "name": "python",
   "nbconvert_exporter": "python",
   "pygments_lexer": "ipython3",
   "version": "3.7.3"
  }
 },
 "nbformat": 4,
 "nbformat_minor": 2
}
