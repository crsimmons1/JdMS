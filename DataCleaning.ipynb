{
 "cells": [
  {
   "cell_type": "markdown",
   "metadata": {},
   "source": [
    "# Cleaning the Data"
   ]
  },
  {
   "cell_type": "markdown",
   "metadata": {},
   "source": [
    "## Data Prep "
   ]
  },
  {
   "cell_type": "markdown",
   "metadata": {},
   "source": [
    "### Load Packages"
   ]
  },
  {
   "cell_type": "code",
   "execution_count": 23,
   "metadata": {},
   "outputs": [],
   "source": [
    "import pandas as pd\n",
    "from scipy import stats\n",
    "import numpy as np\n",
    "import matplotlib.pyplot as plt\n",
    "import seaborn as sns\n",
    "\n",
    "from IPython.display import Image\n",
    "from ipywidgets import interact, fixed"
   ]
  },
  {
   "cell_type": "code",
   "execution_count": 24,
   "metadata": {},
   "outputs": [
    {
     "data": {
      "text/html": [
       "<div>\n",
       "<style scoped>\n",
       "    .dataframe tbody tr th:only-of-type {\n",
       "        vertical-align: middle;\n",
       "    }\n",
       "\n",
       "    .dataframe tbody tr th {\n",
       "        vertical-align: top;\n",
       "    }\n",
       "\n",
       "    .dataframe thead th {\n",
       "        text-align: right;\n",
       "    }\n",
       "</style>\n",
       "<table border=\"1\" class=\"dataframe\">\n",
       "  <thead>\n",
       "    <tr style=\"text-align: right;\">\n",
       "      <th></th>\n",
       "      <th>ID Único</th>\n",
       "      <th>Data</th>\n",
       "      <th>Unidade</th>\n",
       "      <th>Grupo EFR</th>\n",
       "      <th>Grupo Rúbrica</th>\n",
       "      <th>Tipo Rúbrica</th>\n",
       "      <th>Sexo</th>\n",
       "      <th>Data de Nascimento</th>\n",
       "      <th>Unnamed: 8</th>\n",
       "      <th>Unnamed: 9</th>\n",
       "    </tr>\n",
       "  </thead>\n",
       "  <tbody>\n",
       "    <tr>\n",
       "      <th>0</th>\n",
       "      <td>1</td>\n",
       "      <td>20-02-2017</td>\n",
       "      <td>HCIS</td>\n",
       "      <td>PARTICULARES</td>\n",
       "      <td>RX CONVENCIONAL</td>\n",
       "      <td>CONSULTA EXTERNA</td>\n",
       "      <td>F</td>\n",
       "      <td>1961</td>\n",
       "      <td>NaN</td>\n",
       "      <td>NaN</td>\n",
       "    </tr>\n",
       "    <tr>\n",
       "      <th>1</th>\n",
       "      <td>1</td>\n",
       "      <td>26-07-2017</td>\n",
       "      <td>CCA</td>\n",
       "      <td>PARTICULARES</td>\n",
       "      <td>URGÊNCIA GERAL</td>\n",
       "      <td>URGÊNCIAS</td>\n",
       "      <td>F</td>\n",
       "      <td>1961</td>\n",
       "      <td>NaN</td>\n",
       "      <td>This is just some randomly generated data. It ...</td>\n",
       "    </tr>\n",
       "    <tr>\n",
       "      <th>2</th>\n",
       "      <td>1</td>\n",
       "      <td>04-08-2017</td>\n",
       "      <td>HCS</td>\n",
       "      <td>ADSE</td>\n",
       "      <td>GASTROENTEROLOGIA</td>\n",
       "      <td>IMAGIOLOGIA</td>\n",
       "      <td>F</td>\n",
       "      <td>1961</td>\n",
       "      <td>NaN</td>\n",
       "      <td>NaN</td>\n",
       "    </tr>\n",
       "    <tr>\n",
       "      <th>3</th>\n",
       "      <td>1</td>\n",
       "      <td>15-09-2017</td>\n",
       "      <td>HCIS</td>\n",
       "      <td>ADSE</td>\n",
       "      <td>RECOBRO</td>\n",
       "      <td>NaN</td>\n",
       "      <td>F</td>\n",
       "      <td>1961</td>\n",
       "      <td>NaN</td>\n",
       "      <td>NaN</td>\n",
       "    </tr>\n",
       "    <tr>\n",
       "      <th>4</th>\n",
       "      <td>2</td>\n",
       "      <td>12-01-2017</td>\n",
       "      <td>HCS</td>\n",
       "      <td>ADSE</td>\n",
       "      <td>NEURO-CIRURGIA</td>\n",
       "      <td>URGÊNCIAS</td>\n",
       "      <td>F</td>\n",
       "      <td>1971</td>\n",
       "      <td>NaN</td>\n",
       "      <td>NaN</td>\n",
       "    </tr>\n",
       "  </tbody>\n",
       "</table>\n",
       "</div>"
      ],
      "text/plain": [
       "   ID Único        Data Unidade     Grupo EFR      Grupo Rúbrica  \\\n",
       "0         1  20-02-2017    HCIS  PARTICULARES    RX CONVENCIONAL   \n",
       "1         1  26-07-2017     CCA  PARTICULARES     URGÊNCIA GERAL   \n",
       "2         1  04-08-2017     HCS          ADSE  GASTROENTEROLOGIA   \n",
       "3         1  15-09-2017    HCIS          ADSE            RECOBRO   \n",
       "4         2  12-01-2017     HCS          ADSE     NEURO-CIRURGIA   \n",
       "\n",
       "       Tipo Rúbrica Sexo  Data de Nascimento  Unnamed: 8  \\\n",
       "0  CONSULTA EXTERNA    F                1961         NaN   \n",
       "1         URGÊNCIAS    F                1961         NaN   \n",
       "2       IMAGIOLOGIA    F                1961         NaN   \n",
       "3               NaN    F                1961         NaN   \n",
       "4         URGÊNCIAS    F                1971         NaN   \n",
       "\n",
       "                                          Unnamed: 9  \n",
       "0                                                NaN  \n",
       "1  This is just some randomly generated data. It ...  \n",
       "2                                                NaN  \n",
       "3                                                NaN  \n",
       "4                                                NaN  "
      ]
     },
     "execution_count": 24,
     "metadata": {},
     "output_type": "execute_result"
    }
   ],
   "source": [
    "df = pd.read_csv(\"SampleData.csv\")\n",
    "df.head()"
   ]
  },
  {
   "cell_type": "markdown",
   "metadata": {},
   "source": [
    "### Manipulate Columns"
   ]
  },
  {
   "cell_type": "code",
   "execution_count": 25,
   "metadata": {},
   "outputs": [
    {
     "data": {
      "text/html": [
       "<div>\n",
       "<style scoped>\n",
       "    .dataframe tbody tr th:only-of-type {\n",
       "        vertical-align: middle;\n",
       "    }\n",
       "\n",
       "    .dataframe tbody tr th {\n",
       "        vertical-align: top;\n",
       "    }\n",
       "\n",
       "    .dataframe thead th {\n",
       "        text-align: right;\n",
       "    }\n",
       "</style>\n",
       "<table border=\"1\" class=\"dataframe\">\n",
       "  <thead>\n",
       "    <tr style=\"text-align: right;\">\n",
       "      <th></th>\n",
       "      <th>ID Único</th>\n",
       "      <th>Data</th>\n",
       "      <th>Unidade</th>\n",
       "      <th>Grupo EFR</th>\n",
       "      <th>Grupo Rúbrica</th>\n",
       "      <th>Tipo Rúbrica</th>\n",
       "      <th>Sexo</th>\n",
       "      <th>Data de Nascimento</th>\n",
       "    </tr>\n",
       "  </thead>\n",
       "  <tbody>\n",
       "    <tr>\n",
       "      <th>0</th>\n",
       "      <td>1</td>\n",
       "      <td>20-02-2017</td>\n",
       "      <td>HCIS</td>\n",
       "      <td>PARTICULARES</td>\n",
       "      <td>RX CONVENCIONAL</td>\n",
       "      <td>CONSULTA EXTERNA</td>\n",
       "      <td>F</td>\n",
       "      <td>1961</td>\n",
       "    </tr>\n",
       "    <tr>\n",
       "      <th>1</th>\n",
       "      <td>1</td>\n",
       "      <td>26-07-2017</td>\n",
       "      <td>CCA</td>\n",
       "      <td>PARTICULARES</td>\n",
       "      <td>URGÊNCIA GERAL</td>\n",
       "      <td>URGÊNCIAS</td>\n",
       "      <td>F</td>\n",
       "      <td>1961</td>\n",
       "    </tr>\n",
       "    <tr>\n",
       "      <th>2</th>\n",
       "      <td>1</td>\n",
       "      <td>04-08-2017</td>\n",
       "      <td>HCS</td>\n",
       "      <td>ADSE</td>\n",
       "      <td>GASTROENTEROLOGIA</td>\n",
       "      <td>IMAGIOLOGIA</td>\n",
       "      <td>F</td>\n",
       "      <td>1961</td>\n",
       "    </tr>\n",
       "    <tr>\n",
       "      <th>3</th>\n",
       "      <td>1</td>\n",
       "      <td>15-09-2017</td>\n",
       "      <td>HCIS</td>\n",
       "      <td>ADSE</td>\n",
       "      <td>RECOBRO</td>\n",
       "      <td>NaN</td>\n",
       "      <td>F</td>\n",
       "      <td>1961</td>\n",
       "    </tr>\n",
       "    <tr>\n",
       "      <th>4</th>\n",
       "      <td>2</td>\n",
       "      <td>12-01-2017</td>\n",
       "      <td>HCS</td>\n",
       "      <td>ADSE</td>\n",
       "      <td>NEURO-CIRURGIA</td>\n",
       "      <td>URGÊNCIAS</td>\n",
       "      <td>F</td>\n",
       "      <td>1971</td>\n",
       "    </tr>\n",
       "  </tbody>\n",
       "</table>\n",
       "</div>"
      ],
      "text/plain": [
       "   ID Único        Data Unidade     Grupo EFR      Grupo Rúbrica  \\\n",
       "0         1  20-02-2017    HCIS  PARTICULARES    RX CONVENCIONAL   \n",
       "1         1  26-07-2017     CCA  PARTICULARES     URGÊNCIA GERAL   \n",
       "2         1  04-08-2017     HCS          ADSE  GASTROENTEROLOGIA   \n",
       "3         1  15-09-2017    HCIS          ADSE            RECOBRO   \n",
       "4         2  12-01-2017     HCS          ADSE     NEURO-CIRURGIA   \n",
       "\n",
       "       Tipo Rúbrica Sexo  Data de Nascimento  \n",
       "0  CONSULTA EXTERNA    F                1961  \n",
       "1         URGÊNCIAS    F                1961  \n",
       "2       IMAGIOLOGIA    F                1961  \n",
       "3               NaN    F                1961  \n",
       "4         URGÊNCIAS    F                1971  "
      ]
     },
     "execution_count": 25,
     "metadata": {},
     "output_type": "execute_result"
    }
   ],
   "source": [
    "#Get rid of blank columns\n",
    "df_col= df.columns[0:8]\n",
    "df_col\n",
    "df = df[df_col]\n",
    "df.head()"
   ]
  },
  {
   "cell_type": "code",
   "execution_count": 26,
   "metadata": {},
   "outputs": [
    {
     "data": {
      "text/html": [
       "<div>\n",
       "<style scoped>\n",
       "    .dataframe tbody tr th:only-of-type {\n",
       "        vertical-align: middle;\n",
       "    }\n",
       "\n",
       "    .dataframe tbody tr th {\n",
       "        vertical-align: top;\n",
       "    }\n",
       "\n",
       "    .dataframe thead th {\n",
       "        text-align: right;\n",
       "    }\n",
       "</style>\n",
       "<table border=\"1\" class=\"dataframe\">\n",
       "  <thead>\n",
       "    <tr style=\"text-align: right;\">\n",
       "      <th></th>\n",
       "      <th>UniqueID</th>\n",
       "      <th>Date</th>\n",
       "      <th>Facility</th>\n",
       "      <th>Payer</th>\n",
       "      <th>SpecificService</th>\n",
       "      <th>CategoryofService</th>\n",
       "      <th>Sex</th>\n",
       "      <th>BirthYear</th>\n",
       "    </tr>\n",
       "  </thead>\n",
       "  <tbody>\n",
       "    <tr>\n",
       "      <th>0</th>\n",
       "      <td>1</td>\n",
       "      <td>20-02-2017</td>\n",
       "      <td>HCIS</td>\n",
       "      <td>PARTICULARES</td>\n",
       "      <td>RX CONVENCIONAL</td>\n",
       "      <td>CONSULTA EXTERNA</td>\n",
       "      <td>F</td>\n",
       "      <td>1961</td>\n",
       "    </tr>\n",
       "    <tr>\n",
       "      <th>1</th>\n",
       "      <td>1</td>\n",
       "      <td>26-07-2017</td>\n",
       "      <td>CCA</td>\n",
       "      <td>PARTICULARES</td>\n",
       "      <td>URGÊNCIA GERAL</td>\n",
       "      <td>URGÊNCIAS</td>\n",
       "      <td>F</td>\n",
       "      <td>1961</td>\n",
       "    </tr>\n",
       "    <tr>\n",
       "      <th>2</th>\n",
       "      <td>1</td>\n",
       "      <td>04-08-2017</td>\n",
       "      <td>HCS</td>\n",
       "      <td>ADSE</td>\n",
       "      <td>GASTROENTEROLOGIA</td>\n",
       "      <td>IMAGIOLOGIA</td>\n",
       "      <td>F</td>\n",
       "      <td>1961</td>\n",
       "    </tr>\n",
       "    <tr>\n",
       "      <th>3</th>\n",
       "      <td>1</td>\n",
       "      <td>15-09-2017</td>\n",
       "      <td>HCIS</td>\n",
       "      <td>ADSE</td>\n",
       "      <td>RECOBRO</td>\n",
       "      <td>NaN</td>\n",
       "      <td>F</td>\n",
       "      <td>1961</td>\n",
       "    </tr>\n",
       "  </tbody>\n",
       "</table>\n",
       "</div>"
      ],
      "text/plain": [
       "   UniqueID        Date Facility         Payer    SpecificService  \\\n",
       "0         1  20-02-2017     HCIS  PARTICULARES    RX CONVENCIONAL   \n",
       "1         1  26-07-2017      CCA  PARTICULARES     URGÊNCIA GERAL   \n",
       "2         1  04-08-2017      HCS          ADSE  GASTROENTEROLOGIA   \n",
       "3         1  15-09-2017     HCIS          ADSE            RECOBRO   \n",
       "\n",
       "  CategoryofService Sex  BirthYear  \n",
       "0  CONSULTA EXTERNA   F       1961  \n",
       "1         URGÊNCIAS   F       1961  \n",
       "2       IMAGIOLOGIA   F       1961  \n",
       "3               NaN   F       1961  "
      ]
     },
     "execution_count": 26,
     "metadata": {},
     "output_type": "execute_result"
    }
   ],
   "source": [
    "#Translate column names into english\n",
    "data = df.rename(columns={\n",
    "    \"ID Único\":\"UniqueID\",\n",
    "    \"Data\":\"Date\", \n",
    "    \"Unidade\":\"Facility\",\n",
    "    \"Grupo EFR\":\"Payer\",\n",
    "    \"Grupo Rúbrica\":\"SpecificService\", \n",
    "    \"Tipo Rúbrica\":\"CategoryofService\",\n",
    "    \"Sexo\":\"Sex\",\n",
    "    \"Data de Nascimento\":\"BirthYear\",\n",
    "})\n",
    "\n",
    "data.head(4)"
   ]
  },
  {
   "cell_type": "code",
   "execution_count": 27,
   "metadata": {},
   "outputs": [],
   "source": [
    "import datetime\n",
    "# Calculate Approximate Age\n",
    "data[\"Date\"] = pd.to_datetime(data.Date, errors=\"coerce\") #converting to date time \n",
    "data[\"Age\"] = data[\"Date\"].dt.year - data[\"BirthYear\"]"
   ]
  },
  {
   "cell_type": "code",
   "execution_count": 28,
   "metadata": {},
   "outputs": [],
   "source": [
    "# Delete Uneeded Columns\n",
    "del data[\"BirthYear\"]\n",
    "del data[\"Date\"]"
   ]
  },
  {
   "cell_type": "markdown",
   "metadata": {},
   "source": [
    "### Variable Grouping - Age"
   ]
  },
  {
   "cell_type": "code",
   "execution_count": 29,
   "metadata": {},
   "outputs": [],
   "source": [
    "infant = list(range(0,5))\n",
    "child = list(range(5,19))\n",
    "youngAdult = list(range(19,45))\n",
    "Adult = list(range(45,65))\n",
    "senior = list(range(65,82))\n",
    "elderly = list(range(82,data.Age.max()))"
   ]
  },
  {
   "cell_type": "code",
   "execution_count": 30,
   "metadata": {},
   "outputs": [],
   "source": [
    "def check(list1,val):\n",
    "    flag= False\n",
    "    for x in list1: \n",
    "        if val== x: \n",
    "            flag = True \n",
    "    return flag"
   ]
  },
  {
   "cell_type": "code",
   "execution_count": 31,
   "metadata": {},
   "outputs": [
    {
     "ename": "SyntaxError",
     "evalue": "invalid syntax (<ipython-input-31-867dcee36bc4>, line 1)",
     "output_type": "error",
     "traceback": [
      "\u001b[0;36m  File \u001b[0;32m\"<ipython-input-31-867dcee36bc4>\"\u001b[0;36m, line \u001b[0;32m1\u001b[0m\n\u001b[0;31m    if data['Age']\u001b[0m\n\u001b[0m                  ^\u001b[0m\n\u001b[0;31mSyntaxError\u001b[0m\u001b[0;31m:\u001b[0m invalid syntax\n"
     ]
    }
   ],
   "source": [
    "if data['Age']\n",
    "data.loc[check(data['Age'],infant), 'age_type'] = 'Infant'\n",
    "\n",
    "data.loc[check(data['Age'],child), 'age_type'] = 'Child'\n",
    "\n",
    "data.loc[check(data['Age'],youngAdult), 'age_type'] = 'Young Adult'\n",
    "\n",
    "data.loc[check(data['Age'],Adult), 'age_type'] = 'Adult'\n",
    "\n",
    "data.loc[check(data['Age'],senior), 'age_type'] = 'Senior'\n",
    "\n",
    "data.loc[check(data['Age'],elderly), 'age_type'] = 'Elderly'"
   ]
  },
  {
   "cell_type": "code",
   "execution_count": 32,
   "metadata": {},
   "outputs": [
    {
     "data": {
      "text/plain": [
       "youngAdult    13\n",
       "senior        12\n",
       "adult          9\n",
       "infant         6\n",
       "elderly        4\n",
       "child          0\n",
       "Name: age_category, dtype: int64"
      ]
     },
     "execution_count": 32,
     "metadata": {},
     "output_type": "execute_result"
    }
   ],
   "source": [
    "age_types = ['infant', 'child', 'youngAdult', 'adult', 'senior','elderly']\n",
    "\n",
    "data['age_category'] = pd.cut(data['Age'], 6, labels=age_types)\n",
    "\n",
    "data.age_category.value_counts()"
   ]
  },
  {
   "cell_type": "code",
   "execution_count": 33,
   "metadata": {},
   "outputs": [],
   "source": [
    "ages = pd.DataFrame(list(data.Age), columns=['age'])\n",
    "bins = [0, 4, 18, 44, 64, 81, 120]\n",
    "labels = ['infant', 'child', 'young adult', 'adult', 'senior', 'elderly']\n",
    "ages['age_range'] = pd.cut(ages.age, bins, labels = labels,include_lowest = True)"
   ]
  },
  {
   "cell_type": "code",
   "execution_count": 34,
   "metadata": {},
   "outputs": [
    {
     "ename": "ValueError",
     "evalue": "Input array must be 1 dimensional",
     "output_type": "error",
     "traceback": [
      "\u001b[0;31m---------------------------------------------------------------------------\u001b[0m",
      "\u001b[0;31mValueError\u001b[0m                                Traceback (most recent call last)",
      "\u001b[0;32m<ipython-input-34-cf55371ac726>\u001b[0m in \u001b[0;36m<module>\u001b[0;34m\u001b[0m\n\u001b[1;32m      8\u001b[0m \u001b[0mbins\u001b[0m \u001b[0;34m=\u001b[0m \u001b[0;34m[\u001b[0m\u001b[0;36m0\u001b[0m\u001b[0;34m,\u001b[0m \u001b[0;36m4\u001b[0m\u001b[0;34m,\u001b[0m \u001b[0;36m18\u001b[0m\u001b[0;34m,\u001b[0m \u001b[0;36m44\u001b[0m\u001b[0;34m,\u001b[0m \u001b[0;36m64\u001b[0m\u001b[0;34m,\u001b[0m \u001b[0;36m81\u001b[0m\u001b[0;34m,\u001b[0m \u001b[0;36m120\u001b[0m\u001b[0;34m]\u001b[0m\u001b[0;34m\u001b[0m\u001b[0;34m\u001b[0m\u001b[0m\n\u001b[1;32m      9\u001b[0m \u001b[0mlabels\u001b[0m \u001b[0;34m=\u001b[0m \u001b[0;34m[\u001b[0m\u001b[0;34m'infant'\u001b[0m\u001b[0;34m,\u001b[0m \u001b[0;34m'child'\u001b[0m\u001b[0;34m,\u001b[0m \u001b[0;34m'young adult'\u001b[0m\u001b[0;34m,\u001b[0m \u001b[0;34m'adult'\u001b[0m\u001b[0;34m,\u001b[0m \u001b[0;34m'senior'\u001b[0m\u001b[0;34m,\u001b[0m \u001b[0;34m'elderly'\u001b[0m\u001b[0;34m]\u001b[0m\u001b[0;34m\u001b[0m\u001b[0;34m\u001b[0m\u001b[0m\n\u001b[0;32m---> 10\u001b[0;31m \u001b[0mages\u001b[0m\u001b[0;34m[\u001b[0m\u001b[0;34m'age_range'\u001b[0m\u001b[0;34m]\u001b[0m \u001b[0;34m=\u001b[0m \u001b[0mpd\u001b[0m\u001b[0;34m.\u001b[0m\u001b[0mcut\u001b[0m\u001b[0;34m(\u001b[0m\u001b[0mages\u001b[0m\u001b[0;34m,\u001b[0m \u001b[0mbins\u001b[0m\u001b[0;34m,\u001b[0m \u001b[0mlabels\u001b[0m \u001b[0;34m=\u001b[0m \u001b[0mlabels\u001b[0m\u001b[0;34m,\u001b[0m\u001b[0minclude_lowest\u001b[0m \u001b[0;34m=\u001b[0m \u001b[0;32mTrue\u001b[0m\u001b[0;34m)\u001b[0m\u001b[0;34m\u001b[0m\u001b[0;34m\u001b[0m\u001b[0m\n\u001b[0m\u001b[1;32m     11\u001b[0m \u001b[0;34m\u001b[0m\u001b[0m\n\u001b[1;32m     12\u001b[0m \u001b[0mprint\u001b[0m\u001b[0;34m(\u001b[0m\u001b[0mages\u001b[0m\u001b[0;34m)\u001b[0m\u001b[0;34m\u001b[0m\u001b[0;34m\u001b[0m\u001b[0m\n",
      "\u001b[0;32m~/anaconda3/lib/python3.7/site-packages/pandas/core/reshape/tile.py\u001b[0m in \u001b[0;36mcut\u001b[0;34m(x, bins, right, labels, retbins, precision, include_lowest, duplicates)\u001b[0m\n\u001b[1;32m    187\u001b[0m \u001b[0;34m\u001b[0m\u001b[0m\n\u001b[1;32m    188\u001b[0m     \u001b[0;31m# for handling the cut for datetime and timedelta objects\u001b[0m\u001b[0;34m\u001b[0m\u001b[0;34m\u001b[0m\u001b[0;34m\u001b[0m\u001b[0m\n\u001b[0;32m--> 189\u001b[0;31m     \u001b[0mx_is_series\u001b[0m\u001b[0;34m,\u001b[0m \u001b[0mseries_index\u001b[0m\u001b[0;34m,\u001b[0m \u001b[0mname\u001b[0m\u001b[0;34m,\u001b[0m \u001b[0mx\u001b[0m \u001b[0;34m=\u001b[0m \u001b[0m_preprocess_for_cut\u001b[0m\u001b[0;34m(\u001b[0m\u001b[0mx\u001b[0m\u001b[0;34m)\u001b[0m\u001b[0;34m\u001b[0m\u001b[0;34m\u001b[0m\u001b[0m\n\u001b[0m\u001b[1;32m    190\u001b[0m     \u001b[0mx\u001b[0m\u001b[0;34m,\u001b[0m \u001b[0mdtype\u001b[0m \u001b[0;34m=\u001b[0m \u001b[0m_coerce_to_type\u001b[0m\u001b[0;34m(\u001b[0m\u001b[0mx\u001b[0m\u001b[0;34m)\u001b[0m\u001b[0;34m\u001b[0m\u001b[0;34m\u001b[0m\u001b[0m\n\u001b[1;32m    191\u001b[0m \u001b[0;34m\u001b[0m\u001b[0m\n",
      "\u001b[0;32m~/anaconda3/lib/python3.7/site-packages/pandas/core/reshape/tile.py\u001b[0m in \u001b[0;36m_preprocess_for_cut\u001b[0;34m(x)\u001b[0m\n\u001b[1;32m    512\u001b[0m         \u001b[0mx\u001b[0m \u001b[0;34m=\u001b[0m \u001b[0mnp\u001b[0m\u001b[0;34m.\u001b[0m\u001b[0masarray\u001b[0m\u001b[0;34m(\u001b[0m\u001b[0mx\u001b[0m\u001b[0;34m)\u001b[0m\u001b[0;34m\u001b[0m\u001b[0;34m\u001b[0m\u001b[0m\n\u001b[1;32m    513\u001b[0m     \u001b[0;32mif\u001b[0m \u001b[0mx\u001b[0m\u001b[0;34m.\u001b[0m\u001b[0mndim\u001b[0m \u001b[0;34m!=\u001b[0m \u001b[0;36m1\u001b[0m\u001b[0;34m:\u001b[0m\u001b[0;34m\u001b[0m\u001b[0;34m\u001b[0m\u001b[0m\n\u001b[0;32m--> 514\u001b[0;31m         \u001b[0;32mraise\u001b[0m \u001b[0mValueError\u001b[0m\u001b[0;34m(\u001b[0m\u001b[0;34m\"Input array must be 1 dimensional\"\u001b[0m\u001b[0;34m)\u001b[0m\u001b[0;34m\u001b[0m\u001b[0;34m\u001b[0m\u001b[0m\n\u001b[0m\u001b[1;32m    515\u001b[0m \u001b[0;34m\u001b[0m\u001b[0m\n\u001b[1;32m    516\u001b[0m     \u001b[0;32mreturn\u001b[0m \u001b[0mx_is_series\u001b[0m\u001b[0;34m,\u001b[0m \u001b[0mseries_index\u001b[0m\u001b[0;34m,\u001b[0m \u001b[0mname\u001b[0m\u001b[0;34m,\u001b[0m \u001b[0mx\u001b[0m\u001b[0;34m\u001b[0m\u001b[0;34m\u001b[0m\u001b[0m\n",
      "\u001b[0;31mValueError\u001b[0m: Input array must be 1 dimensional"
     ]
    }
   ],
   "source": [
    "#0-4 infant \n",
    "#5-18 child \n",
    "#19-44 youngAdult\n",
    "#45-64 Adult\n",
    "#65-81 Senior\n",
    "#82+\n",
    "ages = pd.DataFrame(list(data.Age), columns=['age'])\n",
    "bins = [0, 4, 18, 44, 64, 81, 120]\n",
    "labels = ['infant', 'child', 'young adult', 'adult', 'senior', 'elderly']\n",
    "ages['age_range'] = pd.cut(ages, bins, labels = labels,include_lowest = True)\n",
    "\n",
    "print(ages)"
   ]
  },
  {
   "cell_type": "markdown",
   "metadata": {},
   "source": [
    "### Variable Grouping - Facility "
   ]
  },
  {
   "cell_type": "code",
   "execution_count": 35,
   "metadata": {},
   "outputs": [
    {
     "name": "stderr",
     "output_type": "stream",
     "text": [
      "/home/csimmons1/anaconda3/lib/python3.7/site-packages/ipykernel_launcher.py:6: SettingWithCopyWarning: \n",
      "A value is trying to be set on a copy of a slice from a DataFrame\n",
      "\n",
      "See the caveats in the documentation: http://pandas.pydata.org/pandas-docs/stable/indexing.html#indexing-view-versus-copy\n",
      "  \n",
      "/home/csimmons1/anaconda3/lib/python3.7/site-packages/ipykernel_launcher.py:10: SettingWithCopyWarning: \n",
      "A value is trying to be set on a copy of a slice from a DataFrame\n",
      "\n",
      "See the caveats in the documentation: http://pandas.pydata.org/pandas-docs/stable/indexing.html#indexing-view-versus-copy\n",
      "  # Remove the CWD from sys.path while we load stuff.\n",
      "/home/csimmons1/anaconda3/lib/python3.7/site-packages/ipykernel_launcher.py:14: SettingWithCopyWarning: \n",
      "A value is trying to be set on a copy of a slice from a DataFrame\n",
      "\n",
      "See the caveats in the documentation: http://pandas.pydata.org/pandas-docs/stable/indexing.html#indexing-view-versus-copy\n",
      "  \n",
      "/home/csimmons1/anaconda3/lib/python3.7/site-packages/ipykernel_launcher.py:18: SettingWithCopyWarning: \n",
      "A value is trying to be set on a copy of a slice from a DataFrame\n",
      "\n",
      "See the caveats in the documentation: http://pandas.pydata.org/pandas-docs/stable/indexing.html#indexing-view-versus-copy\n",
      "/home/csimmons1/anaconda3/lib/python3.7/site-packages/ipykernel_launcher.py:22: SettingWithCopyWarning: \n",
      "A value is trying to be set on a copy of a slice from a DataFrame\n",
      "\n",
      "See the caveats in the documentation: http://pandas.pydata.org/pandas-docs/stable/indexing.html#indexing-view-versus-copy\n"
     ]
    }
   ],
   "source": [
    "\n",
    "data[\"hospital_type\"] = \"Other\"\n",
    "\n",
    "data[\"hospital_type\"][data.Facility.isin([\n",
    "    \"HCIS\", \"HCD\", \"HCP\"\n",
    "])] = \"Large_Hospitals\"\n",
    "\n",
    "data[\"hospital_type\"][data.Facility.isin([\n",
    "    \"CCC\", \"CCTV\", \"HCS\", \"HCV\", \"CUFC\"\n",
    "])] = \"Medium_Hospitals\"\n",
    "\n",
    "data[\"hospital_type\"][data.Facility.isin([\n",
    "    \"CCA\", \"CCB\", \"CCAL\"\n",
    "])] = \"Clinic\"\n",
    "\n",
    "data[\"hospital_type\"][data.Facility.isin([\n",
    "    \"CCSDR\", \"CCMF\", \"CCS\", \"CCM\", \"CCSJM\", \"CLA\"\n",
    "])] = \"Small_Clinic\"\n",
    "\n",
    "data[\"hospital_type\"][data.Facility.isin([\n",
    "    \"ICDT\"\n",
    "])] = \"Large_Clinic\"\n"
   ]
  },
  {
   "cell_type": "code",
   "execution_count": 36,
   "metadata": {},
   "outputs": [
    {
     "data": {
      "text/html": [
       "<div>\n",
       "<style scoped>\n",
       "    .dataframe tbody tr th:only-of-type {\n",
       "        vertical-align: middle;\n",
       "    }\n",
       "\n",
       "    .dataframe tbody tr th {\n",
       "        vertical-align: top;\n",
       "    }\n",
       "\n",
       "    .dataframe thead th {\n",
       "        text-align: right;\n",
       "    }\n",
       "</style>\n",
       "<table border=\"1\" class=\"dataframe\">\n",
       "  <thead>\n",
       "    <tr style=\"text-align: right;\">\n",
       "      <th></th>\n",
       "      <th>UniqueID</th>\n",
       "      <th>Facility</th>\n",
       "      <th>Payer</th>\n",
       "      <th>SpecificService</th>\n",
       "      <th>CategoryofService</th>\n",
       "      <th>Sex</th>\n",
       "      <th>Age</th>\n",
       "      <th>age_category</th>\n",
       "      <th>hospital_type</th>\n",
       "    </tr>\n",
       "  </thead>\n",
       "  <tbody>\n",
       "    <tr>\n",
       "      <th>0</th>\n",
       "      <td>1</td>\n",
       "      <td>HCIS</td>\n",
       "      <td>PARTICULARES</td>\n",
       "      <td>RX CONVENCIONAL</td>\n",
       "      <td>CONSULTA EXTERNA</td>\n",
       "      <td>F</td>\n",
       "      <td>56</td>\n",
       "      <td>senior</td>\n",
       "      <td>Large_Hospitals</td>\n",
       "    </tr>\n",
       "    <tr>\n",
       "      <th>1</th>\n",
       "      <td>1</td>\n",
       "      <td>CCA</td>\n",
       "      <td>PARTICULARES</td>\n",
       "      <td>URGÊNCIA GERAL</td>\n",
       "      <td>URGÊNCIAS</td>\n",
       "      <td>F</td>\n",
       "      <td>56</td>\n",
       "      <td>senior</td>\n",
       "      <td>Clinic</td>\n",
       "    </tr>\n",
       "    <tr>\n",
       "      <th>2</th>\n",
       "      <td>1</td>\n",
       "      <td>HCS</td>\n",
       "      <td>ADSE</td>\n",
       "      <td>GASTROENTEROLOGIA</td>\n",
       "      <td>IMAGIOLOGIA</td>\n",
       "      <td>F</td>\n",
       "      <td>56</td>\n",
       "      <td>senior</td>\n",
       "      <td>Medium_Hospitals</td>\n",
       "    </tr>\n",
       "  </tbody>\n",
       "</table>\n",
       "</div>"
      ],
      "text/plain": [
       "   UniqueID Facility         Payer    SpecificService CategoryofService Sex  \\\n",
       "0         1     HCIS  PARTICULARES    RX CONVENCIONAL  CONSULTA EXTERNA   F   \n",
       "1         1      CCA  PARTICULARES     URGÊNCIA GERAL         URGÊNCIAS   F   \n",
       "2         1      HCS          ADSE  GASTROENTEROLOGIA       IMAGIOLOGIA   F   \n",
       "\n",
       "   Age age_category     hospital_type  \n",
       "0   56       senior   Large_Hospitals  \n",
       "1   56       senior            Clinic  \n",
       "2   56       senior  Medium_Hospitals  "
      ]
     },
     "execution_count": 36,
     "metadata": {},
     "output_type": "execute_result"
    }
   ],
   "source": [
    "data.head(3)"
   ]
  },
  {
   "cell_type": "markdown",
   "metadata": {},
   "source": [
    "## Data Cleaning"
   ]
  },
  {
   "cell_type": "code",
   "execution_count": 37,
   "metadata": {},
   "outputs": [],
   "source": [
    "# Add when get real data"
   ]
  },
  {
   "cell_type": "markdown",
   "metadata": {},
   "source": [
    "## Export Dataset"
   ]
  },
  {
   "cell_type": "code",
   "execution_count": 38,
   "metadata": {},
   "outputs": [],
   "source": [
    "#Use pickle format so that df reads into notebook faster \n",
    "data.to_pickle(\"cleaned_data.pkl\")"
   ]
  },
  {
   "cell_type": "code",
   "execution_count": null,
   "metadata": {},
   "outputs": [],
   "source": []
  }
 ],
 "metadata": {
  "kernelspec": {
   "display_name": "Python 3",
   "language": "python",
   "name": "python3"
  },
  "language_info": {
   "codemirror_mode": {
    "name": "ipython",
    "version": 3
   },
   "file_extension": ".py",
   "mimetype": "text/x-python",
   "name": "python",
   "nbconvert_exporter": "python",
   "pygments_lexer": "ipython3",
   "version": "3.7.3"
  }
 },
 "nbformat": 4,
 "nbformat_minor": 2
}
