{
 "cells": [
  {
   "cell_type": "markdown",
   "metadata": {},
   "source": [
    "# Cleaning the Data"
   ]
  },
  {
   "cell_type": "markdown",
   "metadata": {},
   "source": [
    "## Data Prep "
   ]
  },
  {
   "cell_type": "markdown",
   "metadata": {},
   "source": [
    "### Load Packages"
   ]
  },
  {
   "cell_type": "code",
   "execution_count": 19,
   "metadata": {},
   "outputs": [],
   "source": [
    "import pandas as pd\n",
    "from scipy import stats\n",
    "import numpy as np\n",
    "import matplotlib.pyplot as plt\n",
    "import seaborn as sns\n",
    "import warnings\n",
    "warnings.simplefilter(\"ignore\")\n",
    "from IPython.display import Image\n",
    "from ipywidgets import interact, fixed"
   ]
  },
  {
   "cell_type": "code",
   "execution_count": 20,
   "metadata": {},
   "outputs": [
    {
     "data": {
      "text/html": [
       "<div>\n",
       "<style scoped>\n",
       "    .dataframe tbody tr th:only-of-type {\n",
       "        vertical-align: middle;\n",
       "    }\n",
       "\n",
       "    .dataframe tbody tr th {\n",
       "        vertical-align: top;\n",
       "    }\n",
       "\n",
       "    .dataframe thead th {\n",
       "        text-align: right;\n",
       "    }\n",
       "</style>\n",
       "<table border=\"1\" class=\"dataframe\">\n",
       "  <thead>\n",
       "    <tr style=\"text-align: right;\">\n",
       "      <th></th>\n",
       "      <th>Data</th>\n",
       "      <th>Unidade</th>\n",
       "      <th>Grupo EFR</th>\n",
       "      <th>Grupo Rúbrica</th>\n",
       "      <th>Tipo Rúbrica</th>\n",
       "      <th>Data Nascimento</th>\n",
       "      <th>Sexo</th>\n",
       "      <th>hashed_ID_Único</th>\n",
       "    </tr>\n",
       "  </thead>\n",
       "  <tbody>\n",
       "    <tr>\n",
       "      <th>0</th>\n",
       "      <td>14/09/2017</td>\n",
       "      <td>HCIS</td>\n",
       "      <td>ADSE</td>\n",
       "      <td>SERVIÇOS ESPECIAIS CARDIOLOGIA</td>\n",
       "      <td>EXAMES ESPECIAIS</td>\n",
       "      <td>1980.0</td>\n",
       "      <td>Feminino</td>\n",
       "      <td>91e9d2627cd4cc24958988333c4220a3</td>\n",
       "    </tr>\n",
       "    <tr>\n",
       "      <th>1</th>\n",
       "      <td>21/08/2017</td>\n",
       "      <td>CCSJM</td>\n",
       "      <td>PARTICULARES</td>\n",
       "      <td>SERVIÇOS E TÉCNICAS GERAIS</td>\n",
       "      <td>EXAMES ESPECIAIS</td>\n",
       "      <td>1980.0</td>\n",
       "      <td>Feminino</td>\n",
       "      <td>91e9d2627cd4cc24958988333c4220a3</td>\n",
       "    </tr>\n",
       "    <tr>\n",
       "      <th>2</th>\n",
       "      <td>21/08/2017</td>\n",
       "      <td>CCSJM</td>\n",
       "      <td>PARTICULARES</td>\n",
       "      <td>SERVIÇOS E TÉCNICAS GERAIS</td>\n",
       "      <td>SERVIÇOS E TÉCNICAS GERAIS</td>\n",
       "      <td>1980.0</td>\n",
       "      <td>Feminino</td>\n",
       "      <td>91e9d2627cd4cc24958988333c4220a3</td>\n",
       "    </tr>\n",
       "    <tr>\n",
       "      <th>3</th>\n",
       "      <td>18/12/2017</td>\n",
       "      <td>CCTV</td>\n",
       "      <td>ADSE</td>\n",
       "      <td>SERVIÇOS ESPECIAIS UROLOGIA</td>\n",
       "      <td>EXAMES ESPECIAIS</td>\n",
       "      <td>1980.0</td>\n",
       "      <td>Feminino</td>\n",
       "      <td>91e9d2627cd4cc24958988333c4220a3</td>\n",
       "    </tr>\n",
       "    <tr>\n",
       "      <th>4</th>\n",
       "      <td>24/04/2017</td>\n",
       "      <td>CCSJM</td>\n",
       "      <td>PARTICULARES</td>\n",
       "      <td>SERVIÇOS ESPECIAIS CARDIOLOGIA</td>\n",
       "      <td>EXAMES ESPECIAIS</td>\n",
       "      <td>1980.0</td>\n",
       "      <td>Feminino</td>\n",
       "      <td>91e9d2627cd4cc24958988333c4220a3</td>\n",
       "    </tr>\n",
       "  </tbody>\n",
       "</table>\n",
       "</div>"
      ],
      "text/plain": [
       "         Data Unidade     Grupo EFR                   Grupo Rúbrica  \\\n",
       "0  14/09/2017    HCIS          ADSE  SERVIÇOS ESPECIAIS CARDIOLOGIA   \n",
       "1  21/08/2017   CCSJM  PARTICULARES      SERVIÇOS E TÉCNICAS GERAIS   \n",
       "2  21/08/2017   CCSJM  PARTICULARES      SERVIÇOS E TÉCNICAS GERAIS   \n",
       "3  18/12/2017    CCTV          ADSE     SERVIÇOS ESPECIAIS UROLOGIA   \n",
       "4  24/04/2017   CCSJM  PARTICULARES  SERVIÇOS ESPECIAIS CARDIOLOGIA   \n",
       "\n",
       "                 Tipo Rúbrica  Data Nascimento      Sexo  \\\n",
       "0            EXAMES ESPECIAIS           1980.0  Feminino   \n",
       "1            EXAMES ESPECIAIS           1980.0  Feminino   \n",
       "2  SERVIÇOS E TÉCNICAS GERAIS           1980.0  Feminino   \n",
       "3            EXAMES ESPECIAIS           1980.0  Feminino   \n",
       "4            EXAMES ESPECIAIS           1980.0  Feminino   \n",
       "\n",
       "                    hashed_ID_Único  \n",
       "0  91e9d2627cd4cc24958988333c4220a3  \n",
       "1  91e9d2627cd4cc24958988333c4220a3  \n",
       "2  91e9d2627cd4cc24958988333c4220a3  \n",
       "3  91e9d2627cd4cc24958988333c4220a3  \n",
       "4  91e9d2627cd4cc24958988333c4220a3  "
      ]
     },
     "execution_count": 20,
     "metadata": {},
     "output_type": "execute_result"
    }
   ],
   "source": [
    "df = pd.read_csv(\"Data/2017.csv\")\n",
    "df.head()"
   ]
  },
  {
   "cell_type": "code",
   "execution_count": 21,
   "metadata": {},
   "outputs": [
    {
     "data": {
      "text/plain": [
       "(6227655, 8)"
      ]
     },
     "execution_count": 21,
     "metadata": {},
     "output_type": "execute_result"
    }
   ],
   "source": [
    "df.shape"
   ]
  },
  {
   "cell_type": "markdown",
   "metadata": {},
   "source": [
    "### Manipulate Columns"
   ]
  },
  {
   "cell_type": "code",
   "execution_count": 22,
   "metadata": {},
   "outputs": [],
   "source": [
    "# Delete Uneeded Columns\n",
    "#del df[\"hashed_ID_Único\"]"
   ]
  },
  {
   "cell_type": "code",
   "execution_count": 23,
   "metadata": {},
   "outputs": [],
   "source": [
    "#Translate column names into english\n",
    "data = df.rename(columns={\n",
    "    \"hashed_ID_Único\":\"UniqueID\",\n",
    "    \"Data\":\"Date\", \n",
    "    \"Unidade\":\"Facility\",\n",
    "    \"Grupo EFR\":\"Payer\",\n",
    "    \"Grupo Rúbrica\":\"SpecificService\", \n",
    "    \"Tipo Rúbrica\":\"CategoryofService\",\n",
    "    \"Sexo\":\"Sex\",\n",
    "    \"Data Nascimento\":\"BirthYear\",\n",
    "})"
   ]
  },
  {
   "cell_type": "code",
   "execution_count": 24,
   "metadata": {},
   "outputs": [
    {
     "data": {
      "text/html": [
       "<div>\n",
       "<style scoped>\n",
       "    .dataframe tbody tr th:only-of-type {\n",
       "        vertical-align: middle;\n",
       "    }\n",
       "\n",
       "    .dataframe tbody tr th {\n",
       "        vertical-align: top;\n",
       "    }\n",
       "\n",
       "    .dataframe thead th {\n",
       "        text-align: right;\n",
       "    }\n",
       "</style>\n",
       "<table border=\"1\" class=\"dataframe\">\n",
       "  <thead>\n",
       "    <tr style=\"text-align: right;\">\n",
       "      <th></th>\n",
       "      <th>Date</th>\n",
       "      <th>Facility</th>\n",
       "      <th>Payer</th>\n",
       "      <th>SpecificService</th>\n",
       "      <th>CategoryofService</th>\n",
       "      <th>BirthYear</th>\n",
       "      <th>Sex</th>\n",
       "      <th>UniqueID</th>\n",
       "    </tr>\n",
       "  </thead>\n",
       "  <tbody>\n",
       "    <tr>\n",
       "      <th>0</th>\n",
       "      <td>14/09/2017</td>\n",
       "      <td>HCIS</td>\n",
       "      <td>ADSE</td>\n",
       "      <td>SERVIÇOS ESPECIAIS CARDIOLOGIA</td>\n",
       "      <td>EXAMES ESPECIAIS</td>\n",
       "      <td>1980.0</td>\n",
       "      <td>Feminino</td>\n",
       "      <td>91e9d2627cd4cc24958988333c4220a3</td>\n",
       "    </tr>\n",
       "    <tr>\n",
       "      <th>1</th>\n",
       "      <td>21/08/2017</td>\n",
       "      <td>CCSJM</td>\n",
       "      <td>PARTICULARES</td>\n",
       "      <td>SERVIÇOS E TÉCNICAS GERAIS</td>\n",
       "      <td>EXAMES ESPECIAIS</td>\n",
       "      <td>1980.0</td>\n",
       "      <td>Feminino</td>\n",
       "      <td>91e9d2627cd4cc24958988333c4220a3</td>\n",
       "    </tr>\n",
       "    <tr>\n",
       "      <th>2</th>\n",
       "      <td>21/08/2017</td>\n",
       "      <td>CCSJM</td>\n",
       "      <td>PARTICULARES</td>\n",
       "      <td>SERVIÇOS E TÉCNICAS GERAIS</td>\n",
       "      <td>SERVIÇOS E TÉCNICAS GERAIS</td>\n",
       "      <td>1980.0</td>\n",
       "      <td>Feminino</td>\n",
       "      <td>91e9d2627cd4cc24958988333c4220a3</td>\n",
       "    </tr>\n",
       "    <tr>\n",
       "      <th>3</th>\n",
       "      <td>18/12/2017</td>\n",
       "      <td>CCTV</td>\n",
       "      <td>ADSE</td>\n",
       "      <td>SERVIÇOS ESPECIAIS UROLOGIA</td>\n",
       "      <td>EXAMES ESPECIAIS</td>\n",
       "      <td>1980.0</td>\n",
       "      <td>Feminino</td>\n",
       "      <td>91e9d2627cd4cc24958988333c4220a3</td>\n",
       "    </tr>\n",
       "    <tr>\n",
       "      <th>4</th>\n",
       "      <td>24/04/2017</td>\n",
       "      <td>CCSJM</td>\n",
       "      <td>PARTICULARES</td>\n",
       "      <td>SERVIÇOS ESPECIAIS CARDIOLOGIA</td>\n",
       "      <td>EXAMES ESPECIAIS</td>\n",
       "      <td>1980.0</td>\n",
       "      <td>Feminino</td>\n",
       "      <td>91e9d2627cd4cc24958988333c4220a3</td>\n",
       "    </tr>\n",
       "  </tbody>\n",
       "</table>\n",
       "</div>"
      ],
      "text/plain": [
       "         Date Facility         Payer                 SpecificService  \\\n",
       "0  14/09/2017     HCIS          ADSE  SERVIÇOS ESPECIAIS CARDIOLOGIA   \n",
       "1  21/08/2017    CCSJM  PARTICULARES      SERVIÇOS E TÉCNICAS GERAIS   \n",
       "2  21/08/2017    CCSJM  PARTICULARES      SERVIÇOS E TÉCNICAS GERAIS   \n",
       "3  18/12/2017     CCTV          ADSE     SERVIÇOS ESPECIAIS UROLOGIA   \n",
       "4  24/04/2017    CCSJM  PARTICULARES  SERVIÇOS ESPECIAIS CARDIOLOGIA   \n",
       "\n",
       "            CategoryofService  BirthYear       Sex  \\\n",
       "0            EXAMES ESPECIAIS     1980.0  Feminino   \n",
       "1            EXAMES ESPECIAIS     1980.0  Feminino   \n",
       "2  SERVIÇOS E TÉCNICAS GERAIS     1980.0  Feminino   \n",
       "3            EXAMES ESPECIAIS     1980.0  Feminino   \n",
       "4            EXAMES ESPECIAIS     1980.0  Feminino   \n",
       "\n",
       "                           UniqueID  \n",
       "0  91e9d2627cd4cc24958988333c4220a3  \n",
       "1  91e9d2627cd4cc24958988333c4220a3  \n",
       "2  91e9d2627cd4cc24958988333c4220a3  \n",
       "3  91e9d2627cd4cc24958988333c4220a3  \n",
       "4  91e9d2627cd4cc24958988333c4220a3  "
      ]
     },
     "execution_count": 24,
     "metadata": {},
     "output_type": "execute_result"
    }
   ],
   "source": [
    "data.head()"
   ]
  },
  {
   "cell_type": "code",
   "execution_count": null,
   "metadata": {},
   "outputs": [],
   "source": [
    "import datetime\n",
    "# Calculate Approximate Age\n",
    "data[\"Date\"] = pd.to_datetime(data.Date, errors=\"coerce\") #converting to date time \n",
    "data[\"Age\"] = data[\"Date\"].dt.year - data[\"BirthYear\"]"
   ]
  },
  {
   "cell_type": "code",
   "execution_count": 14,
   "metadata": {},
   "outputs": [
    {
     "data": {
      "text/html": [
       "<div>\n",
       "<style scoped>\n",
       "    .dataframe tbody tr th:only-of-type {\n",
       "        vertical-align: middle;\n",
       "    }\n",
       "\n",
       "    .dataframe tbody tr th {\n",
       "        vertical-align: top;\n",
       "    }\n",
       "\n",
       "    .dataframe thead th {\n",
       "        text-align: right;\n",
       "    }\n",
       "</style>\n",
       "<table border=\"1\" class=\"dataframe\">\n",
       "  <thead>\n",
       "    <tr style=\"text-align: right;\">\n",
       "      <th></th>\n",
       "      <th>Facility</th>\n",
       "      <th>Payer</th>\n",
       "      <th>SpecificService</th>\n",
       "      <th>CategoryofService</th>\n",
       "      <th>Sex</th>\n",
       "      <th>UniqueID</th>\n",
       "      <th>Age</th>\n",
       "    </tr>\n",
       "  </thead>\n",
       "  <tbody>\n",
       "    <tr>\n",
       "      <th>0</th>\n",
       "      <td>HCIS</td>\n",
       "      <td>ADSE</td>\n",
       "      <td>SERVIÇOS ESPECIAIS CARDIOLOGIA</td>\n",
       "      <td>EXAMES ESPECIAIS</td>\n",
       "      <td>Feminino</td>\n",
       "      <td>91e9d2627cd4cc24958988333c4220a3</td>\n",
       "      <td>37.0</td>\n",
       "    </tr>\n",
       "    <tr>\n",
       "      <th>1</th>\n",
       "      <td>CCSJM</td>\n",
       "      <td>PARTICULARES</td>\n",
       "      <td>SERVIÇOS E TÉCNICAS GERAIS</td>\n",
       "      <td>EXAMES ESPECIAIS</td>\n",
       "      <td>Feminino</td>\n",
       "      <td>91e9d2627cd4cc24958988333c4220a3</td>\n",
       "      <td>37.0</td>\n",
       "    </tr>\n",
       "  </tbody>\n",
       "</table>\n",
       "</div>"
      ],
      "text/plain": [
       "  Facility         Payer                 SpecificService CategoryofService  \\\n",
       "0     HCIS          ADSE  SERVIÇOS ESPECIAIS CARDIOLOGIA  EXAMES ESPECIAIS   \n",
       "1    CCSJM  PARTICULARES      SERVIÇOS E TÉCNICAS GERAIS  EXAMES ESPECIAIS   \n",
       "\n",
       "        Sex                          UniqueID   Age  \n",
       "0  Feminino  91e9d2627cd4cc24958988333c4220a3  37.0  \n",
       "1  Feminino  91e9d2627cd4cc24958988333c4220a3  37.0  "
      ]
     },
     "execution_count": 14,
     "metadata": {},
     "output_type": "execute_result"
    }
   ],
   "source": [
    "# Delete Uneeded Columns\n",
    "del data[\"BirthYear\"]\n",
    "del data[\"Date\"]\n",
    "\n",
    "data.head(2)"
   ]
  },
  {
   "cell_type": "code",
   "execution_count": 16,
   "metadata": {},
   "outputs": [
    {
     "data": {
      "text/html": [
       "<div>\n",
       "<style scoped>\n",
       "    .dataframe tbody tr th:only-of-type {\n",
       "        vertical-align: middle;\n",
       "    }\n",
       "\n",
       "    .dataframe tbody tr th {\n",
       "        vertical-align: top;\n",
       "    }\n",
       "\n",
       "    .dataframe thead th {\n",
       "        text-align: right;\n",
       "    }\n",
       "</style>\n",
       "<table border=\"1\" class=\"dataframe\">\n",
       "  <thead>\n",
       "    <tr style=\"text-align: right;\">\n",
       "      <th></th>\n",
       "      <th>Facility</th>\n",
       "      <th>Payer</th>\n",
       "      <th>SpecificService</th>\n",
       "      <th>CategoryofService</th>\n",
       "      <th>Sex</th>\n",
       "      <th>UniqueID</th>\n",
       "      <th>Age</th>\n",
       "    </tr>\n",
       "  </thead>\n",
       "  <tbody>\n",
       "    <tr>\n",
       "      <th>0</th>\n",
       "      <td>HCIS</td>\n",
       "      <td>ADSE</td>\n",
       "      <td>SERVIÇOS ESPECIAIS CARDIOLOGIA</td>\n",
       "      <td>EXAMES ESPECIAIS</td>\n",
       "      <td>Feminino</td>\n",
       "      <td>91e9d2627cd4cc24958988333c4220a3</td>\n",
       "      <td>37.0</td>\n",
       "    </tr>\n",
       "    <tr>\n",
       "      <th>1</th>\n",
       "      <td>CCSJM</td>\n",
       "      <td>PARTICULARES</td>\n",
       "      <td>SERVIÇOS E TÉCNICAS GERAIS</td>\n",
       "      <td>EXAMES ESPECIAIS</td>\n",
       "      <td>Feminino</td>\n",
       "      <td>91e9d2627cd4cc24958988333c4220a3</td>\n",
       "      <td>37.0</td>\n",
       "    </tr>\n",
       "    <tr>\n",
       "      <th>2</th>\n",
       "      <td>CCSJM</td>\n",
       "      <td>PARTICULARES</td>\n",
       "      <td>SERVIÇOS E TÉCNICAS GERAIS</td>\n",
       "      <td>SERVIÇOS E TÉCNICAS GERAIS</td>\n",
       "      <td>Feminino</td>\n",
       "      <td>91e9d2627cd4cc24958988333c4220a3</td>\n",
       "      <td>37.0</td>\n",
       "    </tr>\n",
       "    <tr>\n",
       "      <th>3</th>\n",
       "      <td>CCTV</td>\n",
       "      <td>ADSE</td>\n",
       "      <td>SERVIÇOS ESPECIAIS UROLOGIA</td>\n",
       "      <td>EXAMES ESPECIAIS</td>\n",
       "      <td>Feminino</td>\n",
       "      <td>91e9d2627cd4cc24958988333c4220a3</td>\n",
       "      <td>37.0</td>\n",
       "    </tr>\n",
       "    <tr>\n",
       "      <th>4</th>\n",
       "      <td>CCSJM</td>\n",
       "      <td>PARTICULARES</td>\n",
       "      <td>SERVIÇOS ESPECIAIS CARDIOLOGIA</td>\n",
       "      <td>EXAMES ESPECIAIS</td>\n",
       "      <td>Feminino</td>\n",
       "      <td>91e9d2627cd4cc24958988333c4220a3</td>\n",
       "      <td>37.0</td>\n",
       "    </tr>\n",
       "  </tbody>\n",
       "</table>\n",
       "</div>"
      ],
      "text/plain": [
       "  Facility         Payer                 SpecificService  \\\n",
       "0     HCIS          ADSE  SERVIÇOS ESPECIAIS CARDIOLOGIA   \n",
       "1    CCSJM  PARTICULARES      SERVIÇOS E TÉCNICAS GERAIS   \n",
       "2    CCSJM  PARTICULARES      SERVIÇOS E TÉCNICAS GERAIS   \n",
       "3     CCTV          ADSE     SERVIÇOS ESPECIAIS UROLOGIA   \n",
       "4    CCSJM  PARTICULARES  SERVIÇOS ESPECIAIS CARDIOLOGIA   \n",
       "\n",
       "            CategoryofService       Sex                          UniqueID  \\\n",
       "0            EXAMES ESPECIAIS  Feminino  91e9d2627cd4cc24958988333c4220a3   \n",
       "1            EXAMES ESPECIAIS  Feminino  91e9d2627cd4cc24958988333c4220a3   \n",
       "2  SERVIÇOS E TÉCNICAS GERAIS  Feminino  91e9d2627cd4cc24958988333c4220a3   \n",
       "3            EXAMES ESPECIAIS  Feminino  91e9d2627cd4cc24958988333c4220a3   \n",
       "4            EXAMES ESPECIAIS  Feminino  91e9d2627cd4cc24958988333c4220a3   \n",
       "\n",
       "    Age  \n",
       "0  37.0  \n",
       "1  37.0  \n",
       "2  37.0  \n",
       "3  37.0  \n",
       "4  37.0  "
      ]
     },
     "execution_count": 16,
     "metadata": {},
     "output_type": "execute_result"
    }
   ],
   "source": [
    "data.head()"
   ]
  },
  {
   "cell_type": "markdown",
   "metadata": {},
   "source": [
    "### Create a customer dataframe "
   ]
  },
  {
   "cell_type": "code",
   "execution_count": 15,
   "metadata": {},
   "outputs": [],
   "source": [
    "patient_visits = data.UniqueID.value_counts(sort=False)"
   ]
  },
  {
   "cell_type": "code",
   "execution_count": 8,
   "metadata": {},
   "outputs": [],
   "source": [
    "customers = patient_visits.rename_axis('UniqueID').reset_index(name='FrequencyofVisits')"
   ]
  },
  {
   "cell_type": "code",
   "execution_count": 9,
   "metadata": {},
   "outputs": [
    {
     "data": {
      "text/html": [
       "<div>\n",
       "<style scoped>\n",
       "    .dataframe tbody tr th:only-of-type {\n",
       "        vertical-align: middle;\n",
       "    }\n",
       "\n",
       "    .dataframe tbody tr th {\n",
       "        vertical-align: top;\n",
       "    }\n",
       "\n",
       "    .dataframe thead th {\n",
       "        text-align: right;\n",
       "    }\n",
       "</style>\n",
       "<table border=\"1\" class=\"dataframe\">\n",
       "  <thead>\n",
       "    <tr style=\"text-align: right;\">\n",
       "      <th></th>\n",
       "      <th>UniqueID</th>\n",
       "      <th>FrequencyofVisits</th>\n",
       "    </tr>\n",
       "  </thead>\n",
       "  <tbody>\n",
       "    <tr>\n",
       "      <th>0</th>\n",
       "      <td>1</td>\n",
       "      <td>4</td>\n",
       "    </tr>\n",
       "    <tr>\n",
       "      <th>1</th>\n",
       "      <td>2</td>\n",
       "      <td>2</td>\n",
       "    </tr>\n",
       "    <tr>\n",
       "      <th>2</th>\n",
       "      <td>3</td>\n",
       "      <td>1</td>\n",
       "    </tr>\n",
       "    <tr>\n",
       "      <th>3</th>\n",
       "      <td>4</td>\n",
       "      <td>1</td>\n",
       "    </tr>\n",
       "    <tr>\n",
       "      <th>4</th>\n",
       "      <td>5</td>\n",
       "      <td>2</td>\n",
       "    </tr>\n",
       "  </tbody>\n",
       "</table>\n",
       "</div>"
      ],
      "text/plain": [
       "   UniqueID  FrequencyofVisits\n",
       "0         1                  4\n",
       "1         2                  2\n",
       "2         3                  1\n",
       "3         4                  1\n",
       "4         5                  2"
      ]
     },
     "execution_count": 9,
     "metadata": {},
     "output_type": "execute_result"
    }
   ],
   "source": [
    "customers.head()"
   ]
  },
  {
   "cell_type": "code",
   "execution_count": 10,
   "metadata": {},
   "outputs": [],
   "source": [
    "customers[[\"Age\",\"Sex\"]]= data[[\"Age\",\"Sex\"]]"
   ]
  },
  {
   "cell_type": "code",
   "execution_count": 11,
   "metadata": {},
   "outputs": [
    {
     "data": {
      "text/html": [
       "<div>\n",
       "<style scoped>\n",
       "    .dataframe tbody tr th:only-of-type {\n",
       "        vertical-align: middle;\n",
       "    }\n",
       "\n",
       "    .dataframe tbody tr th {\n",
       "        vertical-align: top;\n",
       "    }\n",
       "\n",
       "    .dataframe thead th {\n",
       "        text-align: right;\n",
       "    }\n",
       "</style>\n",
       "<table border=\"1\" class=\"dataframe\">\n",
       "  <thead>\n",
       "    <tr style=\"text-align: right;\">\n",
       "      <th></th>\n",
       "      <th>UniqueID</th>\n",
       "      <th>FrequencyofVisits</th>\n",
       "      <th>Age</th>\n",
       "      <th>Sex</th>\n",
       "    </tr>\n",
       "  </thead>\n",
       "  <tbody>\n",
       "    <tr>\n",
       "      <th>0</th>\n",
       "      <td>1</td>\n",
       "      <td>4</td>\n",
       "      <td>56</td>\n",
       "      <td>F</td>\n",
       "    </tr>\n",
       "    <tr>\n",
       "      <th>1</th>\n",
       "      <td>2</td>\n",
       "      <td>2</td>\n",
       "      <td>56</td>\n",
       "      <td>F</td>\n",
       "    </tr>\n",
       "    <tr>\n",
       "      <th>2</th>\n",
       "      <td>3</td>\n",
       "      <td>1</td>\n",
       "      <td>56</td>\n",
       "      <td>F</td>\n",
       "    </tr>\n",
       "    <tr>\n",
       "      <th>3</th>\n",
       "      <td>4</td>\n",
       "      <td>1</td>\n",
       "      <td>56</td>\n",
       "      <td>F</td>\n",
       "    </tr>\n",
       "    <tr>\n",
       "      <th>4</th>\n",
       "      <td>5</td>\n",
       "      <td>2</td>\n",
       "      <td>46</td>\n",
       "      <td>F</td>\n",
       "    </tr>\n",
       "  </tbody>\n",
       "</table>\n",
       "</div>"
      ],
      "text/plain": [
       "   UniqueID  FrequencyofVisits  Age Sex\n",
       "0         1                  4   56   F\n",
       "1         2                  2   56   F\n",
       "2         3                  1   56   F\n",
       "3         4                  1   56   F\n",
       "4         5                  2   46   F"
      ]
     },
     "execution_count": 11,
     "metadata": {},
     "output_type": "execute_result"
    }
   ],
   "source": [
    "customers.head()"
   ]
  },
  {
   "cell_type": "markdown",
   "metadata": {},
   "source": [
    "### Variable Grouping by Age"
   ]
  },
  {
   "cell_type": "code",
   "execution_count": 12,
   "metadata": {},
   "outputs": [],
   "source": [
    "data['Age_Group']= 0"
   ]
  },
  {
   "cell_type": "code",
   "execution_count": 13,
   "metadata": {},
   "outputs": [],
   "source": [
    "data['Age_Group'][(data[\"Age\"]<18) & (data[\"Age\"]>=5)] = \"Child\"\n",
    "data['Age_Group'][(data[\"Age\"]>=18) & (data[\"Age\"]<44)] = \"YoungAdult\"\n",
    "data['Age_Group'][(data[\"Age\"]>=44) & (data[\"Age\"]<64)] = \"Adult\"\n",
    "data['Age_Group'][(data[\"Age\"]>=64) & (data[\"Age\"]<81)] = \"Senior\"\n",
    "data['Age_Group'][data[\"Age\"]>=81] = \"Elderly\""
   ]
  },
  {
   "cell_type": "code",
   "execution_count": 14,
   "metadata": {},
   "outputs": [
    {
     "data": {
      "text/html": [
       "<div>\n",
       "<style scoped>\n",
       "    .dataframe tbody tr th:only-of-type {\n",
       "        vertical-align: middle;\n",
       "    }\n",
       "\n",
       "    .dataframe tbody tr th {\n",
       "        vertical-align: top;\n",
       "    }\n",
       "\n",
       "    .dataframe thead th {\n",
       "        text-align: right;\n",
       "    }\n",
       "</style>\n",
       "<table border=\"1\" class=\"dataframe\">\n",
       "  <thead>\n",
       "    <tr style=\"text-align: right;\">\n",
       "      <th></th>\n",
       "      <th>UniqueID</th>\n",
       "      <th>Facility</th>\n",
       "      <th>Payer</th>\n",
       "      <th>SpecificService</th>\n",
       "      <th>CategoryofService</th>\n",
       "      <th>Sex</th>\n",
       "      <th>Age</th>\n",
       "      <th>Age_Group</th>\n",
       "    </tr>\n",
       "  </thead>\n",
       "  <tbody>\n",
       "    <tr>\n",
       "      <th>0</th>\n",
       "      <td>1</td>\n",
       "      <td>HCIS</td>\n",
       "      <td>PARTICULARES</td>\n",
       "      <td>RX CONVENCIONAL</td>\n",
       "      <td>CONSULTA EXTERNA</td>\n",
       "      <td>F</td>\n",
       "      <td>56</td>\n",
       "      <td>Adult</td>\n",
       "    </tr>\n",
       "    <tr>\n",
       "      <th>1</th>\n",
       "      <td>1</td>\n",
       "      <td>CCA</td>\n",
       "      <td>PARTICULARES</td>\n",
       "      <td>URGÊNCIA GERAL</td>\n",
       "      <td>URGÊNCIAS</td>\n",
       "      <td>F</td>\n",
       "      <td>56</td>\n",
       "      <td>Adult</td>\n",
       "    </tr>\n",
       "    <tr>\n",
       "      <th>2</th>\n",
       "      <td>1</td>\n",
       "      <td>HCS</td>\n",
       "      <td>ADSE</td>\n",
       "      <td>GASTROENTEROLOGIA</td>\n",
       "      <td>IMAGIOLOGIA</td>\n",
       "      <td>F</td>\n",
       "      <td>56</td>\n",
       "      <td>Adult</td>\n",
       "    </tr>\n",
       "    <tr>\n",
       "      <th>3</th>\n",
       "      <td>1</td>\n",
       "      <td>HCIS</td>\n",
       "      <td>ADSE</td>\n",
       "      <td>RECOBRO</td>\n",
       "      <td>NaN</td>\n",
       "      <td>F</td>\n",
       "      <td>56</td>\n",
       "      <td>Adult</td>\n",
       "    </tr>\n",
       "    <tr>\n",
       "      <th>4</th>\n",
       "      <td>2</td>\n",
       "      <td>HCS</td>\n",
       "      <td>ADSE</td>\n",
       "      <td>NEURO-CIRURGIA</td>\n",
       "      <td>URGÊNCIAS</td>\n",
       "      <td>F</td>\n",
       "      <td>46</td>\n",
       "      <td>Adult</td>\n",
       "    </tr>\n",
       "  </tbody>\n",
       "</table>\n",
       "</div>"
      ],
      "text/plain": [
       "   UniqueID Facility         Payer    SpecificService CategoryofService Sex  \\\n",
       "0         1     HCIS  PARTICULARES    RX CONVENCIONAL  CONSULTA EXTERNA   F   \n",
       "1         1      CCA  PARTICULARES     URGÊNCIA GERAL         URGÊNCIAS   F   \n",
       "2         1      HCS          ADSE  GASTROENTEROLOGIA       IMAGIOLOGIA   F   \n",
       "3         1     HCIS          ADSE            RECOBRO               NaN   F   \n",
       "4         2      HCS          ADSE     NEURO-CIRURGIA         URGÊNCIAS   F   \n",
       "\n",
       "   Age Age_Group  \n",
       "0   56     Adult  \n",
       "1   56     Adult  \n",
       "2   56     Adult  \n",
       "3   56     Adult  \n",
       "4   46     Adult  "
      ]
     },
     "execution_count": 14,
     "metadata": {},
     "output_type": "execute_result"
    }
   ],
   "source": [
    "data.head()"
   ]
  },
  {
   "cell_type": "markdown",
   "metadata": {},
   "source": [
    "### Data Cleaning"
   ]
  },
  {
   "cell_type": "code",
   "execution_count": 15,
   "metadata": {},
   "outputs": [],
   "source": [
    "# Add when get real data"
   ]
  },
  {
   "cell_type": "markdown",
   "metadata": {},
   "source": [
    "### Export Dataset\n",
    "Use pickle format so that df reads into notebook faster "
   ]
  },
  {
   "cell_type": "code",
   "execution_count": 16,
   "metadata": {},
   "outputs": [],
   "source": [
    "# This is the long format, the transaction table \n",
    "data.to_pickle(\"cleaned_data.pkl\")"
   ]
  },
  {
   "cell_type": "code",
   "execution_count": 1,
   "metadata": {},
   "outputs": [
    {
     "ename": "NameError",
     "evalue": "name 'customers' is not defined",
     "output_type": "error",
     "traceback": [
      "\u001b[0;31m---------------------------------------------------------------------------\u001b[0m",
      "\u001b[0;31mNameError\u001b[0m                                 Traceback (most recent call last)",
      "\u001b[0;32m<ipython-input-1-5da4bd601fed>\u001b[0m in \u001b[0;36m<module>\u001b[0;34m\u001b[0m\n\u001b[1;32m      1\u001b[0m \u001b[0;31m# This is the wide format, the customer table\u001b[0m\u001b[0;34m\u001b[0m\u001b[0;34m\u001b[0m\u001b[0;34m\u001b[0m\u001b[0m\n\u001b[0;32m----> 2\u001b[0;31m \u001b[0mcustomers\u001b[0m\u001b[0;34m.\u001b[0m\u001b[0mto_pickle\u001b[0m\u001b[0;34m(\u001b[0m\u001b[0;34m\"customer_data.pkl\"\u001b[0m\u001b[0;34m)\u001b[0m\u001b[0;34m\u001b[0m\u001b[0;34m\u001b[0m\u001b[0m\n\u001b[0m",
      "\u001b[0;31mNameError\u001b[0m: name 'customers' is not defined"
     ]
    }
   ],
   "source": [
    "# This is the wide format, the customer table \n",
    "customers.to_pickle(\"customer_data.pkl\")"
   ]
  },
  {
   "cell_type": "code",
   "execution_count": null,
   "metadata": {},
   "outputs": [],
   "source": []
  }
 ],
 "metadata": {
  "kernelspec": {
   "display_name": "Python 3",
   "language": "python",
   "name": "python3"
  },
  "language_info": {
   "codemirror_mode": {
    "name": "ipython",
    "version": 3
   },
   "file_extension": ".py",
   "mimetype": "text/x-python",
   "name": "python",
   "nbconvert_exporter": "python",
   "pygments_lexer": "ipython3",
   "version": "3.7.3"
  }
 },
 "nbformat": 4,
 "nbformat_minor": 2
}
