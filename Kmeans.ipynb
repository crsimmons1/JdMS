{
 "cells": [
  {
   "cell_type": "markdown",
   "metadata": {},
   "source": [
    "# KMeans"
   ]
  },
  {
   "cell_type": "markdown",
   "metadata": {},
   "source": [
    "### Import the packages and data "
   ]
  },
  {
   "cell_type": "code",
   "execution_count": 1,
   "metadata": {},
   "outputs": [],
   "source": [
    "from IPython.display import Image\n",
    "import pandas as pd\n",
    "import numpy as np\n",
    "import matplotlib\n",
    "import matplotlib.pyplot as plt\n",
    "import warnings\n",
    "warnings.simplefilter(\"ignore\")\n",
    "%matplotlib inline\n",
    "\n",
    "matplotlib.rcParams['figure.figsize'] = [12, 12]\n",
    "pd.set_option(\"precision\", 5)"
   ]
  },
  {
   "cell_type": "code",
   "execution_count": 36,
   "metadata": {},
   "outputs": [],
   "source": [
    "data = pd.read_csv('Data/customer_data.csv')\n",
    "pca_data = pd.read_csv('Data/pca_customer_data.csv')\n",
    "#data = table.to_pandas()"
   ]
  },
  {
   "cell_type": "code",
   "execution_count": 37,
   "metadata": {},
   "outputs": [
    {
     "data": {
      "text/plain": [
       "(810341, 7)"
      ]
     },
     "execution_count": 37,
     "metadata": {},
     "output_type": "execute_result"
    }
   ],
   "source": [
    "data.shape"
   ]
  },
  {
   "cell_type": "code",
   "execution_count": 38,
   "metadata": {},
   "outputs": [
    {
     "data": {
      "text/plain": [
       "(810341, 16)"
      ]
     },
     "execution_count": 38,
     "metadata": {},
     "output_type": "execute_result"
    }
   ],
   "source": [
    "pca_data.shape"
   ]
  },
  {
   "cell_type": "markdown",
   "metadata": {},
   "source": [
    "### Edit PCA df "
   ]
  },
  {
   "cell_type": "code",
   "execution_count": 39,
   "metadata": {},
   "outputs": [
    {
     "data": {
      "text/html": [
       "<div>\n",
       "<style scoped>\n",
       "    .dataframe tbody tr th:only-of-type {\n",
       "        vertical-align: middle;\n",
       "    }\n",
       "\n",
       "    .dataframe tbody tr th {\n",
       "        vertical-align: top;\n",
       "    }\n",
       "\n",
       "    .dataframe thead th {\n",
       "        text-align: right;\n",
       "    }\n",
       "</style>\n",
       "<table border=\"1\" class=\"dataframe\">\n",
       "  <thead>\n",
       "    <tr style=\"text-align: right;\">\n",
       "      <th></th>\n",
       "      <th>Unnamed: 0</th>\n",
       "      <th>PC1</th>\n",
       "      <th>PC2</th>\n",
       "      <th>PC3</th>\n",
       "      <th>PC4</th>\n",
       "      <th>PC5</th>\n",
       "      <th>PC6</th>\n",
       "      <th>PC7</th>\n",
       "      <th>PC8</th>\n",
       "      <th>PC9</th>\n",
       "      <th>PC10</th>\n",
       "      <th>PC11</th>\n",
       "      <th>PC12</th>\n",
       "      <th>PC13</th>\n",
       "      <th>PC14</th>\n",
       "      <th>UniqueID</th>\n",
       "    </tr>\n",
       "  </thead>\n",
       "  <tbody>\n",
       "    <tr>\n",
       "      <th>0</th>\n",
       "      <td>0</td>\n",
       "      <td>-0.36404</td>\n",
       "      <td>-0.10717</td>\n",
       "      <td>-0.00789</td>\n",
       "      <td>-0.10554</td>\n",
       "      <td>0.09196</td>\n",
       "      <td>-0.06825</td>\n",
       "      <td>0.0391</td>\n",
       "      <td>0.17101</td>\n",
       "      <td>-0.17915</td>\n",
       "      <td>0.14691</td>\n",
       "      <td>0.80468</td>\n",
       "      <td>0.11034</td>\n",
       "      <td>0.69459</td>\n",
       "      <td>-0.16208</td>\n",
       "      <td>57c316839e1dbcd90f5d1bd6eb42d12f</td>\n",
       "    </tr>\n",
       "    <tr>\n",
       "      <th>1</th>\n",
       "      <td>1</td>\n",
       "      <td>-0.36560</td>\n",
       "      <td>-0.13389</td>\n",
       "      <td>0.01515</td>\n",
       "      <td>-0.16260</td>\n",
       "      <td>0.24113</td>\n",
       "      <td>-0.05589</td>\n",
       "      <td>-0.1317</td>\n",
       "      <td>0.18636</td>\n",
       "      <td>-0.58668</td>\n",
       "      <td>-0.59495</td>\n",
       "      <td>0.07516</td>\n",
       "      <td>0.54612</td>\n",
       "      <td>0.04684</td>\n",
       "      <td>-0.01282</td>\n",
       "      <td>4d29a19dfe6806f18bce01bb0fe85675</td>\n",
       "    </tr>\n",
       "  </tbody>\n",
       "</table>\n",
       "</div>"
      ],
      "text/plain": [
       "   Unnamed: 0      PC1      PC2      PC3      PC4      PC5      PC6     PC7  \\\n",
       "0           0 -0.36404 -0.10717 -0.00789 -0.10554  0.09196 -0.06825  0.0391   \n",
       "1           1 -0.36560 -0.13389  0.01515 -0.16260  0.24113 -0.05589 -0.1317   \n",
       "\n",
       "       PC8      PC9     PC10     PC11     PC12     PC13     PC14  \\\n",
       "0  0.17101 -0.17915  0.14691  0.80468  0.11034  0.69459 -0.16208   \n",
       "1  0.18636 -0.58668 -0.59495  0.07516  0.54612  0.04684 -0.01282   \n",
       "\n",
       "                           UniqueID  \n",
       "0  57c316839e1dbcd90f5d1bd6eb42d12f  \n",
       "1  4d29a19dfe6806f18bce01bb0fe85675  "
      ]
     },
     "execution_count": 39,
     "metadata": {},
     "output_type": "execute_result"
    }
   ],
   "source": [
    "pca_data.head(2)"
   ]
  },
  {
   "cell_type": "code",
   "execution_count": 40,
   "metadata": {},
   "outputs": [],
   "source": [
    "del pca_data[\"Unnamed: 0\"]\n",
    "pca_data = pca_data.drop(columns=\"UniqueID\")"
   ]
  },
  {
   "cell_type": "code",
   "execution_count": 41,
   "metadata": {},
   "outputs": [
    {
     "data": {
      "text/html": [
       "<div>\n",
       "<style scoped>\n",
       "    .dataframe tbody tr th:only-of-type {\n",
       "        vertical-align: middle;\n",
       "    }\n",
       "\n",
       "    .dataframe tbody tr th {\n",
       "        vertical-align: top;\n",
       "    }\n",
       "\n",
       "    .dataframe thead th {\n",
       "        text-align: right;\n",
       "    }\n",
       "</style>\n",
       "<table border=\"1\" class=\"dataframe\">\n",
       "  <thead>\n",
       "    <tr style=\"text-align: right;\">\n",
       "      <th></th>\n",
       "      <th>PC1</th>\n",
       "      <th>PC2</th>\n",
       "      <th>PC3</th>\n",
       "      <th>PC4</th>\n",
       "      <th>PC5</th>\n",
       "      <th>PC6</th>\n",
       "      <th>PC7</th>\n",
       "      <th>PC8</th>\n",
       "      <th>PC9</th>\n",
       "      <th>PC10</th>\n",
       "      <th>PC11</th>\n",
       "      <th>PC12</th>\n",
       "      <th>PC13</th>\n",
       "      <th>PC14</th>\n",
       "    </tr>\n",
       "  </thead>\n",
       "  <tbody>\n",
       "    <tr>\n",
       "      <th>0</th>\n",
       "      <td>-0.36404</td>\n",
       "      <td>-0.10717</td>\n",
       "      <td>-0.00789</td>\n",
       "      <td>-0.10554</td>\n",
       "      <td>0.09196</td>\n",
       "      <td>-0.06825</td>\n",
       "      <td>0.03910</td>\n",
       "      <td>0.17101</td>\n",
       "      <td>-0.17915</td>\n",
       "      <td>0.14691</td>\n",
       "      <td>0.80468</td>\n",
       "      <td>0.11034</td>\n",
       "      <td>0.69459</td>\n",
       "      <td>-0.16208</td>\n",
       "    </tr>\n",
       "    <tr>\n",
       "      <th>1</th>\n",
       "      <td>-0.36560</td>\n",
       "      <td>-0.13389</td>\n",
       "      <td>0.01515</td>\n",
       "      <td>-0.16260</td>\n",
       "      <td>0.24113</td>\n",
       "      <td>-0.05589</td>\n",
       "      <td>-0.13170</td>\n",
       "      <td>0.18636</td>\n",
       "      <td>-0.58668</td>\n",
       "      <td>-0.59495</td>\n",
       "      <td>0.07516</td>\n",
       "      <td>0.54612</td>\n",
       "      <td>0.04684</td>\n",
       "      <td>-0.01282</td>\n",
       "    </tr>\n",
       "    <tr>\n",
       "      <th>2</th>\n",
       "      <td>-0.36401</td>\n",
       "      <td>-0.05898</td>\n",
       "      <td>0.02148</td>\n",
       "      <td>-0.04153</td>\n",
       "      <td>0.26839</td>\n",
       "      <td>-0.13968</td>\n",
       "      <td>0.77005</td>\n",
       "      <td>0.41539</td>\n",
       "      <td>-0.24586</td>\n",
       "      <td>-0.00061</td>\n",
       "      <td>0.22081</td>\n",
       "      <td>-0.38587</td>\n",
       "      <td>-0.35096</td>\n",
       "      <td>0.76436</td>\n",
       "    </tr>\n",
       "    <tr>\n",
       "      <th>3</th>\n",
       "      <td>-0.36489</td>\n",
       "      <td>-0.08467</td>\n",
       "      <td>0.00930</td>\n",
       "      <td>-0.12243</td>\n",
       "      <td>0.06414</td>\n",
       "      <td>-0.05118</td>\n",
       "      <td>0.04338</td>\n",
       "      <td>0.13623</td>\n",
       "      <td>-0.12857</td>\n",
       "      <td>0.08936</td>\n",
       "      <td>0.27436</td>\n",
       "      <td>0.15645</td>\n",
       "      <td>-0.06833</td>\n",
       "      <td>0.02335</td>\n",
       "    </tr>\n",
       "    <tr>\n",
       "      <th>4</th>\n",
       "      <td>-0.37239</td>\n",
       "      <td>-0.70735</td>\n",
       "      <td>-0.07343</td>\n",
       "      <td>0.44328</td>\n",
       "      <td>-0.13789</td>\n",
       "      <td>-0.14192</td>\n",
       "      <td>-0.23243</td>\n",
       "      <td>0.57566</td>\n",
       "      <td>0.67778</td>\n",
       "      <td>-0.15119</td>\n",
       "      <td>-0.19604</td>\n",
       "      <td>0.07654</td>\n",
       "      <td>0.07596</td>\n",
       "      <td>-0.00871</td>\n",
       "    </tr>\n",
       "  </tbody>\n",
       "</table>\n",
       "</div>"
      ],
      "text/plain": [
       "       PC1      PC2      PC3      PC4      PC5      PC6      PC7      PC8  \\\n",
       "0 -0.36404 -0.10717 -0.00789 -0.10554  0.09196 -0.06825  0.03910  0.17101   \n",
       "1 -0.36560 -0.13389  0.01515 -0.16260  0.24113 -0.05589 -0.13170  0.18636   \n",
       "2 -0.36401 -0.05898  0.02148 -0.04153  0.26839 -0.13968  0.77005  0.41539   \n",
       "3 -0.36489 -0.08467  0.00930 -0.12243  0.06414 -0.05118  0.04338  0.13623   \n",
       "4 -0.37239 -0.70735 -0.07343  0.44328 -0.13789 -0.14192 -0.23243  0.57566   \n",
       "\n",
       "       PC9     PC10     PC11     PC12     PC13     PC14  \n",
       "0 -0.17915  0.14691  0.80468  0.11034  0.69459 -0.16208  \n",
       "1 -0.58668 -0.59495  0.07516  0.54612  0.04684 -0.01282  \n",
       "2 -0.24586 -0.00061  0.22081 -0.38587 -0.35096  0.76436  \n",
       "3 -0.12857  0.08936  0.27436  0.15645 -0.06833  0.02335  \n",
       "4  0.67778 -0.15119 -0.19604  0.07654  0.07596 -0.00871  "
      ]
     },
     "execution_count": 41,
     "metadata": {},
     "output_type": "execute_result"
    }
   ],
   "source": [
    "pca_data.head()"
   ]
  },
  {
   "cell_type": "markdown",
   "metadata": {},
   "source": [
    "### Edit Customer df"
   ]
  },
  {
   "cell_type": "code",
   "execution_count": 164,
   "metadata": {},
   "outputs": [],
   "source": [
    "#data = data[0:1000]"
   ]
  },
  {
   "cell_type": "code",
   "execution_count": 42,
   "metadata": {},
   "outputs": [
    {
     "data": {
      "text/html": [
       "<div>\n",
       "<style scoped>\n",
       "    .dataframe tbody tr th:only-of-type {\n",
       "        vertical-align: middle;\n",
       "    }\n",
       "\n",
       "    .dataframe tbody tr th {\n",
       "        vertical-align: top;\n",
       "    }\n",
       "\n",
       "    .dataframe thead th {\n",
       "        text-align: right;\n",
       "    }\n",
       "</style>\n",
       "<table border=\"1\" class=\"dataframe\">\n",
       "  <thead>\n",
       "    <tr style=\"text-align: right;\">\n",
       "      <th></th>\n",
       "      <th>Unnamed: 0</th>\n",
       "      <th>UniqueID</th>\n",
       "      <th>FrequencyofVisits</th>\n",
       "      <th>Age</th>\n",
       "      <th>Sex</th>\n",
       "      <th>Payer</th>\n",
       "      <th>Facility</th>\n",
       "    </tr>\n",
       "  </thead>\n",
       "  <tbody>\n",
       "    <tr>\n",
       "      <th>0</th>\n",
       "      <td>0</td>\n",
       "      <td>57c316839e1dbcd90f5d1bd6eb42d12f</td>\n",
       "      <td>3</td>\n",
       "      <td>37.0</td>\n",
       "      <td>Feminino</td>\n",
       "      <td>FUTURE HEALTHCARE</td>\n",
       "      <td>HCS</td>\n",
       "    </tr>\n",
       "    <tr>\n",
       "      <th>1</th>\n",
       "      <td>1</td>\n",
       "      <td>4d29a19dfe6806f18bce01bb0fe85675</td>\n",
       "      <td>13</td>\n",
       "      <td>37.0</td>\n",
       "      <td>Feminino</td>\n",
       "      <td>FUTURE HEALTHCARE</td>\n",
       "      <td>ICDT</td>\n",
       "    </tr>\n",
       "  </tbody>\n",
       "</table>\n",
       "</div>"
      ],
      "text/plain": [
       "   Unnamed: 0                          UniqueID  FrequencyofVisits   Age  \\\n",
       "0           0  57c316839e1dbcd90f5d1bd6eb42d12f                  3  37.0   \n",
       "1           1  4d29a19dfe6806f18bce01bb0fe85675                 13  37.0   \n",
       "\n",
       "        Sex              Payer Facility  \n",
       "0  Feminino  FUTURE HEALTHCARE      HCS  \n",
       "1  Feminino  FUTURE HEALTHCARE     ICDT  "
      ]
     },
     "execution_count": 42,
     "metadata": {},
     "output_type": "execute_result"
    }
   ],
   "source": [
    "data.head(2)"
   ]
  },
  {
   "cell_type": "code",
   "execution_count": 44,
   "metadata": {},
   "outputs": [],
   "source": [
    "del data[\"Unnamed: 0\"]\n",
    "data = data.drop(columns=\"UniqueID\")"
   ]
  },
  {
   "cell_type": "code",
   "execution_count": 45,
   "metadata": {},
   "outputs": [
    {
     "data": {
      "text/html": [
       "<div>\n",
       "<style scoped>\n",
       "    .dataframe tbody tr th:only-of-type {\n",
       "        vertical-align: middle;\n",
       "    }\n",
       "\n",
       "    .dataframe tbody tr th {\n",
       "        vertical-align: top;\n",
       "    }\n",
       "\n",
       "    .dataframe thead th {\n",
       "        text-align: right;\n",
       "    }\n",
       "</style>\n",
       "<table border=\"1\" class=\"dataframe\">\n",
       "  <thead>\n",
       "    <tr style=\"text-align: right;\">\n",
       "      <th></th>\n",
       "      <th>FrequencyofVisits</th>\n",
       "      <th>Age</th>\n",
       "      <th>Sex</th>\n",
       "      <th>Payer</th>\n",
       "      <th>Facility</th>\n",
       "    </tr>\n",
       "  </thead>\n",
       "  <tbody>\n",
       "    <tr>\n",
       "      <th>0</th>\n",
       "      <td>3</td>\n",
       "      <td>37.0</td>\n",
       "      <td>Feminino</td>\n",
       "      <td>FUTURE HEALTHCARE</td>\n",
       "      <td>HCS</td>\n",
       "    </tr>\n",
       "    <tr>\n",
       "      <th>1</th>\n",
       "      <td>13</td>\n",
       "      <td>37.0</td>\n",
       "      <td>Feminino</td>\n",
       "      <td>FUTURE HEALTHCARE</td>\n",
       "      <td>ICDT</td>\n",
       "    </tr>\n",
       "  </tbody>\n",
       "</table>\n",
       "</div>"
      ],
      "text/plain": [
       "   FrequencyofVisits   Age       Sex              Payer Facility\n",
       "0                  3  37.0  Feminino  FUTURE HEALTHCARE      HCS\n",
       "1                 13  37.0  Feminino  FUTURE HEALTHCARE     ICDT"
      ]
     },
     "execution_count": 45,
     "metadata": {},
     "output_type": "execute_result"
    }
   ],
   "source": [
    "data.head(2)"
   ]
  },
  {
   "cell_type": "markdown",
   "metadata": {},
   "source": [
    "## Working with K-means"
   ]
  },
  {
   "cell_type": "markdown",
   "metadata": {},
   "source": [
    "### Loading the data "
   ]
  },
  {
   "cell_type": "code",
   "execution_count": 46,
   "metadata": {},
   "outputs": [
    {
     "data": {
      "text/plain": [
       "PC1     float64\n",
       "PC2     float64\n",
       "PC3     float64\n",
       "PC4     float64\n",
       "PC5     float64\n",
       "PC6     float64\n",
       "PC7     float64\n",
       "PC8     float64\n",
       "PC9     float64\n",
       "PC10    float64\n",
       "PC11    float64\n",
       "PC12    float64\n",
       "PC13    float64\n",
       "PC14    float64\n",
       "dtype: object"
      ]
     },
     "execution_count": 46,
     "metadata": {},
     "output_type": "execute_result"
    }
   ],
   "source": [
    "pca_data.dtypes"
   ]
  },
  {
   "cell_type": "code",
   "execution_count": 47,
   "metadata": {},
   "outputs": [
    {
     "data": {
      "text/plain": [
       "False"
      ]
     },
     "execution_count": 47,
     "metadata": {},
     "output_type": "execute_result"
    }
   ],
   "source": [
    "pca_data.isnull().values.any()"
   ]
  },
  {
   "cell_type": "markdown",
   "metadata": {},
   "source": [
    "### K-means"
   ]
  },
  {
   "cell_type": "code",
   "execution_count": 48,
   "metadata": {},
   "outputs": [],
   "source": [
    "from sklearn.cluster import KMeans"
   ]
  },
  {
   "cell_type": "code",
   "execution_count": 49,
   "metadata": {},
   "outputs": [],
   "source": [
    "data_processed= pca_data.dropna()"
   ]
  },
  {
   "cell_type": "code",
   "execution_count": 50,
   "metadata": {},
   "outputs": [
    {
     "data": {
      "text/plain": [
       "KMeans(algorithm='auto', copy_x=True, init='k-means++', max_iter=300,\n",
       "    n_clusters=3, n_init=10, n_jobs=None, precompute_distances='auto',\n",
       "    random_state=42, tol=0.0001, verbose=0)"
      ]
     },
     "execution_count": 50,
     "metadata": {},
     "output_type": "execute_result"
    }
   ],
   "source": [
    "estimator_kmeans = KMeans(random_state=42, n_clusters=3)\n",
    "estimator_kmeans.fit(data_processed)"
   ]
  },
  {
   "cell_type": "code",
   "execution_count": 51,
   "metadata": {},
   "outputs": [],
   "source": [
    "cluster_labels = estimator_kmeans.labels_\n",
    "#cluster_labels"
   ]
  },
  {
   "cell_type": "code",
   "execution_count": 52,
   "metadata": {},
   "outputs": [],
   "source": [
    "#seperate the data into test and train and use train all the way and use \".predict\" for the test"
   ]
  },
  {
   "cell_type": "code",
   "execution_count": 53,
   "metadata": {},
   "outputs": [],
   "source": [
    "centroids = estimator_kmeans.cluster_centers_"
   ]
  },
  {
   "cell_type": "code",
   "execution_count": 54,
   "metadata": {},
   "outputs": [
    {
     "data": {
      "text/plain": [
       "(3, 14)"
      ]
     },
     "execution_count": 54,
     "metadata": {},
     "output_type": "execute_result"
    }
   ],
   "source": [
    "centroids.shape"
   ]
  },
  {
   "cell_type": "code",
   "execution_count": 55,
   "metadata": {},
   "outputs": [
    {
     "data": {
      "text/plain": [
       "993707.2778021018"
      ]
     },
     "execution_count": 55,
     "metadata": {},
     "output_type": "execute_result"
    }
   ],
   "source": [
    "estimator_kmeans.inertia_"
   ]
  },
  {
   "cell_type": "code",
   "execution_count": 56,
   "metadata": {},
   "outputs": [],
   "source": [
    "from sklearn.metrics import euclidean_distances"
   ]
  },
  {
   "cell_type": "code",
   "execution_count": 57,
   "metadata": {},
   "outputs": [],
   "source": [
    "centroid_distances = euclidean_distances(centroids)"
   ]
  },
  {
   "cell_type": "code",
   "execution_count": 58,
   "metadata": {},
   "outputs": [
    {
     "data": {
      "text/plain": [
       "(3, 3)"
      ]
     },
     "execution_count": 58,
     "metadata": {},
     "output_type": "execute_result"
    }
   ],
   "source": [
    "centroid_distances.shape"
   ]
  },
  {
   "cell_type": "code",
   "execution_count": 59,
   "metadata": {},
   "outputs": [
    {
     "data": {
      "text/plain": [
       "(810341,)"
      ]
     },
     "execution_count": 59,
     "metadata": {},
     "output_type": "execute_result"
    }
   ],
   "source": [
    "estimator_kmeans.labels_.shape"
   ]
  },
  {
   "cell_type": "code",
   "execution_count": null,
   "metadata": {},
   "outputs": [],
   "source": [
    "#Add cluster label to both df's\n",
    "pca_data['cluster_id'] = cluster_labels\n",
    "data['cluster_id'] = cluster_labels\n",
    "processed_data['cluster_id'] = cluster_labels"
   ]
  },
  {
   "cell_type": "code",
   "execution_count": 65,
   "metadata": {},
   "outputs": [],
   "source": [
    "numerical_data = data.select_dtypes(np.number)\n",
    "categorical_data = data.select_dtypes([object, \"category\"])"
   ]
  },
  {
   "cell_type": "code",
   "execution_count": 66,
   "metadata": {},
   "outputs": [
    {
     "data": {
      "text/html": [
       "<div>\n",
       "<style scoped>\n",
       "    .dataframe tbody tr th:only-of-type {\n",
       "        vertical-align: middle;\n",
       "    }\n",
       "\n",
       "    .dataframe tbody tr th {\n",
       "        vertical-align: top;\n",
       "    }\n",
       "\n",
       "    .dataframe thead th {\n",
       "        text-align: right;\n",
       "    }\n",
       "</style>\n",
       "<table border=\"1\" class=\"dataframe\">\n",
       "  <thead>\n",
       "    <tr style=\"text-align: right;\">\n",
       "      <th></th>\n",
       "      <th>FrequencyofVisits</th>\n",
       "      <th>Age</th>\n",
       "      <th>Sex</th>\n",
       "      <th>Payer</th>\n",
       "      <th>Facility</th>\n",
       "      <th>cluster_id</th>\n",
       "    </tr>\n",
       "  </thead>\n",
       "  <tbody>\n",
       "    <tr>\n",
       "      <th>0</th>\n",
       "      <td>3</td>\n",
       "      <td>37.0</td>\n",
       "      <td>Feminino</td>\n",
       "      <td>FUTURE HEALTHCARE</td>\n",
       "      <td>HCS</td>\n",
       "      <td>1</td>\n",
       "    </tr>\n",
       "    <tr>\n",
       "      <th>1</th>\n",
       "      <td>13</td>\n",
       "      <td>37.0</td>\n",
       "      <td>Feminino</td>\n",
       "      <td>FUTURE HEALTHCARE</td>\n",
       "      <td>ICDT</td>\n",
       "      <td>1</td>\n",
       "    </tr>\n",
       "    <tr>\n",
       "      <th>2</th>\n",
       "      <td>6</td>\n",
       "      <td>37.0</td>\n",
       "      <td>Feminino</td>\n",
       "      <td>ADVANCECARE</td>\n",
       "      <td>CCB</td>\n",
       "      <td>1</td>\n",
       "    </tr>\n",
       "    <tr>\n",
       "      <th>3</th>\n",
       "      <td>6</td>\n",
       "      <td>37.0</td>\n",
       "      <td>Feminino</td>\n",
       "      <td>IASFA</td>\n",
       "      <td>CCMF</td>\n",
       "      <td>1</td>\n",
       "    </tr>\n",
       "    <tr>\n",
       "      <th>4</th>\n",
       "      <td>13</td>\n",
       "      <td>37.0</td>\n",
       "      <td>Feminino</td>\n",
       "      <td>ADSE</td>\n",
       "      <td>CCC</td>\n",
       "      <td>0</td>\n",
       "    </tr>\n",
       "  </tbody>\n",
       "</table>\n",
       "</div>"
      ],
      "text/plain": [
       "   FrequencyofVisits   Age       Sex              Payer Facility  cluster_id\n",
       "0                  3  37.0  Feminino  FUTURE HEALTHCARE      HCS           1\n",
       "1                 13  37.0  Feminino  FUTURE HEALTHCARE     ICDT           1\n",
       "2                  6  37.0  Feminino        ADVANCECARE      CCB           1\n",
       "3                  6  37.0  Feminino              IASFA     CCMF           1\n",
       "4                 13  37.0  Feminino               ADSE      CCC           0"
      ]
     },
     "execution_count": 66,
     "metadata": {},
     "output_type": "execute_result"
    }
   ],
   "source": [
    "data.head()"
   ]
  },
  {
   "cell_type": "code",
   "execution_count": 67,
   "metadata": {},
   "outputs": [],
   "source": [
    "def cluster_summary(cluster_id):\n",
    "    cluster = data[data.cluster_id==cluster_id]\n",
    "    cluster_summary = cluster[categorical_data.columns].mode().to_dict(orient=\"records\")[0]\n",
    "    cluster_summary.update(cluster.mean().to_dict())\n",
    "    return cluster_summary"
   ]
  },
  {
   "cell_type": "code",
   "execution_count": 72,
   "metadata": {},
   "outputs": [
    {
     "data": {
      "text/plain": [
       "[{'Sex': 'Masculino', 'Payer': 'MULTICARE', 'Facility': 'HCD'}]"
      ]
     },
     "execution_count": 72,
     "metadata": {},
     "output_type": "execute_result"
    }
   ],
   "source": [
    "cluster = data[data.cluster_id==2]\n",
    "cluster[categorical_data.columns].mode().to_dict(orient=\"records\")"
   ]
  },
  {
   "cell_type": "code",
   "execution_count": 69,
   "metadata": {},
   "outputs": [
    {
     "data": {
      "text/plain": [
       "{'Sex': 'Feminino',\n",
       " 'Payer': 'MULTICARE',\n",
       " 'Facility': 'HCD',\n",
       " 'FrequencyofVisits': 7.583388741001754,\n",
       " 'Age': 51.480476898002685,\n",
       " 'cluster_id': 1.0}"
      ]
     },
     "execution_count": 69,
     "metadata": {},
     "output_type": "execute_result"
    }
   ],
   "source": [
    "cluster_summary(1)"
   ]
  },
  {
   "cell_type": "code",
   "execution_count": 84,
   "metadata": {},
   "outputs": [
    {
     "data": {
      "text/plain": [
       "1.2436452524992418"
      ]
     },
     "execution_count": 84,
     "metadata": {},
     "output_type": "execute_result"
    }
   ],
   "source": [
    "# Distance between centroid of cluster 0 and 2 \n",
    "centroid_distances[0,2]"
   ]
  },
  {
   "cell_type": "code",
   "execution_count": 70,
   "metadata": {},
   "outputs": [],
   "source": [
    "def cluster_comparison(*cluster_ids):\n",
    "    summaries = []\n",
    "    for cluster_id in cluster_ids:\n",
    "        summaries.append(cluster_summary(cluster_id))\n",
    "    return pd.DataFrame(summaries).set_index(\"cluster_id\").T"
   ]
  },
  {
   "cell_type": "code",
   "execution_count": 71,
   "metadata": {},
   "outputs": [
    {
     "data": {
      "text/html": [
       "<div>\n",
       "<style scoped>\n",
       "    .dataframe tbody tr th:only-of-type {\n",
       "        vertical-align: middle;\n",
       "    }\n",
       "\n",
       "    .dataframe tbody tr th {\n",
       "        vertical-align: top;\n",
       "    }\n",
       "\n",
       "    .dataframe thead th {\n",
       "        text-align: right;\n",
       "    }\n",
       "</style>\n",
       "<table border=\"1\" class=\"dataframe\">\n",
       "  <thead>\n",
       "    <tr style=\"text-align: right;\">\n",
       "      <th>cluster_id</th>\n",
       "      <th>0.0</th>\n",
       "      <th>1.0</th>\n",
       "      <th>2.0</th>\n",
       "    </tr>\n",
       "  </thead>\n",
       "  <tbody>\n",
       "    <tr>\n",
       "      <th>Age</th>\n",
       "      <td>51.79</td>\n",
       "      <td>51.48</td>\n",
       "      <td>52.358</td>\n",
       "    </tr>\n",
       "    <tr>\n",
       "      <th>Facility</th>\n",
       "      <td>HCP</td>\n",
       "      <td>HCD</td>\n",
       "      <td>HCD</td>\n",
       "    </tr>\n",
       "    <tr>\n",
       "      <th>FrequencyofVisits</th>\n",
       "      <td>8.1547</td>\n",
       "      <td>7.5834</td>\n",
       "      <td>7.5536</td>\n",
       "    </tr>\n",
       "    <tr>\n",
       "      <th>Payer</th>\n",
       "      <td>ADSE</td>\n",
       "      <td>MULTICARE</td>\n",
       "      <td>MULTICARE</td>\n",
       "    </tr>\n",
       "    <tr>\n",
       "      <th>Sex</th>\n",
       "      <td>Feminino</td>\n",
       "      <td>Feminino</td>\n",
       "      <td>Masculino</td>\n",
       "    </tr>\n",
       "  </tbody>\n",
       "</table>\n",
       "</div>"
      ],
      "text/plain": [
       "cluster_id              0.0        1.0        2.0\n",
       "Age                   51.79      51.48     52.358\n",
       "Facility                HCP        HCD        HCD\n",
       "FrequencyofVisits    8.1547     7.5834     7.5536\n",
       "Payer                  ADSE  MULTICARE  MULTICARE\n",
       "Sex                Feminino   Feminino  Masculino"
      ]
     },
     "execution_count": 71,
     "metadata": {},
     "output_type": "execute_result"
    }
   ],
   "source": [
    "cluster_comparison(0,1,2)"
   ]
  },
  {
   "cell_type": "code",
   "execution_count": 73,
   "metadata": {},
   "outputs": [],
   "source": [
    "def kmeans_cluster(df, n_clusters=3):\n",
    "    model = KMeans(n_clusters=n_clusters, random_state=42)\n",
    "    clusters = model.fit_predict(df)\n",
    "    cluster_results = df.copy()\n",
    "    cluster_results['Cluster'] = clusters\n",
    "    return cluster_results\n",
    "\n",
    "def graph_summary_clustering(results):\n",
    "    cluster_size = results.groupby(['Cluster']).size().reset_index()\n",
    "    cluster_size.columns = ['Cluster', 'Count']\n",
    "    cluster_means = results.groupby(['Cluster'], as_index=False).mean()\n",
    "    cluster_summary = pd.merge(cluster_size, cluster_means, on='Cluster')\n",
    "    cluster_summary = cluster_summary.drop([\"Count\"], axis=1).set_index(\"Cluster\")\n",
    "    return cluster_summary[sorted(cluster_summary.columns)]"
   ]
  },
  {
   "cell_type": "code",
   "execution_count": 74,
   "metadata": {},
   "outputs": [
    {
     "data": {
      "text/html": [
       "<div>\n",
       "<style scoped>\n",
       "    .dataframe tbody tr th:only-of-type {\n",
       "        vertical-align: middle;\n",
       "    }\n",
       "\n",
       "    .dataframe tbody tr th {\n",
       "        vertical-align: top;\n",
       "    }\n",
       "\n",
       "    .dataframe thead th {\n",
       "        text-align: right;\n",
       "    }\n",
       "</style>\n",
       "<table border=\"1\" class=\"dataframe\">\n",
       "  <thead>\n",
       "    <tr style=\"text-align: right;\">\n",
       "      <th></th>\n",
       "      <th>PC1</th>\n",
       "      <th>PC10</th>\n",
       "      <th>PC11</th>\n",
       "      <th>PC12</th>\n",
       "      <th>PC13</th>\n",
       "      <th>PC14</th>\n",
       "      <th>PC2</th>\n",
       "      <th>PC3</th>\n",
       "      <th>PC4</th>\n",
       "      <th>PC5</th>\n",
       "      <th>PC6</th>\n",
       "      <th>PC7</th>\n",
       "      <th>PC8</th>\n",
       "      <th>PC9</th>\n",
       "    </tr>\n",
       "    <tr>\n",
       "      <th>Cluster</th>\n",
       "      <th></th>\n",
       "      <th></th>\n",
       "      <th></th>\n",
       "      <th></th>\n",
       "      <th></th>\n",
       "      <th></th>\n",
       "      <th></th>\n",
       "      <th></th>\n",
       "      <th></th>\n",
       "      <th></th>\n",
       "      <th></th>\n",
       "      <th></th>\n",
       "      <th></th>\n",
       "      <th></th>\n",
       "    </tr>\n",
       "  </thead>\n",
       "  <tbody>\n",
       "    <tr>\n",
       "      <th>0</th>\n",
       "      <td>-0.00823</td>\n",
       "      <td>-0.02310</td>\n",
       "      <td>-0.05743</td>\n",
       "      <td>-0.05561</td>\n",
       "      <td>0.01197</td>\n",
       "      <td>0.00025</td>\n",
       "      <td>-0.67450</td>\n",
       "      <td>-0.09162</td>\n",
       "      <td>0.51443</td>\n",
       "      <td>-0.13876</td>\n",
       "      <td>-0.04663</td>\n",
       "      <td>-0.08619</td>\n",
       "      <td>-0.06522</td>\n",
       "      <td>0.04114</td>\n",
       "    </tr>\n",
       "    <tr>\n",
       "      <th>1</th>\n",
       "      <td>-0.36101</td>\n",
       "      <td>0.00553</td>\n",
       "      <td>0.01371</td>\n",
       "      <td>0.01331</td>\n",
       "      <td>-0.00282</td>\n",
       "      <td>0.00024</td>\n",
       "      <td>0.16504</td>\n",
       "      <td>0.02166</td>\n",
       "      <td>-0.12348</td>\n",
       "      <td>0.03352</td>\n",
       "      <td>0.01078</td>\n",
       "      <td>0.02071</td>\n",
       "      <td>0.01534</td>\n",
       "      <td>-0.00978</td>\n",
       "    </tr>\n",
       "    <tr>\n",
       "      <th>2</th>\n",
       "      <td>0.63898</td>\n",
       "      <td>0.00551</td>\n",
       "      <td>0.01376</td>\n",
       "      <td>0.01326</td>\n",
       "      <td>-0.00293</td>\n",
       "      <td>-0.00058</td>\n",
       "      <td>0.15459</td>\n",
       "      <td>0.02232</td>\n",
       "      <td>-0.12211</td>\n",
       "      <td>0.03256</td>\n",
       "      <td>0.01179</td>\n",
       "      <td>0.02043</td>\n",
       "      <td>0.01603</td>\n",
       "      <td>-0.00994</td>\n",
       "    </tr>\n",
       "  </tbody>\n",
       "</table>\n",
       "</div>"
      ],
      "text/plain": [
       "             PC1     PC10     PC11     PC12     PC13     PC14      PC2  \\\n",
       "Cluster                                                                  \n",
       "0       -0.00823 -0.02310 -0.05743 -0.05561  0.01197  0.00025 -0.67450   \n",
       "1       -0.36101  0.00553  0.01371  0.01331 -0.00282  0.00024  0.16504   \n",
       "2        0.63898  0.00551  0.01376  0.01326 -0.00293 -0.00058  0.15459   \n",
       "\n",
       "             PC3      PC4      PC5      PC6      PC7      PC8      PC9  \n",
       "Cluster                                                                 \n",
       "0       -0.09162  0.51443 -0.13876 -0.04663 -0.08619 -0.06522  0.04114  \n",
       "1        0.02166 -0.12348  0.03352  0.01078  0.02071  0.01534 -0.00978  \n",
       "2        0.02232 -0.12211  0.03256  0.01179  0.02043  0.01603 -0.00994  "
      ]
     },
     "execution_count": 74,
     "metadata": {},
     "output_type": "execute_result"
    }
   ],
   "source": [
    "cluster_results = kmeans_cluster(data_processed, 3)\n",
    "cluster_summary = graph_summary_clustering(cluster_results);\n",
    "cluster_summary"
   ]
  },
  {
   "cell_type": "code",
   "execution_count": 75,
   "metadata": {},
   "outputs": [
    {
     "data": {
      "image/png": "[encoded data removed]",
      "text/plain": [
       "<Figure size 1008x1008 with 2 Axes>"
      ]
     },
     "metadata": {
      "needs_background": "light"
     },
     "output_type": "display_data"
    }
   ],
   "source": [
    "matplotlib.rcParams['figure.figsize'] = [14, 14]\n",
    "import seaborn as sns\n",
    "sns.heatmap(cluster_summary.transpose(), annot=True);"
   ]
  },
  {
   "cell_type": "markdown",
   "metadata": {},
   "source": [
    "### Ideal number of clusters?"
   ]
  },
  {
   "cell_type": "code",
   "execution_count": 76,
   "metadata": {},
   "outputs": [],
   "source": [
    "from scipy.spatial.distance import cdist"
   ]
  },
  {
   "cell_type": "code",
   "execution_count": 77,
   "metadata": {},
   "outputs": [],
   "source": [
    "total_variance = cdist(\n",
    "    XA=data_processed, \n",
    "    XB=np.array([data_processed.mean()]))"
   ]
  },
  {
   "cell_type": "code",
   "execution_count": 78,
   "metadata": {},
   "outputs": [],
   "source": [
    "total_variance_sum = total_variance.sum()"
   ]
  },
  {
   "cell_type": "code",
   "execution_count": 79,
   "metadata": {},
   "outputs": [],
   "source": [
    "#functions to calculate the Within-Cluster sum of squares (WSS)\n",
    "def cluster_variance(cluster_id, cluster_centroid, cluster_labels):\n",
    "    cluster_elements = data_processed[cluster_labels==cluster_id]\n",
    "    return cdist(XA=cluster_elements, XB=np.array([cluster_centroid])).sum()\n",
    "\n",
    "#explained variance (defined as the reduction of variance compared to the total variance,...\n",
    "# ... which would be the variance where k=1).\n",
    "def variance_measure(estimator_kmeans, total_variance):\n",
    "    clusters_labels = estimator_kmeans.labels_\n",
    "    wss = 0\n",
    "    for i, cluster_id in enumerate(np.unique(clusters_labels)):\n",
    "        cluster_centroid = estimator_kmeans.cluster_centers_[i]\n",
    "        wss += cluster_variance(cluster_id, cluster_centroid, clusters_labels)\n",
    "    return (total_variance-wss) / total_variance"
   ]
  },
  {
   "cell_type": "code",
   "execution_count": 80,
   "metadata": {},
   "outputs": [],
   "source": [
    "# Function that returns the inertia.\n",
    "def inertia_measure(estimator_kmeans):\n",
    "    return estimator_kmeans.inertia_"
   ]
  },
  {
   "cell_type": "code",
   "execution_count": 81,
   "metadata": {},
   "outputs": [],
   "source": [
    "# Create a function that evaluates the intertia and percentage variance explained for a value of K\n",
    "def evaluate_k_kmeans(k, scoring, **kwargs):\n",
    "    scoring_measure = None\n",
    "    if scoring==\"inertia\":\n",
    "        scoring_measure = inertia_measure\n",
    "    elif scoring==\"variance\":\n",
    "        scoring_measure = variance_measure\n",
    "        \n",
    "    estimator_kmeans = KMeans(random_state=42, n_clusters=k)\n",
    "    estimator_kmeans.fit(data_processed)\n",
    "    return scoring_measure(estimator_kmeans, **kwargs)"
   ]
  },
  {
   "cell_type": "code",
   "execution_count": null,
   "metadata": {},
   "outputs": [],
   "source": [
    "results_k = {}\n",
    "range_k = [1,2,3,4,5,6,7,8,9] #range_k gives the number of clusters to evaluate their inertia and variance\n",
    "for k in range_k:\n",
    "    results_k[k] = (\n",
    "        evaluate_k_kmeans(k, \"inertia\"), \n",
    "        evaluate_k_kmeans(k, \"variance\", total_variance=total_variance_sum), \n",
    "    )"
   ]
  },
  {
   "cell_type": "code",
   "execution_count": null,
   "metadata": {},
   "outputs": [],
   "source": [
    "fig, ax1 = plt.subplots()\n",
    "\n",
    "ax1.plot(\n",
    "    [c[0] for c in results_k.items()],\n",
    "    [c[1][0] for c in results_k.items()], label=\"inertia\", color=\"red\")\n",
    "ax1.set_ylabel('inertia', color=\"red\")\n",
    "\n",
    "\n",
    "ax2 = ax1.twinx()\n",
    "ax2.plot(\n",
    "    [c[0] for c in results_k.items()],\n",
    "    [c[1][1] for c in results_k.items()], label=\"percentage variance explained\", color=\"blue\")\n",
    "ax2.set_ylabel('percentage variance', color='blue')\n",
    "\n",
    "plt.xlabel(\"K\")\n",
    "plt.legend()\n",
    "plt.title(\"Percentage variance / Inertia by. K\");"
   ]
  },
  {
   "cell_type": "code",
   "execution_count": null,
   "metadata": {},
   "outputs": [],
   "source": [
    "sse = {}\n",
    "for k in range(1, 10):\n",
    "   kmeans = KMeans(n_clusters=k).fit(data_processed)\n",
    "   #print(data[\"clusters\"])\n",
    "   sse[k] = kmeans.inertia_ # Inertia: Sum of distances of samples to their closest cluster center\n",
    "plt.figure()\n",
    "plt.plot(list(sse.keys()), list(sse.values()))\n",
    "plt.xlabel(\"Number of cluster\")\n",
    "plt.ylabel(\"SSE\")\n",
    "plt.show()"
   ]
  },
  {
   "cell_type": "markdown",
   "metadata": {},
   "source": [
    "## Change the number of clusters "
   ]
  },
  {
   "cell_type": "code",
   "execution_count": null,
   "metadata": {},
   "outputs": [],
   "source": [
    "clusterer = KMeans(n_clusters=6)\n",
    "clusterer.fit(data_processed)"
   ]
  },
  {
   "cell_type": "code",
   "execution_count": null,
   "metadata": {},
   "outputs": [],
   "source": [
    "from sklearn.model_selection import cross_val_score\n",
    "from sklearn.metrics import silhouette_score"
   ]
  },
  {
   "cell_type": "code",
   "execution_count": 190,
   "metadata": {},
   "outputs": [],
   "source": [
    "def silhouette_score_cv(clusterer, X, y=None):\n",
    "    cluster_labels = clusterer.fit_predict(X)\n",
    "    return silhouette_score(X, cluster_labels)"
   ]
  },
  {
   "cell_type": "code",
   "execution_count": 191,
   "metadata": {},
   "outputs": [
    {
     "data": {
      "text/plain": [
       "0.17105614782327164"
      ]
     },
     "execution_count": 191,
     "metadata": {},
     "output_type": "execute_result"
    }
   ],
   "source": [
    "cross_val_score(clusterer, data_processed, y=None, \n",
    "                scoring=silhouette_score_cv, cv=3).mean() #a small value means it is well matched"
   ]
  },
  {
   "cell_type": "code",
   "execution_count": 192,
   "metadata": {},
   "outputs": [
    {
     "data": {
      "text/plain": [
       "3    272\n",
       "2    217\n",
       "1    217\n",
       "5    116\n",
       "0     99\n",
       "4     79\n",
       "dtype: int64"
      ]
     },
     "execution_count": 192,
     "metadata": {},
     "output_type": "execute_result"
    }
   ],
   "source": [
    "pd.Series(clusterer.labels_).value_counts()"
   ]
  },
  {
   "cell_type": "code",
   "execution_count": 193,
   "metadata": {},
   "outputs": [
    {
     "data": {
      "text/html": [
       "<div>\n",
       "<style scoped>\n",
       "    .dataframe tbody tr th:only-of-type {\n",
       "        vertical-align: middle;\n",
       "    }\n",
       "\n",
       "    .dataframe tbody tr th {\n",
       "        vertical-align: top;\n",
       "    }\n",
       "\n",
       "    .dataframe thead th {\n",
       "        text-align: right;\n",
       "    }\n",
       "</style>\n",
       "<table border=\"1\" class=\"dataframe\">\n",
       "  <thead>\n",
       "    <tr style=\"text-align: right;\">\n",
       "      <th></th>\n",
       "      <th>FrequencyofVisits</th>\n",
       "      <th>Age</th>\n",
       "      <th>Sex</th>\n",
       "      <th>Payer</th>\n",
       "      <th>Facility</th>\n",
       "      <th>Cluster</th>\n",
       "      <th>cluster_id</th>\n",
       "    </tr>\n",
       "  </thead>\n",
       "  <tbody>\n",
       "    <tr>\n",
       "      <th>0</th>\n",
       "      <td>1</td>\n",
       "      <td>37.0</td>\n",
       "      <td>Feminino</td>\n",
       "      <td>PARTICULARES</td>\n",
       "      <td>CCTV</td>\n",
       "      <td>3</td>\n",
       "      <td>1</td>\n",
       "    </tr>\n",
       "    <tr>\n",
       "      <th>1</th>\n",
       "      <td>15</td>\n",
       "      <td>37.0</td>\n",
       "      <td>Feminino</td>\n",
       "      <td>IASFA</td>\n",
       "      <td>CCM</td>\n",
       "      <td>3</td>\n",
       "      <td>1</td>\n",
       "    </tr>\n",
       "    <tr>\n",
       "      <th>2</th>\n",
       "      <td>13</td>\n",
       "      <td>37.0</td>\n",
       "      <td>Feminino</td>\n",
       "      <td>MÉDIS</td>\n",
       "      <td>HCD</td>\n",
       "      <td>2</td>\n",
       "      <td>0</td>\n",
       "    </tr>\n",
       "    <tr>\n",
       "      <th>3</th>\n",
       "      <td>32</td>\n",
       "      <td>37.0</td>\n",
       "      <td>Feminino</td>\n",
       "      <td>ALLIANZ</td>\n",
       "      <td>CCA</td>\n",
       "      <td>3</td>\n",
       "      <td>1</td>\n",
       "    </tr>\n",
       "    <tr>\n",
       "      <th>4</th>\n",
       "      <td>1</td>\n",
       "      <td>37.0</td>\n",
       "      <td>Feminino</td>\n",
       "      <td>ADVANCECARE</td>\n",
       "      <td>CCM</td>\n",
       "      <td>3</td>\n",
       "      <td>1</td>\n",
       "    </tr>\n",
       "  </tbody>\n",
       "</table>\n",
       "</div>"
      ],
      "text/plain": [
       "   FrequencyofVisits   Age       Sex         Payer Facility  Cluster  \\\n",
       "0                  1  37.0  Feminino  PARTICULARES     CCTV        3   \n",
       "1                 15  37.0  Feminino         IASFA      CCM        3   \n",
       "2                 13  37.0  Feminino         MÉDIS      HCD        2   \n",
       "3                 32  37.0  Feminino       ALLIANZ      CCA        3   \n",
       "4                  1  37.0  Feminino   ADVANCECARE      CCM        3   \n",
       "\n",
       "   cluster_id  \n",
       "0           1  \n",
       "1           1  \n",
       "2           0  \n",
       "3           1  \n",
       "4           1  "
      ]
     },
     "execution_count": 193,
     "metadata": {},
     "output_type": "execute_result"
    }
   ],
   "source": [
    "new_clusters = clusterer.labels_\n",
    "data[\"Cluster\"] = new_clusters\n",
    "data.head()"
   ]
  },
  {
   "cell_type": "code",
   "execution_count": 197,
   "metadata": {},
   "outputs": [],
   "source": [
    "from sklearn.cluster import MiniBatchKMeans"
   ]
  },
  {
   "cell_type": "code",
   "execution_count": 217,
   "metadata": {},
   "outputs": [
    {
     "name": "stdout",
     "output_type": "stream",
     "text": [
      "CPU times: user 47.5 ms, sys: 1.58 ms, total: 49.1 ms\n",
      "Wall time: 48.1 ms\n"
     ]
    }
   ],
   "source": [
    "%%time\n",
    "estimator_kmeans = KMeans(n_clusters=8).fit(data1)"
   ]
  },
  {
   "cell_type": "code",
   "execution_count": 218,
   "metadata": {},
   "outputs": [],
   "source": [
    "estimator_kmeans = KMeans(n_clusters=8).fit(data1)"
   ]
  },
  {
   "cell_type": "code",
   "execution_count": 219,
   "metadata": {},
   "outputs": [],
   "source": [
    "cluster_labels = estimator_kmeans.labels_"
   ]
  },
  {
   "cell_type": "code",
   "execution_count": 200,
   "metadata": {},
   "outputs": [
    {
     "data": {
      "text/plain": [
       "1386.3767842926277"
      ]
     },
     "execution_count": 200,
     "metadata": {},
     "output_type": "execute_result"
    }
   ],
   "source": [
    "estimator_kmeans.inertia_"
   ]
  },
  {
   "cell_type": "markdown",
   "metadata": {},
   "source": [
    "MiniBatchKMeans is faster and has a higher inertia."
   ]
  },
  {
   "cell_type": "markdown",
   "metadata": {},
   "source": [
    "## Internal Evaluation metrics"
   ]
  },
  {
   "cell_type": "code",
   "execution_count": 204,
   "metadata": {},
   "outputs": [],
   "source": [
    "from IPython.display import Image\n",
    "import pandas as pd\n",
    "import numpy as np\n",
    "import matplotlib\n",
    "import matplotlib.pyplot as plt\n",
    "import warnings\n",
    "warnings.simplefilter(\"ignore\")\n",
    "\n",
    "%matplotlib inline"
   ]
  },
  {
   "cell_type": "code",
   "execution_count": 194,
   "metadata": {},
   "outputs": [],
   "source": [
    "from sklearn.cluster import MiniBatchKMeans"
   ]
  },
  {
   "cell_type": "code",
   "execution_count": 213,
   "metadata": {},
   "outputs": [],
   "source": [
    "data1=data[[\"FrequencyofVisits\",\"Age\"]]"
   ]
  },
  {
   "cell_type": "code",
   "execution_count": 222,
   "metadata": {},
   "outputs": [
    {
     "data": {
      "text/html": [
       "<div>\n",
       "<style scoped>\n",
       "    .dataframe tbody tr th:only-of-type {\n",
       "        vertical-align: middle;\n",
       "    }\n",
       "\n",
       "    .dataframe tbody tr th {\n",
       "        vertical-align: top;\n",
       "    }\n",
       "\n",
       "    .dataframe thead th {\n",
       "        text-align: right;\n",
       "    }\n",
       "</style>\n",
       "<table border=\"1\" class=\"dataframe\">\n",
       "  <thead>\n",
       "    <tr style=\"text-align: right;\">\n",
       "      <th></th>\n",
       "      <th>FrequencyofVisits</th>\n",
       "      <th>Age</th>\n",
       "    </tr>\n",
       "  </thead>\n",
       "  <tbody>\n",
       "    <tr>\n",
       "      <th>0</th>\n",
       "      <td>1</td>\n",
       "      <td>37.0</td>\n",
       "    </tr>\n",
       "    <tr>\n",
       "      <th>1</th>\n",
       "      <td>15</td>\n",
       "      <td>37.0</td>\n",
       "    </tr>\n",
       "    <tr>\n",
       "      <th>2</th>\n",
       "      <td>13</td>\n",
       "      <td>37.0</td>\n",
       "    </tr>\n",
       "    <tr>\n",
       "      <th>3</th>\n",
       "      <td>32</td>\n",
       "      <td>37.0</td>\n",
       "    </tr>\n",
       "    <tr>\n",
       "      <th>4</th>\n",
       "      <td>1</td>\n",
       "      <td>37.0</td>\n",
       "    </tr>\n",
       "  </tbody>\n",
       "</table>\n",
       "</div>"
      ],
      "text/plain": [
       "   FrequencyofVisits   Age\n",
       "0                  1  37.0\n",
       "1                 15  37.0\n",
       "2                 13  37.0\n",
       "3                 32  37.0\n",
       "4                  1  37.0"
      ]
     },
     "execution_count": 222,
     "metadata": {},
     "output_type": "execute_result"
    }
   ],
   "source": [
    "data1.head()"
   ]
  },
  {
   "cell_type": "code",
   "execution_count": 224,
   "metadata": {},
   "outputs": [
    {
     "data": {
      "text/plain": [
       "0.45110692630357624"
      ]
     },
     "execution_count": 224,
     "metadata": {},
     "output_type": "execute_result"
    }
   ],
   "source": [
    "silhouette_score(data1, cluster_labels)"
   ]
  },
  {
   "cell_type": "code",
   "execution_count": null,
   "metadata": {},
   "outputs": [],
   "source": []
  }
 ],
 "metadata": {
  "kernelspec": {
   "display_name": "Python 3",
   "language": "python",
   "name": "python3"
  },
  "language_info": {
   "codemirror_mode": {
    "name": "ipython",
    "version": 3
   },
   "file_extension": ".py",
   "mimetype": "text/x-python",
   "name": "python",
   "nbconvert_exporter": "python",
   "pygments_lexer": "ipython3",
   "version": "3.7.3"
  }
 },
 "nbformat": 4,
 "nbformat_minor": 2
}
